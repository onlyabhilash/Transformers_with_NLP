{
  "nbformat": 4,
  "nbformat_minor": 0,
  "metadata": {
    "colab": {
      "name": "Funnel_IntentRecognition.ipynb",
      "provenance": [],
      "collapsed_sections": [],
      "include_colab_link": true
    },
    "kernelspec": {
      "name": "python3",
      "display_name": "Python 3"
    },
    "accelerator": "GPU",
    "widgets": {
      "application/vnd.jupyter.widget-state+json": {
        "420ee4d0bc104e41b4ed13ca3c83d659": {
          "model_module": "@jupyter-widgets/controls",
          "model_name": "HBoxModel",
          "state": {
            "_view_name": "HBoxView",
            "_dom_classes": [],
            "_model_name": "HBoxModel",
            "_view_module": "@jupyter-widgets/controls",
            "_model_module_version": "1.5.0",
            "_view_count": null,
            "_view_module_version": "1.5.0",
            "box_style": "",
            "layout": "IPY_MODEL_87b974555bda436db962aefbb42afe6f",
            "_model_module": "@jupyter-widgets/controls",
            "children": [
              "IPY_MODEL_98d29932eed1455b90c661fba2148187",
              "IPY_MODEL_91f8281cde244a3490fd0067cb52003a"
            ]
          },
          "model_module_version": "1.5.0"
        },
        "87b974555bda436db962aefbb42afe6f": {
          "model_module": "@jupyter-widgets/base",
          "model_name": "LayoutModel",
          "state": {
            "_view_name": "LayoutView",
            "grid_template_rows": null,
            "right": null,
            "justify_content": null,
            "_view_module": "@jupyter-widgets/base",
            "overflow": null,
            "_model_module_version": "1.2.0",
            "_view_count": null,
            "flex_flow": null,
            "width": null,
            "min_width": null,
            "border": null,
            "align_items": null,
            "bottom": null,
            "_model_module": "@jupyter-widgets/base",
            "top": null,
            "grid_column": null,
            "overflow_y": null,
            "overflow_x": null,
            "grid_auto_flow": null,
            "grid_area": null,
            "grid_template_columns": null,
            "flex": null,
            "_model_name": "LayoutModel",
            "justify_items": null,
            "grid_row": null,
            "max_height": null,
            "align_content": null,
            "visibility": null,
            "align_self": null,
            "height": null,
            "min_height": null,
            "padding": null,
            "grid_auto_rows": null,
            "grid_gap": null,
            "max_width": null,
            "order": null,
            "_view_module_version": "1.2.0",
            "grid_template_areas": null,
            "object_position": null,
            "object_fit": null,
            "grid_auto_columns": null,
            "margin": null,
            "display": null,
            "left": null
          },
          "model_module_version": "1.2.0"
        },
        "98d29932eed1455b90c661fba2148187": {
          "model_module": "@jupyter-widgets/controls",
          "model_name": "FloatProgressModel",
          "state": {
            "_view_name": "ProgressView",
            "style": "IPY_MODEL_274baa524d2649429890ac83e207bd5f",
            "_dom_classes": [],
            "description": "Downloading: 100%",
            "_model_name": "FloatProgressModel",
            "bar_style": "success",
            "max": 704,
            "_view_module": "@jupyter-widgets/controls",
            "_model_module_version": "1.5.0",
            "value": 704,
            "_view_count": null,
            "_view_module_version": "1.5.0",
            "orientation": "horizontal",
            "min": 0,
            "description_tooltip": null,
            "_model_module": "@jupyter-widgets/controls",
            "layout": "IPY_MODEL_1cd903f57f3b462b9c3f4b578fece37d"
          },
          "model_module_version": "1.5.0"
        },
        "91f8281cde244a3490fd0067cb52003a": {
          "model_module": "@jupyter-widgets/controls",
          "model_name": "HTMLModel",
          "state": {
            "_view_name": "HTMLView",
            "style": "IPY_MODEL_09826608f2c142f2a75ad344bffb9b54",
            "_dom_classes": [],
            "description": "",
            "_model_name": "HTMLModel",
            "placeholder": "​",
            "_view_module": "@jupyter-widgets/controls",
            "_model_module_version": "1.5.0",
            "value": " 704/704 [00:49&lt;00:00, 14.2B/s]",
            "_view_count": null,
            "_view_module_version": "1.5.0",
            "description_tooltip": null,
            "_model_module": "@jupyter-widgets/controls",
            "layout": "IPY_MODEL_e06563c050ee4315b2ca0e93a76d3d2a"
          },
          "model_module_version": "1.5.0"
        },
        "274baa524d2649429890ac83e207bd5f": {
          "model_module": "@jupyter-widgets/controls",
          "model_name": "ProgressStyleModel",
          "state": {
            "_view_name": "StyleView",
            "_model_name": "ProgressStyleModel",
            "description_width": "initial",
            "_view_module": "@jupyter-widgets/base",
            "_model_module_version": "1.5.0",
            "_view_count": null,
            "_view_module_version": "1.2.0",
            "bar_color": null,
            "_model_module": "@jupyter-widgets/controls"
          },
          "model_module_version": "1.5.0"
        },
        "1cd903f57f3b462b9c3f4b578fece37d": {
          "model_module": "@jupyter-widgets/base",
          "model_name": "LayoutModel",
          "state": {
            "_view_name": "LayoutView",
            "grid_template_rows": null,
            "right": null,
            "justify_content": null,
            "_view_module": "@jupyter-widgets/base",
            "overflow": null,
            "_model_module_version": "1.2.0",
            "_view_count": null,
            "flex_flow": null,
            "width": null,
            "min_width": null,
            "border": null,
            "align_items": null,
            "bottom": null,
            "_model_module": "@jupyter-widgets/base",
            "top": null,
            "grid_column": null,
            "overflow_y": null,
            "overflow_x": null,
            "grid_auto_flow": null,
            "grid_area": null,
            "grid_template_columns": null,
            "flex": null,
            "_model_name": "LayoutModel",
            "justify_items": null,
            "grid_row": null,
            "max_height": null,
            "align_content": null,
            "visibility": null,
            "align_self": null,
            "height": null,
            "min_height": null,
            "padding": null,
            "grid_auto_rows": null,
            "grid_gap": null,
            "max_width": null,
            "order": null,
            "_view_module_version": "1.2.0",
            "grid_template_areas": null,
            "object_position": null,
            "object_fit": null,
            "grid_auto_columns": null,
            "margin": null,
            "display": null,
            "left": null
          },
          "model_module_version": "1.2.0"
        },
        "09826608f2c142f2a75ad344bffb9b54": {
          "model_module": "@jupyter-widgets/controls",
          "model_name": "DescriptionStyleModel",
          "state": {
            "_view_name": "StyleView",
            "_model_name": "DescriptionStyleModel",
            "description_width": "",
            "_view_module": "@jupyter-widgets/base",
            "_model_module_version": "1.5.0",
            "_view_count": null,
            "_view_module_version": "1.2.0",
            "_model_module": "@jupyter-widgets/controls"
          },
          "model_module_version": "1.5.0"
        },
        "e06563c050ee4315b2ca0e93a76d3d2a": {
          "model_module": "@jupyter-widgets/base",
          "model_name": "LayoutModel",
          "state": {
            "_view_name": "LayoutView",
            "grid_template_rows": null,
            "right": null,
            "justify_content": null,
            "_view_module": "@jupyter-widgets/base",
            "overflow": null,
            "_model_module_version": "1.2.0",
            "_view_count": null,
            "flex_flow": null,
            "width": null,
            "min_width": null,
            "border": null,
            "align_items": null,
            "bottom": null,
            "_model_module": "@jupyter-widgets/base",
            "top": null,
            "grid_column": null,
            "overflow_y": null,
            "overflow_x": null,
            "grid_auto_flow": null,
            "grid_area": null,
            "grid_template_columns": null,
            "flex": null,
            "_model_name": "LayoutModel",
            "justify_items": null,
            "grid_row": null,
            "max_height": null,
            "align_content": null,
            "visibility": null,
            "align_self": null,
            "height": null,
            "min_height": null,
            "padding": null,
            "grid_auto_rows": null,
            "grid_gap": null,
            "max_width": null,
            "order": null,
            "_view_module_version": "1.2.0",
            "grid_template_areas": null,
            "object_position": null,
            "object_fit": null,
            "grid_auto_columns": null,
            "margin": null,
            "display": null,
            "left": null
          },
          "model_module_version": "1.2.0"
        },
        "39996366bfa346e185957ffdb67a13db": {
          "model_module": "@jupyter-widgets/controls",
          "model_name": "HBoxModel",
          "state": {
            "_view_name": "HBoxView",
            "_dom_classes": [],
            "_model_name": "HBoxModel",
            "_view_module": "@jupyter-widgets/controls",
            "_model_module_version": "1.5.0",
            "_view_count": null,
            "_view_module_version": "1.5.0",
            "box_style": "",
            "layout": "IPY_MODEL_e45f7191145348d78dc531475ff090c2",
            "_model_module": "@jupyter-widgets/controls",
            "children": [
              "IPY_MODEL_deb4fd171b014061a5df75b18316db4a",
              "IPY_MODEL_e025a63611b9404985001f861c4063b2"
            ]
          },
          "model_module_version": "1.5.0"
        },
        "e45f7191145348d78dc531475ff090c2": {
          "model_module": "@jupyter-widgets/base",
          "model_name": "LayoutModel",
          "state": {
            "_view_name": "LayoutView",
            "grid_template_rows": null,
            "right": null,
            "justify_content": null,
            "_view_module": "@jupyter-widgets/base",
            "overflow": null,
            "_model_module_version": "1.2.0",
            "_view_count": null,
            "flex_flow": null,
            "width": null,
            "min_width": null,
            "border": null,
            "align_items": null,
            "bottom": null,
            "_model_module": "@jupyter-widgets/base",
            "top": null,
            "grid_column": null,
            "overflow_y": null,
            "overflow_x": null,
            "grid_auto_flow": null,
            "grid_area": null,
            "grid_template_columns": null,
            "flex": null,
            "_model_name": "LayoutModel",
            "justify_items": null,
            "grid_row": null,
            "max_height": null,
            "align_content": null,
            "visibility": null,
            "align_self": null,
            "height": null,
            "min_height": null,
            "padding": null,
            "grid_auto_rows": null,
            "grid_gap": null,
            "max_width": null,
            "order": null,
            "_view_module_version": "1.2.0",
            "grid_template_areas": null,
            "object_position": null,
            "object_fit": null,
            "grid_auto_columns": null,
            "margin": null,
            "display": null,
            "left": null
          },
          "model_module_version": "1.2.0"
        },
        "deb4fd171b014061a5df75b18316db4a": {
          "model_module": "@jupyter-widgets/controls",
          "model_name": "FloatProgressModel",
          "state": {
            "_view_name": "ProgressView",
            "style": "IPY_MODEL_9739cceaa8e5463f9a4b6f464641919f",
            "_dom_classes": [],
            "description": "Downloading: 100%",
            "_model_name": "FloatProgressModel",
            "bar_style": "success",
            "max": 231485,
            "_view_module": "@jupyter-widgets/controls",
            "_model_module_version": "1.5.0",
            "value": 231485,
            "_view_count": null,
            "_view_module_version": "1.5.0",
            "orientation": "horizontal",
            "min": 0,
            "description_tooltip": null,
            "_model_module": "@jupyter-widgets/controls",
            "layout": "IPY_MODEL_22a653e47d8f43d38ba636001f7c56f3"
          },
          "model_module_version": "1.5.0"
        },
        "e025a63611b9404985001f861c4063b2": {
          "model_module": "@jupyter-widgets/controls",
          "model_name": "HTMLModel",
          "state": {
            "_view_name": "HTMLView",
            "style": "IPY_MODEL_9f81bcf0778e49d6927c55051e17340a",
            "_dom_classes": [],
            "description": "",
            "_model_name": "HTMLModel",
            "placeholder": "​",
            "_view_module": "@jupyter-widgets/controls",
            "_model_module_version": "1.5.0",
            "value": " 231k/231k [00:00&lt;00:00, 3.11MB/s]",
            "_view_count": null,
            "_view_module_version": "1.5.0",
            "description_tooltip": null,
            "_model_module": "@jupyter-widgets/controls",
            "layout": "IPY_MODEL_5759f7211a6f4d648db59f3c20a4aa5f"
          },
          "model_module_version": "1.5.0"
        },
        "9739cceaa8e5463f9a4b6f464641919f": {
          "model_module": "@jupyter-widgets/controls",
          "model_name": "ProgressStyleModel",
          "state": {
            "_view_name": "StyleView",
            "_model_name": "ProgressStyleModel",
            "description_width": "initial",
            "_view_module": "@jupyter-widgets/base",
            "_model_module_version": "1.5.0",
            "_view_count": null,
            "_view_module_version": "1.2.0",
            "bar_color": null,
            "_model_module": "@jupyter-widgets/controls"
          },
          "model_module_version": "1.5.0"
        },
        "22a653e47d8f43d38ba636001f7c56f3": {
          "model_module": "@jupyter-widgets/base",
          "model_name": "LayoutModel",
          "state": {
            "_view_name": "LayoutView",
            "grid_template_rows": null,
            "right": null,
            "justify_content": null,
            "_view_module": "@jupyter-widgets/base",
            "overflow": null,
            "_model_module_version": "1.2.0",
            "_view_count": null,
            "flex_flow": null,
            "width": null,
            "min_width": null,
            "border": null,
            "align_items": null,
            "bottom": null,
            "_model_module": "@jupyter-widgets/base",
            "top": null,
            "grid_column": null,
            "overflow_y": null,
            "overflow_x": null,
            "grid_auto_flow": null,
            "grid_area": null,
            "grid_template_columns": null,
            "flex": null,
            "_model_name": "LayoutModel",
            "justify_items": null,
            "grid_row": null,
            "max_height": null,
            "align_content": null,
            "visibility": null,
            "align_self": null,
            "height": null,
            "min_height": null,
            "padding": null,
            "grid_auto_rows": null,
            "grid_gap": null,
            "max_width": null,
            "order": null,
            "_view_module_version": "1.2.0",
            "grid_template_areas": null,
            "object_position": null,
            "object_fit": null,
            "grid_auto_columns": null,
            "margin": null,
            "display": null,
            "left": null
          },
          "model_module_version": "1.2.0"
        },
        "9f81bcf0778e49d6927c55051e17340a": {
          "model_module": "@jupyter-widgets/controls",
          "model_name": "DescriptionStyleModel",
          "state": {
            "_view_name": "StyleView",
            "_model_name": "DescriptionStyleModel",
            "description_width": "",
            "_view_module": "@jupyter-widgets/base",
            "_model_module_version": "1.5.0",
            "_view_count": null,
            "_view_module_version": "1.2.0",
            "_model_module": "@jupyter-widgets/controls"
          },
          "model_module_version": "1.5.0"
        },
        "5759f7211a6f4d648db59f3c20a4aa5f": {
          "model_module": "@jupyter-widgets/base",
          "model_name": "LayoutModel",
          "state": {
            "_view_name": "LayoutView",
            "grid_template_rows": null,
            "right": null,
            "justify_content": null,
            "_view_module": "@jupyter-widgets/base",
            "overflow": null,
            "_model_module_version": "1.2.0",
            "_view_count": null,
            "flex_flow": null,
            "width": null,
            "min_width": null,
            "border": null,
            "align_items": null,
            "bottom": null,
            "_model_module": "@jupyter-widgets/base",
            "top": null,
            "grid_column": null,
            "overflow_y": null,
            "overflow_x": null,
            "grid_auto_flow": null,
            "grid_area": null,
            "grid_template_columns": null,
            "flex": null,
            "_model_name": "LayoutModel",
            "justify_items": null,
            "grid_row": null,
            "max_height": null,
            "align_content": null,
            "visibility": null,
            "align_self": null,
            "height": null,
            "min_height": null,
            "padding": null,
            "grid_auto_rows": null,
            "grid_gap": null,
            "max_width": null,
            "order": null,
            "_view_module_version": "1.2.0",
            "grid_template_areas": null,
            "object_position": null,
            "object_fit": null,
            "grid_auto_columns": null,
            "margin": null,
            "display": null,
            "left": null
          },
          "model_module_version": "1.2.0"
        },
        "e6fa3e3645904bdc91651b2737f1b9d8": {
          "model_module": "@jupyter-widgets/controls",
          "model_name": "HBoxModel",
          "state": {
            "_view_name": "HBoxView",
            "_dom_classes": [],
            "_model_name": "HBoxModel",
            "_view_module": "@jupyter-widgets/controls",
            "_model_module_version": "1.5.0",
            "_view_count": null,
            "_view_module_version": "1.5.0",
            "box_style": "",
            "layout": "IPY_MODEL_da23c9bb02bf46b287a59c99fd6577fd",
            "_model_module": "@jupyter-widgets/controls",
            "children": [
              "IPY_MODEL_7bb936f5351b419ca451f25d1d2a22ca",
              "IPY_MODEL_e3124ebee2f94a4c9a7eb95158ae59b0"
            ]
          },
          "model_module_version": "1.5.0"
        },
        "da23c9bb02bf46b287a59c99fd6577fd": {
          "model_module": "@jupyter-widgets/base",
          "model_name": "LayoutModel",
          "state": {
            "_view_name": "LayoutView",
            "grid_template_rows": null,
            "right": null,
            "justify_content": null,
            "_view_module": "@jupyter-widgets/base",
            "overflow": null,
            "_model_module_version": "1.2.0",
            "_view_count": null,
            "flex_flow": null,
            "width": null,
            "min_width": null,
            "border": null,
            "align_items": null,
            "bottom": null,
            "_model_module": "@jupyter-widgets/base",
            "top": null,
            "grid_column": null,
            "overflow_y": null,
            "overflow_x": null,
            "grid_auto_flow": null,
            "grid_area": null,
            "grid_template_columns": null,
            "flex": null,
            "_model_name": "LayoutModel",
            "justify_items": null,
            "grid_row": null,
            "max_height": null,
            "align_content": null,
            "visibility": null,
            "align_self": null,
            "height": null,
            "min_height": null,
            "padding": null,
            "grid_auto_rows": null,
            "grid_gap": null,
            "max_width": null,
            "order": null,
            "_view_module_version": "1.2.0",
            "grid_template_areas": null,
            "object_position": null,
            "object_fit": null,
            "grid_auto_columns": null,
            "margin": null,
            "display": null,
            "left": null
          },
          "model_module_version": "1.2.0"
        },
        "7bb936f5351b419ca451f25d1d2a22ca": {
          "model_module": "@jupyter-widgets/controls",
          "model_name": "FloatProgressModel",
          "state": {
            "_view_name": "ProgressView",
            "style": "IPY_MODEL_df927f16164b463f907eb88de7668e27",
            "_dom_classes": [],
            "description": "  0%",
            "_model_name": "FloatProgressModel",
            "bar_style": "danger",
            "max": 3,
            "_view_module": "@jupyter-widgets/controls",
            "_model_module_version": "1.5.0",
            "value": 0,
            "_view_count": null,
            "_view_module_version": "1.5.0",
            "orientation": "horizontal",
            "min": 0,
            "description_tooltip": null,
            "_model_module": "@jupyter-widgets/controls",
            "layout": "IPY_MODEL_fdfb0a522fc34eff9f8a9b600e7c6f6b"
          },
          "model_module_version": "1.5.0"
        },
        "e3124ebee2f94a4c9a7eb95158ae59b0": {
          "model_module": "@jupyter-widgets/controls",
          "model_name": "HTMLModel",
          "state": {
            "_view_name": "HTMLView",
            "style": "IPY_MODEL_529b98111b8a45a986c253246dda4a98",
            "_dom_classes": [],
            "description": "",
            "_model_name": "HTMLModel",
            "placeholder": "​",
            "_view_module": "@jupyter-widgets/controls",
            "_model_module_version": "1.5.0",
            "value": " 0/3 [00:00&lt;?, ?it/s]",
            "_view_count": null,
            "_view_module_version": "1.5.0",
            "description_tooltip": null,
            "_model_module": "@jupyter-widgets/controls",
            "layout": "IPY_MODEL_ab4f68ca7880498e91996a19800f3604"
          },
          "model_module_version": "1.5.0"
        },
        "df927f16164b463f907eb88de7668e27": {
          "model_module": "@jupyter-widgets/controls",
          "model_name": "ProgressStyleModel",
          "state": {
            "_view_name": "StyleView",
            "_model_name": "ProgressStyleModel",
            "description_width": "initial",
            "_view_module": "@jupyter-widgets/base",
            "_model_module_version": "1.5.0",
            "_view_count": null,
            "_view_module_version": "1.2.0",
            "bar_color": null,
            "_model_module": "@jupyter-widgets/controls"
          },
          "model_module_version": "1.5.0"
        },
        "fdfb0a522fc34eff9f8a9b600e7c6f6b": {
          "model_module": "@jupyter-widgets/base",
          "model_name": "LayoutModel",
          "state": {
            "_view_name": "LayoutView",
            "grid_template_rows": null,
            "right": null,
            "justify_content": null,
            "_view_module": "@jupyter-widgets/base",
            "overflow": null,
            "_model_module_version": "1.2.0",
            "_view_count": null,
            "flex_flow": null,
            "width": null,
            "min_width": null,
            "border": null,
            "align_items": null,
            "bottom": null,
            "_model_module": "@jupyter-widgets/base",
            "top": null,
            "grid_column": null,
            "overflow_y": null,
            "overflow_x": null,
            "grid_auto_flow": null,
            "grid_area": null,
            "grid_template_columns": null,
            "flex": null,
            "_model_name": "LayoutModel",
            "justify_items": null,
            "grid_row": null,
            "max_height": null,
            "align_content": null,
            "visibility": null,
            "align_self": null,
            "height": null,
            "min_height": null,
            "padding": null,
            "grid_auto_rows": null,
            "grid_gap": null,
            "max_width": null,
            "order": null,
            "_view_module_version": "1.2.0",
            "grid_template_areas": null,
            "object_position": null,
            "object_fit": null,
            "grid_auto_columns": null,
            "margin": null,
            "display": null,
            "left": null
          },
          "model_module_version": "1.2.0"
        },
        "529b98111b8a45a986c253246dda4a98": {
          "model_module": "@jupyter-widgets/controls",
          "model_name": "DescriptionStyleModel",
          "state": {
            "_view_name": "StyleView",
            "_model_name": "DescriptionStyleModel",
            "description_width": "",
            "_view_module": "@jupyter-widgets/base",
            "_model_module_version": "1.5.0",
            "_view_count": null,
            "_view_module_version": "1.2.0",
            "_model_module": "@jupyter-widgets/controls"
          },
          "model_module_version": "1.5.0"
        },
        "ab4f68ca7880498e91996a19800f3604": {
          "model_module": "@jupyter-widgets/base",
          "model_name": "LayoutModel",
          "state": {
            "_view_name": "LayoutView",
            "grid_template_rows": null,
            "right": null,
            "justify_content": null,
            "_view_module": "@jupyter-widgets/base",
            "overflow": null,
            "_model_module_version": "1.2.0",
            "_view_count": null,
            "flex_flow": null,
            "width": null,
            "min_width": null,
            "border": null,
            "align_items": null,
            "bottom": null,
            "_model_module": "@jupyter-widgets/base",
            "top": null,
            "grid_column": null,
            "overflow_y": null,
            "overflow_x": null,
            "grid_auto_flow": null,
            "grid_area": null,
            "grid_template_columns": null,
            "flex": null,
            "_model_name": "LayoutModel",
            "justify_items": null,
            "grid_row": null,
            "max_height": null,
            "align_content": null,
            "visibility": null,
            "align_self": null,
            "height": null,
            "min_height": null,
            "padding": null,
            "grid_auto_rows": null,
            "grid_gap": null,
            "max_width": null,
            "order": null,
            "_view_module_version": "1.2.0",
            "grid_template_areas": null,
            "object_position": null,
            "object_fit": null,
            "grid_auto_columns": null,
            "margin": null,
            "display": null,
            "left": null
          },
          "model_module_version": "1.2.0"
        }
      }
    }
  },
  "cells": [
    {
      "cell_type": "markdown",
      "metadata": {
        "id": "view-in-github",
        "colab_type": "text"
      },
      "source": [
        "<a href=\"https://colab.research.google.com/github/onlyabhilash/Transformers_with_NLP/blob/main/Funnel%20Transformer/Funnel_IntentRecognition.ipynb\" target=\"_parent\"><img src=\"https://colab.research.google.com/assets/colab-badge.svg\" alt=\"Open In Colab\"/></a>"
      ]
    },
    {
      "cell_type": "code",
      "metadata": {
        "colab": {
          "base_uri": "https://localhost:8080/"
        },
        "id": "jy5OEmCI1e_x",
        "outputId": "972a9d20-57bb-490a-b8ef-a385411a3a51"
      },
      "source": [
        "!pip install pytorch-transformers\n",
        "!pip install transformers"
      ],
      "execution_count": null,
      "outputs": [
        {
          "output_type": "stream",
          "text": [
            "Collecting pytorch-transformers\n",
            "\u001b[?25l  Downloading https://files.pythonhosted.org/packages/a3/b7/d3d18008a67e0b968d1ab93ad444fc05699403fa662f634b2f2c318a508b/pytorch_transformers-1.2.0-py3-none-any.whl (176kB)\n",
            "\u001b[K     |████████████████████████████████| 184kB 16.6MB/s \n",
            "\u001b[?25hCollecting sentencepiece\n",
            "\u001b[?25l  Downloading https://files.pythonhosted.org/packages/e5/2d/6d4ca4bef9a67070fa1cac508606328329152b1df10bdf31fb6e4e727894/sentencepiece-0.1.94-cp36-cp36m-manylinux2014_x86_64.whl (1.1MB)\n",
            "\u001b[K     |████████████████████████████████| 1.1MB 33.7MB/s \n",
            "\u001b[?25hCollecting boto3\n",
            "\u001b[?25l  Downloading https://files.pythonhosted.org/packages/35/8e/828879111f9a5fe2092c8aacd664700864c58f4c2dd74947595cc6f884b1/boto3-1.16.38-py2.py3-none-any.whl (130kB)\n",
            "\u001b[K     |████████████████████████████████| 133kB 50.4MB/s \n",
            "\u001b[?25hRequirement already satisfied: torch>=1.0.0 in /usr/local/lib/python3.6/dist-packages (from pytorch-transformers) (1.7.0+cu101)\n",
            "Requirement already satisfied: regex in /usr/local/lib/python3.6/dist-packages (from pytorch-transformers) (2019.12.20)\n",
            "Requirement already satisfied: requests in /usr/local/lib/python3.6/dist-packages (from pytorch-transformers) (2.23.0)\n",
            "Requirement already satisfied: tqdm in /usr/local/lib/python3.6/dist-packages (from pytorch-transformers) (4.41.1)\n",
            "Requirement already satisfied: numpy in /usr/local/lib/python3.6/dist-packages (from pytorch-transformers) (1.18.5)\n",
            "Collecting sacremoses\n",
            "\u001b[?25l  Downloading https://files.pythonhosted.org/packages/7d/34/09d19aff26edcc8eb2a01bed8e98f13a1537005d31e95233fd48216eed10/sacremoses-0.0.43.tar.gz (883kB)\n",
            "\u001b[K     |████████████████████████████████| 890kB 45.5MB/s \n",
            "\u001b[?25hCollecting botocore<1.20.0,>=1.19.38\n",
            "\u001b[?25l  Downloading https://files.pythonhosted.org/packages/86/33/a87bdbb4d572783a512039bc75ea88bd6c85868074b1af857683e98dac69/botocore-1.19.38-py2.py3-none-any.whl (7.1MB)\n",
            "\u001b[K     |████████████████████████████████| 7.1MB 51.4MB/s \n",
            "\u001b[?25hCollecting jmespath<1.0.0,>=0.7.1\n",
            "  Downloading https://files.pythonhosted.org/packages/07/cb/5f001272b6faeb23c1c9e0acc04d48eaaf5c862c17709d20e3469c6e0139/jmespath-0.10.0-py2.py3-none-any.whl\n",
            "Collecting s3transfer<0.4.0,>=0.3.0\n",
            "\u001b[?25l  Downloading https://files.pythonhosted.org/packages/69/79/e6afb3d8b0b4e96cefbdc690f741d7dd24547ff1f94240c997a26fa908d3/s3transfer-0.3.3-py2.py3-none-any.whl (69kB)\n",
            "\u001b[K     |████████████████████████████████| 71kB 11.0MB/s \n",
            "\u001b[?25hRequirement already satisfied: dataclasses in /usr/local/lib/python3.6/dist-packages (from torch>=1.0.0->pytorch-transformers) (0.8)\n",
            "Requirement already satisfied: future in /usr/local/lib/python3.6/dist-packages (from torch>=1.0.0->pytorch-transformers) (0.16.0)\n",
            "Requirement already satisfied: typing-extensions in /usr/local/lib/python3.6/dist-packages (from torch>=1.0.0->pytorch-transformers) (3.7.4.3)\n",
            "Requirement already satisfied: certifi>=2017.4.17 in /usr/local/lib/python3.6/dist-packages (from requests->pytorch-transformers) (2020.12.5)\n",
            "Requirement already satisfied: chardet<4,>=3.0.2 in /usr/local/lib/python3.6/dist-packages (from requests->pytorch-transformers) (3.0.4)\n",
            "Requirement already satisfied: urllib3!=1.25.0,!=1.25.1,<1.26,>=1.21.1 in /usr/local/lib/python3.6/dist-packages (from requests->pytorch-transformers) (1.24.3)\n",
            "Requirement already satisfied: idna<3,>=2.5 in /usr/local/lib/python3.6/dist-packages (from requests->pytorch-transformers) (2.10)\n",
            "Requirement already satisfied: six in /usr/local/lib/python3.6/dist-packages (from sacremoses->pytorch-transformers) (1.15.0)\n",
            "Requirement already satisfied: click in /usr/local/lib/python3.6/dist-packages (from sacremoses->pytorch-transformers) (7.1.2)\n",
            "Requirement already satisfied: joblib in /usr/local/lib/python3.6/dist-packages (from sacremoses->pytorch-transformers) (0.17.0)\n",
            "Requirement already satisfied: python-dateutil<3.0.0,>=2.1 in /usr/local/lib/python3.6/dist-packages (from botocore<1.20.0,>=1.19.38->boto3->pytorch-transformers) (2.8.1)\n",
            "Building wheels for collected packages: sacremoses\n",
            "  Building wheel for sacremoses (setup.py) ... \u001b[?25l\u001b[?25hdone\n",
            "  Created wheel for sacremoses: filename=sacremoses-0.0.43-cp36-none-any.whl size=893261 sha256=df9a3557cfd4a0ce3fd8b07f7586464883c63d5b38edaf8caf7c5432cc1f9506\n",
            "  Stored in directory: /root/.cache/pip/wheels/29/3c/fd/7ce5c3f0666dab31a50123635e6fb5e19ceb42ce38d4e58f45\n",
            "Successfully built sacremoses\n",
            "\u001b[31mERROR: botocore 1.19.38 has requirement urllib3<1.27,>=1.25.4; python_version != \"3.4\", but you'll have urllib3 1.24.3 which is incompatible.\u001b[0m\n",
            "Installing collected packages: sentencepiece, jmespath, botocore, s3transfer, boto3, sacremoses, pytorch-transformers\n",
            "Successfully installed boto3-1.16.38 botocore-1.19.38 jmespath-0.10.0 pytorch-transformers-1.2.0 s3transfer-0.3.3 sacremoses-0.0.43 sentencepiece-0.1.94\n",
            "Collecting transformers\n",
            "\u001b[?25l  Downloading https://files.pythonhosted.org/packages/ed/db/98c3ea1a78190dac41c0127a063abf92bd01b4b0b6970a6db1c2f5b66fa0/transformers-4.0.1-py3-none-any.whl (1.4MB)\n",
            "\u001b[K     |████████████████████████████████| 1.4MB 16.5MB/s \n",
            "\u001b[?25hRequirement already satisfied: packaging in /usr/local/lib/python3.6/dist-packages (from transformers) (20.7)\n",
            "Requirement already satisfied: tqdm>=4.27 in /usr/local/lib/python3.6/dist-packages (from transformers) (4.41.1)\n",
            "Requirement already satisfied: regex!=2019.12.17 in /usr/local/lib/python3.6/dist-packages (from transformers) (2019.12.20)\n",
            "Requirement already satisfied: numpy in /usr/local/lib/python3.6/dist-packages (from transformers) (1.18.5)\n",
            "Requirement already satisfied: filelock in /usr/local/lib/python3.6/dist-packages (from transformers) (3.0.12)\n",
            "Requirement already satisfied: dataclasses; python_version < \"3.7\" in /usr/local/lib/python3.6/dist-packages (from transformers) (0.8)\n",
            "Requirement already satisfied: sacremoses in /usr/local/lib/python3.6/dist-packages (from transformers) (0.0.43)\n",
            "Collecting tokenizers==0.9.4\n",
            "\u001b[?25l  Downloading https://files.pythonhosted.org/packages/0f/1c/e789a8b12e28be5bc1ce2156cf87cb522b379be9cadc7ad8091a4cc107c4/tokenizers-0.9.4-cp36-cp36m-manylinux2010_x86_64.whl (2.9MB)\n",
            "\u001b[K     |████████████████████████████████| 2.9MB 51.1MB/s \n",
            "\u001b[?25hRequirement already satisfied: requests in /usr/local/lib/python3.6/dist-packages (from transformers) (2.23.0)\n",
            "Requirement already satisfied: pyparsing>=2.0.2 in /usr/local/lib/python3.6/dist-packages (from packaging->transformers) (2.4.7)\n",
            "Requirement already satisfied: click in /usr/local/lib/python3.6/dist-packages (from sacremoses->transformers) (7.1.2)\n",
            "Requirement already satisfied: joblib in /usr/local/lib/python3.6/dist-packages (from sacremoses->transformers) (0.17.0)\n",
            "Requirement already satisfied: six in /usr/local/lib/python3.6/dist-packages (from sacremoses->transformers) (1.15.0)\n",
            "Requirement already satisfied: idna<3,>=2.5 in /usr/local/lib/python3.6/dist-packages (from requests->transformers) (2.10)\n",
            "Requirement already satisfied: chardet<4,>=3.0.2 in /usr/local/lib/python3.6/dist-packages (from requests->transformers) (3.0.4)\n",
            "Requirement already satisfied: certifi>=2017.4.17 in /usr/local/lib/python3.6/dist-packages (from requests->transformers) (2020.12.5)\n",
            "Requirement already satisfied: urllib3!=1.25.0,!=1.25.1,<1.26,>=1.21.1 in /usr/local/lib/python3.6/dist-packages (from requests->transformers) (1.24.3)\n",
            "Installing collected packages: tokenizers, transformers\n",
            "Successfully installed tokenizers-0.9.4 transformers-4.0.1\n"
          ],
          "name": "stdout"
        }
      ]
    },
    {
      "cell_type": "code",
      "metadata": {
        "colab": {
          "base_uri": "https://localhost:8080/"
        },
        "id": "gvlo_1yhYhXj",
        "outputId": "bd6e2154-447c-400d-9455-570971292343"
      },
      "source": [
        "!nvidia-smi"
      ],
      "execution_count": null,
      "outputs": [
        {
          "output_type": "stream",
          "text": [
            "Thu Dec 17 06:27:50 2020       \n",
            "+-----------------------------------------------------------------------------+\n",
            "| NVIDIA-SMI 455.45.01    Driver Version: 418.67       CUDA Version: 10.1     |\n",
            "|-------------------------------+----------------------+----------------------+\n",
            "| GPU  Name        Persistence-M| Bus-Id        Disp.A | Volatile Uncorr. ECC |\n",
            "| Fan  Temp  Perf  Pwr:Usage/Cap|         Memory-Usage | GPU-Util  Compute M. |\n",
            "|                               |                      |               MIG M. |\n",
            "|===============================+======================+======================|\n",
            "|   0  Tesla T4            Off  | 00000000:00:04.0 Off |                    0 |\n",
            "| N/A   46C    P8     9W /  70W |      0MiB / 15079MiB |      0%      Default |\n",
            "|                               |                      |                 ERR! |\n",
            "+-------------------------------+----------------------+----------------------+\n",
            "                                                                               \n",
            "+-----------------------------------------------------------------------------+\n",
            "| Processes:                                                                  |\n",
            "|  GPU   GI   CI        PID   Type   Process name                  GPU Memory |\n",
            "|        ID   ID                                                   Usage      |\n",
            "|=============================================================================|\n",
            "|  No running processes found                                                 |\n",
            "+-----------------------------------------------------------------------------+\n"
          ],
          "name": "stdout"
        }
      ]
    },
    {
      "cell_type": "code",
      "metadata": {
        "colab": {
          "base_uri": "https://localhost:8080/"
        },
        "id": "APx3A7_vYlQv",
        "outputId": "98775626-9b9f-42ba-e073-ff6b061b72c6"
      },
      "source": [
        "import torch\n",
        "torch.cuda.is_available()"
      ],
      "execution_count": null,
      "outputs": [
        {
          "output_type": "execute_result",
          "data": {
            "text/plain": [
              "True"
            ]
          },
          "metadata": {
            "tags": []
          },
          "execution_count": 3
        }
      ]
    },
    {
      "cell_type": "code",
      "metadata": {
        "id": "-s7ozXCQYpV7"
      },
      "source": [
        "import pandas as pd\n",
        "import numpy as np\n",
        "import seaborn as sns\n",
        "import matplotlib.pyplot as plt\n",
        "%matplotlib inline\n",
        "import json, re\n",
        "from tqdm import tqdm_notebook\n",
        "from uuid import uuid4\n",
        "\n",
        "## Torch Modules\n",
        "import torch\n",
        "import torch.optim as optim\n",
        "import torch.nn as nn\n",
        "import torch.nn.functional as F\n",
        "from torch.autograd import Variable\n",
        "from torch.utils.data import Dataset, DataLoader\n",
        "\n",
        "from sklearn.utils import class_weight"
      ],
      "execution_count": null,
      "outputs": []
    },
    {
      "cell_type": "code",
      "metadata": {
        "id": "yvMlDjs63TBG"
      },
      "source": [
        "import pandas as pd\n",
        "import numpy as np\n",
        "import seaborn as sns\n",
        "import matplotlib.pyplot as plt\n",
        "%matplotlib inline\n",
        "import json, re\n",
        "from tqdm import tqdm_notebook\n",
        "from uuid import uuid4\n",
        "\n",
        "## Torch Modules\n",
        "import torch\n",
        "import torch.optim as optim\n",
        "import torch.nn as nn\n",
        "import torch.nn.functional as F\n",
        "from torch.autograd import Variable\n",
        "from torch.utils.data import Dataset, DataLoader\n",
        "\n",
        "from sklearn.utils import class_weight"
      ],
      "execution_count": null,
      "outputs": []
    },
    {
      "cell_type": "code",
      "metadata": {
        "colab": {
          "base_uri": "https://localhost:8080/"
        },
        "id": "WXH1iz791oxw",
        "outputId": "49f0413c-8207-46dd-e7cf-631787ce5fd7"
      },
      "source": [
        "from google.colab import drive\n",
        "drive.mount('/content/drive')"
      ],
      "execution_count": null,
      "outputs": [
        {
          "output_type": "stream",
          "text": [
            "Mounted at /content/drive\n"
          ],
          "name": "stdout"
        }
      ]
    },
    {
      "cell_type": "code",
      "metadata": {
        "id": "UFaPT_uM5YJL"
      },
      "source": [
        ">>> from transformers import FunnelTokenizer, FunnelForSequenceClassification\n",
        ">>> import torch"
      ],
      "execution_count": null,
      "outputs": []
    },
    {
      "cell_type": "code",
      "metadata": {
        "id": "KRzo1v6D4O2t",
        "colab": {
          "base_uri": "https://localhost:8080/"
        },
        "outputId": "88203c15-441e-4cc2-9758-2699bf506e67"
      },
      "source": [
        "## Check if Cuda is Available\n",
        "print(torch.cuda.is_available())"
      ],
      "execution_count": null,
      "outputs": [
        {
          "output_type": "stream",
          "text": [
            "True\n"
          ],
          "name": "stdout"
        }
      ]
    },
    {
      "cell_type": "code",
      "metadata": {
        "id": "hkRqK2sM3evs"
      },
      "source": [
        "## Importing Datasets"
      ],
      "execution_count": null,
      "outputs": []
    },
    {
      "cell_type": "code",
      "metadata": {
        "id": "mJi5RkLC4WsV",
        "colab": {
          "base_uri": "https://localhost:8080/",
          "height": 197
        },
        "outputId": "f6640ce2-8671-4dc8-d2eb-280232610bd0"
      },
      "source": [
        "train = pd.read_csv(\"/content/drive/MyDrive/Funnel Data/train.csv\", header = None, names = [\"utterance\", \"slots\", \"label\"])\n",
        "test = pd.read_csv(\"/content/drive/MyDrive/Funnel Data/test.csv\", header = None, names = [\"utterance\", \"slots\", \"label\"])\n",
        "validation = pd.read_csv(\"/content/drive/MyDrive/Funnel Data/dev.csv\", header = None, names = [\"utterance\", \"slots\", \"label\"])\n",
        " \n",
        "#collating the data \n",
        "dataset1 = train.append(validation).reset_index(drop=True)\n",
        "dataset = dataset1.append(test).reset_index(drop=True)\n",
        "dataset = dataset[[\"utterance\", \"label\"]]\n",
        "dataset.head()"
      ],
      "execution_count": null,
      "outputs": [
        {
          "output_type": "execute_result",
          "data": {
            "text/html": [
              "<div>\n",
              "<style scoped>\n",
              "    .dataframe tbody tr th:only-of-type {\n",
              "        vertical-align: middle;\n",
              "    }\n",
              "\n",
              "    .dataframe tbody tr th {\n",
              "        vertical-align: top;\n",
              "    }\n",
              "\n",
              "    .dataframe thead th {\n",
              "        text-align: right;\n",
              "    }\n",
              "</style>\n",
              "<table border=\"1\" class=\"dataframe\">\n",
              "  <thead>\n",
              "    <tr style=\"text-align: right;\">\n",
              "      <th></th>\n",
              "      <th>utterance</th>\n",
              "      <th>label</th>\n",
              "    </tr>\n",
              "  </thead>\n",
              "  <tbody>\n",
              "    <tr>\n",
              "      <th>0</th>\n",
              "      <td>BOS Sir I created a new env with python 3.7 bu...</td>\n",
              "      <td>need_help</td>\n",
              "    </tr>\n",
              "    <tr>\n",
              "      <th>1</th>\n",
              "      <td>BOS above problem how will it solve ?? EOS</td>\n",
              "      <td>need_help</td>\n",
              "    </tr>\n",
              "    <tr>\n",
              "      <th>2</th>\n",
              "      <td>BOS Hello sir is there anyone EOS</td>\n",
              "      <td>Greetings</td>\n",
              "    </tr>\n",
              "    <tr>\n",
              "      <th>3</th>\n",
              "      <td>BOS i think canvas login problem was due to br...</td>\n",
              "      <td>great</td>\n",
              "    </tr>\n",
              "    <tr>\n",
              "      <th>4</th>\n",
              "      <td>BOS Please provide me with the link to python ...</td>\n",
              "      <td>community_class_link</td>\n",
              "    </tr>\n",
              "  </tbody>\n",
              "</table>\n",
              "</div>"
            ],
            "text/plain": [
              "                                           utterance                 label\n",
              "0  BOS Sir I created a new env with python 3.7 bu...             need_help\n",
              "1         BOS above problem how will it solve ?? EOS             need_help\n",
              "2                  BOS Hello sir is there anyone EOS             Greetings\n",
              "3  BOS i think canvas login problem was due to br...                 great\n",
              "4  BOS Please provide me with the link to python ...  community_class_link"
            ]
          },
          "metadata": {
            "tags": []
          },
          "execution_count": 11
        }
      ]
    },
    {
      "cell_type": "code",
      "metadata": {
        "colab": {
          "base_uri": "https://localhost:8080/",
          "height": 406
        },
        "id": "Kff6RRtUWMpF",
        "outputId": "aa6b5fd6-22c1-4a48-f8e0-196082797b84"
      },
      "source": [
        "#Removing BOS\n",
        "corpus =[]\n",
        " \n",
        "for i in range(len(dataset[\"utterance\"])):\n",
        "  val = dataset[\"utterance\"][i]\n",
        "  match =re.sub(\"[^a-zA-Z]\", \" \", val)\n",
        "  #print(match)\n",
        "  match = re.sub(\"BOS \", \"\", match)\n",
        "  #print(match)\n",
        "  match = re.sub(\" EOS\", \"\", match)\n",
        "  #print(match)\n",
        "  match = \"\".join(match)\n",
        "  \n",
        "  corpus.append(match)\n",
        " \n",
        "dataset[\"utterance\"] = pd.DataFrame(corpus)\n",
        "dataset"
      ],
      "execution_count": null,
      "outputs": [
        {
          "output_type": "execute_result",
          "data": {
            "text/html": [
              "<div>\n",
              "<style scoped>\n",
              "    .dataframe tbody tr th:only-of-type {\n",
              "        vertical-align: middle;\n",
              "    }\n",
              "\n",
              "    .dataframe tbody tr th {\n",
              "        vertical-align: top;\n",
              "    }\n",
              "\n",
              "    .dataframe thead th {\n",
              "        text-align: right;\n",
              "    }\n",
              "</style>\n",
              "<table border=\"1\" class=\"dataframe\">\n",
              "  <thead>\n",
              "    <tr style=\"text-align: right;\">\n",
              "      <th></th>\n",
              "      <th>utterance</th>\n",
              "      <th>label</th>\n",
              "    </tr>\n",
              "  </thead>\n",
              "  <tbody>\n",
              "    <tr>\n",
              "      <th>0</th>\n",
              "      <td>Sir I created a new env with python     but th...</td>\n",
              "      <td>need_help</td>\n",
              "    </tr>\n",
              "    <tr>\n",
              "      <th>1</th>\n",
              "      <td>above problem how will it solve</td>\n",
              "      <td>need_help</td>\n",
              "    </tr>\n",
              "    <tr>\n",
              "      <th>2</th>\n",
              "      <td>Hello sir is there anyone</td>\n",
              "      <td>Greetings</td>\n",
              "    </tr>\n",
              "    <tr>\n",
              "      <th>3</th>\n",
              "      <td>i think canvas login problem was due to browse...</td>\n",
              "      <td>great</td>\n",
              "    </tr>\n",
              "    <tr>\n",
              "      <th>4</th>\n",
              "      <td>Please provide me with the link to python class</td>\n",
              "      <td>community_class_link</td>\n",
              "    </tr>\n",
              "    <tr>\n",
              "      <th>...</th>\n",
              "      <td>...</td>\n",
              "      <td>...</td>\n",
              "    </tr>\n",
              "    <tr>\n",
              "      <th>4334</th>\n",
              "      <td>x tf Variable   xinit tf global variables init...</td>\n",
              "      <td>need_help</td>\n",
              "    </tr>\n",
              "    <tr>\n",
              "      <th>4335</th>\n",
              "      <td>partlist type started alt  OId ad     d    a ...</td>\n",
              "      <td>O</td>\n",
              "    </tr>\n",
              "    <tr>\n",
              "      <th>4336</th>\n",
              "      <td>Thanks you sir</td>\n",
              "      <td>Thank_you</td>\n",
              "    </tr>\n",
              "    <tr>\n",
              "      <th>4337</th>\n",
              "      <td>URIObject uri https   api asm skype com v  ob...</td>\n",
              "      <td>O</td>\n",
              "    </tr>\n",
              "    <tr>\n",
              "      <th>4338</th>\n",
              "      <td>Sir I m from   nd Feb ml batch   I have a quer...</td>\n",
              "      <td>mongodb_installation</td>\n",
              "    </tr>\n",
              "  </tbody>\n",
              "</table>\n",
              "<p>4339 rows × 2 columns</p>\n",
              "</div>"
            ],
            "text/plain": [
              "                                              utterance                 label\n",
              "0     Sir I created a new env with python     but th...             need_help\n",
              "1                    above problem how will it solve                need_help\n",
              "2                             Hello sir is there anyone             Greetings\n",
              "3     i think canvas login problem was due to browse...                 great\n",
              "4      Please provide me with the link to python class   community_class_link\n",
              "...                                                 ...                   ...\n",
              "4334  x tf Variable   xinit tf global variables init...             need_help\n",
              "4335   partlist type started alt  OId ad     d    a ...                     O\n",
              "4336                                     Thanks you sir             Thank_you\n",
              "4337   URIObject uri https   api asm skype com v  ob...                     O\n",
              "4338  Sir I m from   nd Feb ml batch   I have a quer...  mongodb_installation\n",
              "\n",
              "[4339 rows x 2 columns]"
            ]
          },
          "metadata": {
            "tags": []
          },
          "execution_count": 12
        }
      ]
    },
    {
      "cell_type": "markdown",
      "metadata": {
        "id": "2HGjbT7dAYdr"
      },
      "source": [
        "##ERROR 1: \"There are intents which are least populated (ie. just 1 utterance per intent is there), for stratification minimum number of groups for any class cannot be less than 2 ---> UNABLE TO DO STRATIFICATION.\"\n",
        "\n",
        "ValueError: The least populated class in y has only 1 member, which is too few. The minimum number of groups for any class cannot be less than 2.\n",
        "\n",
        "\n",
        "##Error 2: I tried removing the least populated classes by running the following code, and even reset the index, but still KeyError occured while splitting test and train dataset.\n",
        "\n",
        "dataset = dataset[~dataset[\"label\"].isin([\"chatbot_telegram_connection_issue\", \"select_course_id\", \"Exception_builtin_errors\", \"str_method_output\", \"large_data_handle_prod_query\", \"file_not_found\", \"doubt_session_link\", \"rasa_installation\", \"github_how_to_use\", \"aws_lex_account_query\", \"CNN_code_error\",\"aws_lex_smtp_error\", \"refer_class_lecture\", \"then_reply\", \"conda_environment\", \"aws_deployment_error\", \"azure_luis_understanding_issue\", \"anaconda_navigator_open\", \"assignment_by_github\",\"azure_luis_deployment\",\"pycharm_path_set\",\"books_availablity_dashboard\", \"word_file_input_query\", \"large_data_handle_query\",\"assignment_matplotlib\", \"dialog_flow_email_issue\", \"usecase_document_contains_letter\", \"pycharm_error\", \"enter_query_indetails\", \"logistic_regression\", \"python_abstract\", \"assingment_uploading_error\", \"chatbot_issue\", \"course_registration\", \"selennium_installation\", \"visualization_powerbi_query\",\"bot_reply\", \"zoom_screen_share\", \"python_oops\", \"choosing_no_of_epochs\", \"PlotlyRequestError\",\"heroku_installation\", \"list_comprehensions\",\"pandas_general_query\",\"canvas_details_edit\", \"assignment_exception_handling\", \"rasa_nlu_details\", \"mysql\", \"anconda_installation\", \"data_science_architecture_class\", \"decision_tree_ML\", \"python_super_class\", \"system_issue\", \"numpy_error\", \"ineuron_challenge_details\", \"assignment_list_comprehension\", \"refer_syllabus\"])]\n",
        "\n",
        "\n",
        "###dataset.reset_index(drop=True)\n",
        "\n",
        "\n",
        "\n",
        "Query : How to use class-weights with BERT/RoBERTa\n",
        "\n",
        "\"\"\"class_weights = class_weight.compute_class_weight('balanced', np.unique(np.argmax(y_train, 1)), np.argmax(y_train, 1))\n",
        "es = EarlyStopping(monitor='val_loss', mode='min', verbose=1, patience=50)\n",
        "\n",
        "history = model.fit(np.array(X_train), np.array(y_train),\n",
        "                    batch_size=64,\n",
        "                    epochs=500,\n",
        "                    verbose=1,\n",
        "                    validation_data=(X_val, y_val),\n",
        "                    class_weight=class_weights,\n",
        "                    callbacks = [es])\"\"\""
      ]
    },
    {
      "cell_type": "code",
      "metadata": {
        "id": "mDpCkpf2sXjE",
        "colab": {
          "base_uri": "https://localhost:8080/",
          "height": 371
        },
        "outputId": "e052eb92-16e1-45a9-db06-1ad33de35e74"
      },
      "source": [
        "chart = sns.countplot(dataset[\"label\"])\n",
        "plt.figure(figsize=(200,200))\n",
        "#plt.title(\"No. of utterances per intent\")"
      ],
      "execution_count": null,
      "outputs": [
        {
          "output_type": "stream",
          "text": [
            "/usr/local/lib/python3.6/dist-packages/seaborn/_decorators.py:43: FutureWarning: Pass the following variable as a keyword arg: x. From version 0.12, the only valid positional argument will be `data`, and passing other arguments without an explicit keyword will result in an error or misinterpretation.\n",
            "  FutureWarning\n"
          ],
          "name": "stderr"
        },
        {
          "output_type": "execute_result",
          "data": {
            "text/plain": [
              "<Figure size 14400x14400 with 0 Axes>"
            ]
          },
          "metadata": {
            "tags": []
          },
          "execution_count": 13
        },
        {
          "output_type": "display_data",
          "data": {
            "image/png": "[encoded data removed]",
            "text/plain": [
              "<Figure size 432x288 with 1 Axes>"
            ]
          },
          "metadata": {
            "tags": [],
            "needs_background": "light"
          }
        },
        {
          "output_type": "display_data",
          "data": {
            "text/plain": [
              "<Figure size 14400x14400 with 0 Axes>"
            ]
          },
          "metadata": {
            "tags": []
          }
        }
      ]
    },
    {
      "cell_type": "markdown",
      "metadata": {
        "id": "4VvGBTFFsiEU"
      },
      "source": [
        "Clearly, an imbalanced data"
      ]
    },
    {
      "cell_type": "code",
      "metadata": {
        "id": "FwAZesDoH_qK",
        "colab": {
          "base_uri": "https://localhost:8080/",
          "height": 53
        },
        "outputId": "97b09827-32e9-4133-934e-62d150c016e2"
      },
      "source": [
        "\"\"\"from sklearn.utils import class_weight\n",
        "class_weights = list(class_weight.compute_class_weight(\"balanced\", np.unique(dataset[\"label\"]), dataset[\"label\"]))\n",
        "dataset[\"label\"].value_counts()\n",
        "\n",
        "\n",
        "class_weights.sort()\n",
        "\n",
        "class_weights\"\"\""
      ],
      "execution_count": null,
      "outputs": [
        {
          "output_type": "execute_result",
          "data": {
            "application/vnd.google.colaboratory.intrinsic+json": {
              "type": "string"
            },
            "text/plain": [
              "'from sklearn.utils import class_weight\\nclass_weights = list(class_weight.compute_class_weight(\"balanced\", np.unique(dataset[\"label\"]), dataset[\"label\"]))\\ndataset[\"label\"].value_counts()\\n\\n\\nclass_weights.sort()\\n\\nclass_weights'"
            ]
          },
          "metadata": {
            "tags": []
          },
          "execution_count": 15
        }
      ]
    },
    {
      "cell_type": "code",
      "metadata": {
        "id": "W964DV4E2yNi",
        "colab": {
          "base_uri": "https://localhost:8080/"
        },
        "outputId": "5256ee12-49ca-44b9-dc5c-661fa492ae83"
      },
      "source": [
        "dataset[\"label\"].value_counts()"
      ],
      "execution_count": null,
      "outputs": [
        {
          "output_type": "execute_result",
          "data": {
            "text/plain": [
              "need_help                        952\n",
              "O                                763\n",
              "Greetings                        408\n",
              "Thank_you                        353\n",
              "good_bye                         213\n",
              "                                ... \n",
              "assignment_list_comprehension      1\n",
              "file_not_found                     1\n",
              "assingment_uploading_error         1\n",
              "Exception_builtin_errors           1\n",
              "aws_lex_smtp_error                 1\n",
              "Name: label, Length: 171, dtype: int64"
            ]
          },
          "metadata": {
            "tags": []
          },
          "execution_count": 16
        }
      ]
    },
    {
      "cell_type": "code",
      "metadata": {
        "id": "gvNXPtT-4Xed",
        "colab": {
          "base_uri": "https://localhost:8080/"
        },
        "outputId": "879a4ba8-ac04-47a9-ce43-6323c1ab79da"
      },
      "source": [
        "label_to_ix = {}\n",
        "for label in dataset.label:\n",
        "    for word in label.split():\n",
        "        if word not in label_to_ix:\n",
        "            label_to_ix[word]=len(label_to_ix)\n",
        "label_to_ix"
      ],
      "execution_count": null,
      "outputs": [
        {
          "output_type": "execute_result",
          "data": {
            "text/plain": [
              "{'CNN_code_error': 127,\n",
              " 'Dashboard_access': 39,\n",
              " 'Dashboard_details': 83,\n",
              " 'EDA_code': 111,\n",
              " 'Exception_builtin_errors': 97,\n",
              " 'GCP_chatbot': 78,\n",
              " 'Greetings': 1,\n",
              " 'NewBatch_details': 54,\n",
              " 'O': 8,\n",
              " 'PlotlyRequestError': 33,\n",
              " 'Plotly_installation': 60,\n",
              " 'Thank_you': 13,\n",
              " 'anaconda_jnotebook_run': 89,\n",
              " 'anaconda_macos': 117,\n",
              " 'anaconda_navigator_open': 21,\n",
              " 'anaconda_prompt': 126,\n",
              " 'anconda_installation': 151,\n",
              " 'assignment_by_github': 150,\n",
              " 'assignment_data_visulization': 57,\n",
              " 'assignment_doubt': 7,\n",
              " 'assignment_evaluation': 96,\n",
              " 'assignment_exception_handling': 128,\n",
              " 'assignment_issue': 131,\n",
              " 'assignment_link': 86,\n",
              " 'assignment_list_comprehension': 134,\n",
              " 'assignment_matplotlib': 113,\n",
              " 'assignment_numpy': 88,\n",
              " 'assignment_pandas': 6,\n",
              " 'assignment_pandas_link': 77,\n",
              " 'assignment_powerbi': 123,\n",
              " 'assignment_python': 43,\n",
              " 'assignment_stats': 53,\n",
              " 'assignment_submittion': 50,\n",
              " 'assingment_uploading_error': 109,\n",
              " 'aws_deployment_error': 112,\n",
              " 'aws_lex_account_query': 147,\n",
              " 'aws_lex_smtp_error': 116,\n",
              " 'azure_luis_500_error': 139,\n",
              " 'azure_luis_deployment': 107,\n",
              " 'azure_luis_understanding_issue': 122,\n",
              " 'batch_details': 31,\n",
              " 'books_availablity_dashboard': 164,\n",
              " 'books_availablity_drive': 138,\n",
              " 'bot_reply': 135,\n",
              " 'bot_timing': 149,\n",
              " 'canvas_details_edit': 154,\n",
              " 'canvas_login_problem': 58,\n",
              " 'career_transition': 92,\n",
              " 'certificates_enquery': 98,\n",
              " 'chatbot_issue': 132,\n",
              " 'chatbot_telegram_connection_issue': 105,\n",
              " 'choosing_no_of_epochs': 156,\n",
              " 'class_link': 18,\n",
              " 'class_registeration_link': 106,\n",
              " 'cmd': 118,\n",
              " 'cnn_question': 59,\n",
              " 'code_error': 5,\n",
              " 'colab_help': 41,\n",
              " 'community_class': 45,\n",
              " 'community_class_link': 3,\n",
              " 'conda_environment': 146,\n",
              " 'course_contents': 84,\n",
              " 'course_details': 28,\n",
              " 'course_registration': 110,\n",
              " 'course_timings': 90,\n",
              " 'cuda_driver_install': 34,\n",
              " 'dashboard_activation': 121,\n",
              " 'dashboard_add_recording': 56,\n",
              " 'dashboard_content_view_problem': 62,\n",
              " 'dashboard_file_error': 40,\n",
              " 'dashboard_how_to_use': 73,\n",
              " 'data_science_architecture_class': 170,\n",
              " 'decision_tree_ML': 157,\n",
              " 'deployment': 22,\n",
              " 'dialog_flow_email_issue': 143,\n",
              " 'doubt_clear_session': 101,\n",
              " 'doubt_clear_session_recording': 64,\n",
              " 'doubt_session_link': 163,\n",
              " 'drive_code_colab': 161,\n",
              " 'enter_query': 15,\n",
              " 'enter_query_indetails': 152,\n",
              " 'file': 74,\n",
              " 'file_not_found': 115,\n",
              " 'gcp_deployment': 47,\n",
              " 'github': 79,\n",
              " 'github_how_to_use': 165,\n",
              " 'good_bye': 27,\n",
              " 'great': 2,\n",
              " 'heroku_deployment': 42,\n",
              " 'heroku_installation': 153,\n",
              " 'ignore': 49,\n",
              " 'image_scrapper': 23,\n",
              " 'ineuron_challenge_details': 158,\n",
              " 'installation_graphviz': 130,\n",
              " 'internship_query': 16,\n",
              " 'jupyter_notebook': 87,\n",
              " 'large_data_handle_prod_query': 100,\n",
              " 'large_data_handle_query': 125,\n",
              " 'laugh': 67,\n",
              " 'list_comprehensions': 94,\n",
              " 'logistic_regression': 129,\n",
              " 'ml_dl_based_ans': 76,\n",
              " 'mongodb_connection': 155,\n",
              " 'mongodb_installation': 48,\n",
              " 'more_query': 11,\n",
              " 'mysql': 162,\n",
              " 'mysql_installation': 46,\n",
              " 'need_help': 0,\n",
              " 'need_skype_call': 12,\n",
              " 'numpy_error': 95,\n",
              " 'okay_reply': 30,\n",
              " 'pandas_cross_join': 71,\n",
              " 'pandas_general_query': 80,\n",
              " 'pandas_groupby': 65,\n",
              " 'payment_detail': 75,\n",
              " 'pivotal_deployment': 103,\n",
              " 'postman_error': 140,\n",
              " 'postman_url_incorrect_error': 68,\n",
              " 'power-bi_tableau_dashboard': 20,\n",
              " 'powerbi_certificate': 124,\n",
              " 'powerbi_dataset': 114,\n",
              " 'powerbi_installation': 55,\n",
              " 'powerbi_query': 25,\n",
              " 'previous_recordings': 81,\n",
              " 'pycharm_connection': 52,\n",
              " 'pycharm_error': 169,\n",
              " 'pycharm_interpreter_selection': 85,\n",
              " 'pycharm_path_set': 102,\n",
              " 'pyspark': 32,\n",
              " 'python_abstract': 168,\n",
              " 'python_arg_kwarg': 69,\n",
              " 'python_astype': 93,\n",
              " 'python_conversion_datatype': 29,\n",
              " 'python_import_error': 104,\n",
              " 'python_oops': 167,\n",
              " 'python_requirements_install': 38,\n",
              " 'python_super_class': 19,\n",
              " 'rasa_installation': 137,\n",
              " 'rasa_nlu_details': 120,\n",
              " 'recordings_not_avilable': 51,\n",
              " 'refer_class_lecture': 72,\n",
              " 'refer_syllabus': 141,\n",
              " 'resume_query': 26,\n",
              " 'review_scrapping': 61,\n",
              " 'seaborn': 36,\n",
              " 'select_course_id': 160,\n",
              " 'selennium_installation': 66,\n",
              " 'sorry': 37,\n",
              " 'stats': 14,\n",
              " 'str_method_output': 136,\n",
              " 'string_python': 82,\n",
              " 'support_ticket_generate': 10,\n",
              " 'sure': 17,\n",
              " 'svm_doubt': 159,\n",
              " 'system_configurations': 70,\n",
              " 'system_issue': 166,\n",
              " 'tenserflow_setup': 144,\n",
              " 'tensorflow_installation': 63,\n",
              " 'then_reply': 145,\n",
              " 'usecase_document_contains_letter': 108,\n",
              " 'user_email': 44,\n",
              " 'user_name': 142,\n",
              " 'user_number': 99,\n",
              " 'visualization_powerbi_query': 133,\n",
              " 'wait_reply': 91,\n",
              " 'welocme_reply': 4,\n",
              " 'word_file_input_query': 24,\n",
              " 'yes_reply': 9,\n",
              " 'youtube_video_availability': 35,\n",
              " 'zoom_mute_disable_reply': 119,\n",
              " 'zoom_screen_share': 148}"
            ]
          },
          "metadata": {
            "tags": []
          },
          "execution_count": 17
        }
      ]
    },
    {
      "cell_type": "code",
      "metadata": {
        "id": "2FtiQj3n5Qqo"
      },
      "source": [
        "## Loading RoBERTa classes"
      ],
      "execution_count": null,
      "outputs": []
    },
    {
      "cell_type": "code",
      "metadata": {
        "id": "IDyumA2Oda-K"
      },
      "source": [
        "from transformers import FunnelModel, RobertaTokenizer\n",
        "from transformers import FunnelForSequenceClassification, FunnelConfig"
      ],
      "execution_count": null,
      "outputs": []
    },
    {
      "cell_type": "code",
      "metadata": {
        "id": "0ALqUM9f5Qnx",
        "colab": {
          "base_uri": "https://localhost:8080/",
          "height": 1000,
          "referenced_widgets": [
            "420ee4d0bc104e41b4ed13ca3c83d659",
            "87b974555bda436db962aefbb42afe6f",
            "98d29932eed1455b90c661fba2148187",
            "91f8281cde244a3490fd0067cb52003a",
            "274baa524d2649429890ac83e207bd5f",
            "1cd903f57f3b462b9c3f4b578fece37d",
            "09826608f2c142f2a75ad344bffb9b54",
            "e06563c050ee4315b2ca0e93a76d3d2a"
          ]
        },
        "outputId": "c8581742-4516-4276-a58f-1e908d85eb4c"
      },
      "source": [
        "config = FunnelConfig.from_pretrained('funnel-transformer/small-base')\n",
        "config.num_labels = len(list(label_to_ix.values()))\n",
        "config"
      ],
      "execution_count": null,
      "outputs": [
        {
          "output_type": "display_data",
          "data": {
            "application/vnd.jupyter.widget-view+json": {
              "model_id": "420ee4d0bc104e41b4ed13ca3c83d659",
              "version_minor": 0,
              "version_major": 2
            },
            "text/plain": [
              "HBox(children=(FloatProgress(value=0.0, description='Downloading', max=704.0, style=ProgressStyle(description_…"
            ]
          },
          "metadata": {
            "tags": []
          }
        },
        {
          "output_type": "stream",
          "text": [
            "\n"
          ],
          "name": "stdout"
        },
        {
          "output_type": "execute_result",
          "data": {
            "text/plain": [
              "FunnelConfig {\n",
              "  \"activation_dropout\": 0.0,\n",
              "  \"architectures\": [\n",
              "    \"FunnelBaseModel\"\n",
              "  ],\n",
              "  \"attention_dropout\": 0.1,\n",
              "  \"attention_type\": \"relative_shift\",\n",
              "  \"block_repeats\": [\n",
              "    1,\n",
              "    1,\n",
              "    1\n",
              "  ],\n",
              "  \"block_sizes\": [\n",
              "    4,\n",
              "    4,\n",
              "    4\n",
              "  ],\n",
              "  \"d_head\": 64,\n",
              "  \"d_inner\": 3072,\n",
              "  \"d_model\": 768,\n",
              "  \"hidden_act\": \"gelu_new\",\n",
              "  \"hidden_dropout\": 0.1,\n",
              "  \"id2label\": {\n",
              "    \"0\": \"LABEL_0\",\n",
              "    \"1\": \"LABEL_1\",\n",
              "    \"2\": \"LABEL_2\",\n",
              "    \"3\": \"LABEL_3\",\n",
              "    \"4\": \"LABEL_4\",\n",
              "    \"5\": \"LABEL_5\",\n",
              "    \"6\": \"LABEL_6\",\n",
              "    \"7\": \"LABEL_7\",\n",
              "    \"8\": \"LABEL_8\",\n",
              "    \"9\": \"LABEL_9\",\n",
              "    \"10\": \"LABEL_10\",\n",
              "    \"11\": \"LABEL_11\",\n",
              "    \"12\": \"LABEL_12\",\n",
              "    \"13\": \"LABEL_13\",\n",
              "    \"14\": \"LABEL_14\",\n",
              "    \"15\": \"LABEL_15\",\n",
              "    \"16\": \"LABEL_16\",\n",
              "    \"17\": \"LABEL_17\",\n",
              "    \"18\": \"LABEL_18\",\n",
              "    \"19\": \"LABEL_19\",\n",
              "    \"20\": \"LABEL_20\",\n",
              "    \"21\": \"LABEL_21\",\n",
              "    \"22\": \"LABEL_22\",\n",
              "    \"23\": \"LABEL_23\",\n",
              "    \"24\": \"LABEL_24\",\n",
              "    \"25\": \"LABEL_25\",\n",
              "    \"26\": \"LABEL_26\",\n",
              "    \"27\": \"LABEL_27\",\n",
              "    \"28\": \"LABEL_28\",\n",
              "    \"29\": \"LABEL_29\",\n",
              "    \"30\": \"LABEL_30\",\n",
              "    \"31\": \"LABEL_31\",\n",
              "    \"32\": \"LABEL_32\",\n",
              "    \"33\": \"LABEL_33\",\n",
              "    \"34\": \"LABEL_34\",\n",
              "    \"35\": \"LABEL_35\",\n",
              "    \"36\": \"LABEL_36\",\n",
              "    \"37\": \"LABEL_37\",\n",
              "    \"38\": \"LABEL_38\",\n",
              "    \"39\": \"LABEL_39\",\n",
              "    \"40\": \"LABEL_40\",\n",
              "    \"41\": \"LABEL_41\",\n",
              "    \"42\": \"LABEL_42\",\n",
              "    \"43\": \"LABEL_43\",\n",
              "    \"44\": \"LABEL_44\",\n",
              "    \"45\": \"LABEL_45\",\n",
              "    \"46\": \"LABEL_46\",\n",
              "    \"47\": \"LABEL_47\",\n",
              "    \"48\": \"LABEL_48\",\n",
              "    \"49\": \"LABEL_49\",\n",
              "    \"50\": \"LABEL_50\",\n",
              "    \"51\": \"LABEL_51\",\n",
              "    \"52\": \"LABEL_52\",\n",
              "    \"53\": \"LABEL_53\",\n",
              "    \"54\": \"LABEL_54\",\n",
              "    \"55\": \"LABEL_55\",\n",
              "    \"56\": \"LABEL_56\",\n",
              "    \"57\": \"LABEL_57\",\n",
              "    \"58\": \"LABEL_58\",\n",
              "    \"59\": \"LABEL_59\",\n",
              "    \"60\": \"LABEL_60\",\n",
              "    \"61\": \"LABEL_61\",\n",
              "    \"62\": \"LABEL_62\",\n",
              "    \"63\": \"LABEL_63\",\n",
              "    \"64\": \"LABEL_64\",\n",
              "    \"65\": \"LABEL_65\",\n",
              "    \"66\": \"LABEL_66\",\n",
              "    \"67\": \"LABEL_67\",\n",
              "    \"68\": \"LABEL_68\",\n",
              "    \"69\": \"LABEL_69\",\n",
              "    \"70\": \"LABEL_70\",\n",
              "    \"71\": \"LABEL_71\",\n",
              "    \"72\": \"LABEL_72\",\n",
              "    \"73\": \"LABEL_73\",\n",
              "    \"74\": \"LABEL_74\",\n",
              "    \"75\": \"LABEL_75\",\n",
              "    \"76\": \"LABEL_76\",\n",
              "    \"77\": \"LABEL_77\",\n",
              "    \"78\": \"LABEL_78\",\n",
              "    \"79\": \"LABEL_79\",\n",
              "    \"80\": \"LABEL_80\",\n",
              "    \"81\": \"LABEL_81\",\n",
              "    \"82\": \"LABEL_82\",\n",
              "    \"83\": \"LABEL_83\",\n",
              "    \"84\": \"LABEL_84\",\n",
              "    \"85\": \"LABEL_85\",\n",
              "    \"86\": \"LABEL_86\",\n",
              "    \"87\": \"LABEL_87\",\n",
              "    \"88\": \"LABEL_88\",\n",
              "    \"89\": \"LABEL_89\",\n",
              "    \"90\": \"LABEL_90\",\n",
              "    \"91\": \"LABEL_91\",\n",
              "    \"92\": \"LABEL_92\",\n",
              "    \"93\": \"LABEL_93\",\n",
              "    \"94\": \"LABEL_94\",\n",
              "    \"95\": \"LABEL_95\",\n",
              "    \"96\": \"LABEL_96\",\n",
              "    \"97\": \"LABEL_97\",\n",
              "    \"98\": \"LABEL_98\",\n",
              "    \"99\": \"LABEL_99\",\n",
              "    \"100\": \"LABEL_100\",\n",
              "    \"101\": \"LABEL_101\",\n",
              "    \"102\": \"LABEL_102\",\n",
              "    \"103\": \"LABEL_103\",\n",
              "    \"104\": \"LABEL_104\",\n",
              "    \"105\": \"LABEL_105\",\n",
              "    \"106\": \"LABEL_106\",\n",
              "    \"107\": \"LABEL_107\",\n",
              "    \"108\": \"LABEL_108\",\n",
              "    \"109\": \"LABEL_109\",\n",
              "    \"110\": \"LABEL_110\",\n",
              "    \"111\": \"LABEL_111\",\n",
              "    \"112\": \"LABEL_112\",\n",
              "    \"113\": \"LABEL_113\",\n",
              "    \"114\": \"LABEL_114\",\n",
              "    \"115\": \"LABEL_115\",\n",
              "    \"116\": \"LABEL_116\",\n",
              "    \"117\": \"LABEL_117\",\n",
              "    \"118\": \"LABEL_118\",\n",
              "    \"119\": \"LABEL_119\",\n",
              "    \"120\": \"LABEL_120\",\n",
              "    \"121\": \"LABEL_121\",\n",
              "    \"122\": \"LABEL_122\",\n",
              "    \"123\": \"LABEL_123\",\n",
              "    \"124\": \"LABEL_124\",\n",
              "    \"125\": \"LABEL_125\",\n",
              "    \"126\": \"LABEL_126\",\n",
              "    \"127\": \"LABEL_127\",\n",
              "    \"128\": \"LABEL_128\",\n",
              "    \"129\": \"LABEL_129\",\n",
              "    \"130\": \"LABEL_130\",\n",
              "    \"131\": \"LABEL_131\",\n",
              "    \"132\": \"LABEL_132\",\n",
              "    \"133\": \"LABEL_133\",\n",
              "    \"134\": \"LABEL_134\",\n",
              "    \"135\": \"LABEL_135\",\n",
              "    \"136\": \"LABEL_136\",\n",
              "    \"137\": \"LABEL_137\",\n",
              "    \"138\": \"LABEL_138\",\n",
              "    \"139\": \"LABEL_139\",\n",
              "    \"140\": \"LABEL_140\",\n",
              "    \"141\": \"LABEL_141\",\n",
              "    \"142\": \"LABEL_142\",\n",
              "    \"143\": \"LABEL_143\",\n",
              "    \"144\": \"LABEL_144\",\n",
              "    \"145\": \"LABEL_145\",\n",
              "    \"146\": \"LABEL_146\",\n",
              "    \"147\": \"LABEL_147\",\n",
              "    \"148\": \"LABEL_148\",\n",
              "    \"149\": \"LABEL_149\",\n",
              "    \"150\": \"LABEL_150\",\n",
              "    \"151\": \"LABEL_151\",\n",
              "    \"152\": \"LABEL_152\",\n",
              "    \"153\": \"LABEL_153\",\n",
              "    \"154\": \"LABEL_154\",\n",
              "    \"155\": \"LABEL_155\",\n",
              "    \"156\": \"LABEL_156\",\n",
              "    \"157\": \"LABEL_157\",\n",
              "    \"158\": \"LABEL_158\",\n",
              "    \"159\": \"LABEL_159\",\n",
              "    \"160\": \"LABEL_160\",\n",
              "    \"161\": \"LABEL_161\",\n",
              "    \"162\": \"LABEL_162\",\n",
              "    \"163\": \"LABEL_163\",\n",
              "    \"164\": \"LABEL_164\",\n",
              "    \"165\": \"LABEL_165\",\n",
              "    \"166\": \"LABEL_166\",\n",
              "    \"167\": \"LABEL_167\",\n",
              "    \"168\": \"LABEL_168\",\n",
              "    \"169\": \"LABEL_169\",\n",
              "    \"170\": \"LABEL_170\"\n",
              "  },\n",
              "  \"initializer_range\": 0.1,\n",
              "  \"initializer_std\": null,\n",
              "  \"label2id\": {\n",
              "    \"LABEL_0\": 0,\n",
              "    \"LABEL_1\": 1,\n",
              "    \"LABEL_10\": 10,\n",
              "    \"LABEL_100\": 100,\n",
              "    \"LABEL_101\": 101,\n",
              "    \"LABEL_102\": 102,\n",
              "    \"LABEL_103\": 103,\n",
              "    \"LABEL_104\": 104,\n",
              "    \"LABEL_105\": 105,\n",
              "    \"LABEL_106\": 106,\n",
              "    \"LABEL_107\": 107,\n",
              "    \"LABEL_108\": 108,\n",
              "    \"LABEL_109\": 109,\n",
              "    \"LABEL_11\": 11,\n",
              "    \"LABEL_110\": 110,\n",
              "    \"LABEL_111\": 111,\n",
              "    \"LABEL_112\": 112,\n",
              "    \"LABEL_113\": 113,\n",
              "    \"LABEL_114\": 114,\n",
              "    \"LABEL_115\": 115,\n",
              "    \"LABEL_116\": 116,\n",
              "    \"LABEL_117\": 117,\n",
              "    \"LABEL_118\": 118,\n",
              "    \"LABEL_119\": 119,\n",
              "    \"LABEL_12\": 12,\n",
              "    \"LABEL_120\": 120,\n",
              "    \"LABEL_121\": 121,\n",
              "    \"LABEL_122\": 122,\n",
              "    \"LABEL_123\": 123,\n",
              "    \"LABEL_124\": 124,\n",
              "    \"LABEL_125\": 125,\n",
              "    \"LABEL_126\": 126,\n",
              "    \"LABEL_127\": 127,\n",
              "    \"LABEL_128\": 128,\n",
              "    \"LABEL_129\": 129,\n",
              "    \"LABEL_13\": 13,\n",
              "    \"LABEL_130\": 130,\n",
              "    \"LABEL_131\": 131,\n",
              "    \"LABEL_132\": 132,\n",
              "    \"LABEL_133\": 133,\n",
              "    \"LABEL_134\": 134,\n",
              "    \"LABEL_135\": 135,\n",
              "    \"LABEL_136\": 136,\n",
              "    \"LABEL_137\": 137,\n",
              "    \"LABEL_138\": 138,\n",
              "    \"LABEL_139\": 139,\n",
              "    \"LABEL_14\": 14,\n",
              "    \"LABEL_140\": 140,\n",
              "    \"LABEL_141\": 141,\n",
              "    \"LABEL_142\": 142,\n",
              "    \"LABEL_143\": 143,\n",
              "    \"LABEL_144\": 144,\n",
              "    \"LABEL_145\": 145,\n",
              "    \"LABEL_146\": 146,\n",
              "    \"LABEL_147\": 147,\n",
              "    \"LABEL_148\": 148,\n",
              "    \"LABEL_149\": 149,\n",
              "    \"LABEL_15\": 15,\n",
              "    \"LABEL_150\": 150,\n",
              "    \"LABEL_151\": 151,\n",
              "    \"LABEL_152\": 152,\n",
              "    \"LABEL_153\": 153,\n",
              "    \"LABEL_154\": 154,\n",
              "    \"LABEL_155\": 155,\n",
              "    \"LABEL_156\": 156,\n",
              "    \"LABEL_157\": 157,\n",
              "    \"LABEL_158\": 158,\n",
              "    \"LABEL_159\": 159,\n",
              "    \"LABEL_16\": 16,\n",
              "    \"LABEL_160\": 160,\n",
              "    \"LABEL_161\": 161,\n",
              "    \"LABEL_162\": 162,\n",
              "    \"LABEL_163\": 163,\n",
              "    \"LABEL_164\": 164,\n",
              "    \"LABEL_165\": 165,\n",
              "    \"LABEL_166\": 166,\n",
              "    \"LABEL_167\": 167,\n",
              "    \"LABEL_168\": 168,\n",
              "    \"LABEL_169\": 169,\n",
              "    \"LABEL_17\": 17,\n",
              "    \"LABEL_170\": 170,\n",
              "    \"LABEL_18\": 18,\n",
              "    \"LABEL_19\": 19,\n",
              "    \"LABEL_2\": 2,\n",
              "    \"LABEL_20\": 20,\n",
              "    \"LABEL_21\": 21,\n",
              "    \"LABEL_22\": 22,\n",
              "    \"LABEL_23\": 23,\n",
              "    \"LABEL_24\": 24,\n",
              "    \"LABEL_25\": 25,\n",
              "    \"LABEL_26\": 26,\n",
              "    \"LABEL_27\": 27,\n",
              "    \"LABEL_28\": 28,\n",
              "    \"LABEL_29\": 29,\n",
              "    \"LABEL_3\": 3,\n",
              "    \"LABEL_30\": 30,\n",
              "    \"LABEL_31\": 31,\n",
              "    \"LABEL_32\": 32,\n",
              "    \"LABEL_33\": 33,\n",
              "    \"LABEL_34\": 34,\n",
              "    \"LABEL_35\": 35,\n",
              "    \"LABEL_36\": 36,\n",
              "    \"LABEL_37\": 37,\n",
              "    \"LABEL_38\": 38,\n",
              "    \"LABEL_39\": 39,\n",
              "    \"LABEL_4\": 4,\n",
              "    \"LABEL_40\": 40,\n",
              "    \"LABEL_41\": 41,\n",
              "    \"LABEL_42\": 42,\n",
              "    \"LABEL_43\": 43,\n",
              "    \"LABEL_44\": 44,\n",
              "    \"LABEL_45\": 45,\n",
              "    \"LABEL_46\": 46,\n",
              "    \"LABEL_47\": 47,\n",
              "    \"LABEL_48\": 48,\n",
              "    \"LABEL_49\": 49,\n",
              "    \"LABEL_5\": 5,\n",
              "    \"LABEL_50\": 50,\n",
              "    \"LABEL_51\": 51,\n",
              "    \"LABEL_52\": 52,\n",
              "    \"LABEL_53\": 53,\n",
              "    \"LABEL_54\": 54,\n",
              "    \"LABEL_55\": 55,\n",
              "    \"LABEL_56\": 56,\n",
              "    \"LABEL_57\": 57,\n",
              "    \"LABEL_58\": 58,\n",
              "    \"LABEL_59\": 59,\n",
              "    \"LABEL_6\": 6,\n",
              "    \"LABEL_60\": 60,\n",
              "    \"LABEL_61\": 61,\n",
              "    \"LABEL_62\": 62,\n",
              "    \"LABEL_63\": 63,\n",
              "    \"LABEL_64\": 64,\n",
              "    \"LABEL_65\": 65,\n",
              "    \"LABEL_66\": 66,\n",
              "    \"LABEL_67\": 67,\n",
              "    \"LABEL_68\": 68,\n",
              "    \"LABEL_69\": 69,\n",
              "    \"LABEL_7\": 7,\n",
              "    \"LABEL_70\": 70,\n",
              "    \"LABEL_71\": 71,\n",
              "    \"LABEL_72\": 72,\n",
              "    \"LABEL_73\": 73,\n",
              "    \"LABEL_74\": 74,\n",
              "    \"LABEL_75\": 75,\n",
              "    \"LABEL_76\": 76,\n",
              "    \"LABEL_77\": 77,\n",
              "    \"LABEL_78\": 78,\n",
              "    \"LABEL_79\": 79,\n",
              "    \"LABEL_8\": 8,\n",
              "    \"LABEL_80\": 80,\n",
              "    \"LABEL_81\": 81,\n",
              "    \"LABEL_82\": 82,\n",
              "    \"LABEL_83\": 83,\n",
              "    \"LABEL_84\": 84,\n",
              "    \"LABEL_85\": 85,\n",
              "    \"LABEL_86\": 86,\n",
              "    \"LABEL_87\": 87,\n",
              "    \"LABEL_88\": 88,\n",
              "    \"LABEL_89\": 89,\n",
              "    \"LABEL_9\": 9,\n",
              "    \"LABEL_90\": 90,\n",
              "    \"LABEL_91\": 91,\n",
              "    \"LABEL_92\": 92,\n",
              "    \"LABEL_93\": 93,\n",
              "    \"LABEL_94\": 94,\n",
              "    \"LABEL_95\": 95,\n",
              "    \"LABEL_96\": 96,\n",
              "    \"LABEL_97\": 97,\n",
              "    \"LABEL_98\": 98,\n",
              "    \"LABEL_99\": 99\n",
              "  },\n",
              "  \"layer_norm_eps\": 1e-09,\n",
              "  \"max_position_embeddings\": 512,\n",
              "  \"model_type\": \"funnel\",\n",
              "  \"n_head\": 12,\n",
              "  \"num_decoder_layers\": 2,\n",
              "  \"pool_q_only\": true,\n",
              "  \"pooling_type\": \"mean\",\n",
              "  \"rel_attn_type\": \"factorized\",\n",
              "  \"separate_cls\": true,\n",
              "  \"truncate_seq\": true,\n",
              "  \"type_vocab_size\": 3,\n",
              "  \"vocab_size\": 30522\n",
              "}"
            ]
          },
          "metadata": {
            "tags": []
          },
          "execution_count": 22
        }
      ]
    },
    {
      "cell_type": "code",
      "metadata": {
        "id": "b65wR6MO5Qkm",
        "colab": {
          "base_uri": "https://localhost:8080/",
          "height": 66,
          "referenced_widgets": [
            "39996366bfa346e185957ffdb67a13db",
            "e45f7191145348d78dc531475ff090c2",
            "deb4fd171b014061a5df75b18316db4a",
            "e025a63611b9404985001f861c4063b2",
            "9739cceaa8e5463f9a4b6f464641919f",
            "22a653e47d8f43d38ba636001f7c56f3",
            "9f81bcf0778e49d6927c55051e17340a",
            "5759f7211a6f4d648db59f3c20a4aa5f"
          ]
        },
        "outputId": "97a861dc-787e-4aaf-8c37-10096aa8d8ad"
      },
      "source": [
        "tokenizer = FunnelTokenizer.from_pretrained('funnel-transformer/small-base')\n",
        "model = FunnelForSequenceClassification(config)"
      ],
      "execution_count": null,
      "outputs": [
        {
          "output_type": "display_data",
          "data": {
            "application/vnd.jupyter.widget-view+json": {
              "model_id": "39996366bfa346e185957ffdb67a13db",
              "version_minor": 0,
              "version_major": 2
            },
            "text/plain": [
              "HBox(children=(FloatProgress(value=0.0, description='Downloading', max=231485.0, style=ProgressStyle(descripti…"
            ]
          },
          "metadata": {
            "tags": []
          }
        },
        {
          "output_type": "stream",
          "text": [
            "\n"
          ],
          "name": "stdout"
        }
      ]
    },
    {
      "cell_type": "code",
      "metadata": {
        "id": "ZGKN5aD85Bje"
      },
      "source": [
        "## Feature Preparation"
      ],
      "execution_count": null,
      "outputs": []
    },
    {
      "cell_type": "code",
      "metadata": {
        "id": "qf0ATRkF5LEx"
      },
      "source": [
        "def prepare_features(seq_1, max_seq_length = 300, \n",
        "             zero_pad = False, include_CLS_token = True, include_SEP_token = True):\n",
        "    ## Tokenzine Input\n",
        "    tokens_a = tokenizer.tokenize(seq_1)\n",
        "\n",
        "    ## Truncate\n",
        "    if len(tokens_a) > max_seq_length - 2:\n",
        "        tokens_a = tokens_a[0:(max_seq_length - 2)]\n",
        "    ## Initialize Tokens\n",
        "    tokens = []\n",
        "    if include_CLS_token:\n",
        "        tokens.append(tokenizer.cls_token)\n",
        "    ## Add Tokens and separators\n",
        "    for token in tokens_a:\n",
        "        tokens.append(token)\n",
        "\n",
        "    if include_SEP_token:\n",
        "        tokens.append(tokenizer.sep_token)\n",
        "\n",
        "    input_ids = tokenizer.convert_tokens_to_ids(tokens)\n",
        "    ## Input Mask \n",
        "    input_mask = [1] * len(input_ids)\n",
        "    ## Zero-pad sequence length\n",
        "    if zero_pad:\n",
        "        while len(input_ids) < max_seq_length:\n",
        "            input_ids.append(0)\n",
        "            input_mask.append(0)\n",
        "    return torch.tensor(input_ids).unsqueeze(0), input_mask"
      ],
      "execution_count": null,
      "outputs": []
    },
    {
      "cell_type": "code",
      "metadata": {
        "id": "JDx-QxmX5Muc",
        "colab": {
          "base_uri": "https://localhost:8080/"
        },
        "outputId": "1046ae6c-d7c1-4484-a4e8-2d8b236061a6"
      },
      "source": [
        "msg = \"My dog is cute!\"\n",
        "prepare_features(msg)"
      ],
      "execution_count": null,
      "outputs": [
        {
          "output_type": "execute_result",
          "data": {
            "text/plain": [
              "(tensor([[  101,  2026,  3899,  2003, 10140,   999,   102]]),\n",
              " [1, 1, 1, 1, 1, 1, 1])"
            ]
          },
          "metadata": {
            "tags": []
          },
          "execution_count": 25
        }
      ]
    },
    {
      "cell_type": "code",
      "metadata": {
        "id": "4pNqrigh5OIZ"
      },
      "source": [
        "## Dataset Loader Classes"
      ],
      "execution_count": null,
      "outputs": []
    },
    {
      "cell_type": "code",
      "metadata": {
        "id": "Pexochza5lZq"
      },
      "source": [
        "class Intents(Dataset):\n",
        "    def __init__(self, dataframe):\n",
        "        self.len = len(dataframe)\n",
        "        self.data = dataframe\n",
        "        \n",
        "    def __getitem__(self, index):\n",
        "        utterance = self.data.utterance[index]\n",
        "        label = self.data.label[index]\n",
        "        X, _  = prepare_features(utterance)\n",
        "        y = label_to_ix[self.data.label[index]]\n",
        "        return X, y\n",
        "    \n",
        "    def __len__(self):\n",
        "        return self.len"
      ],
      "execution_count": null,
      "outputs": []
    },
    {
      "cell_type": "code",
      "metadata": {
        "id": "LYmLH-a4_Wgj"
      },
      "source": [
        "train_size = 0.8\n",
        "train_dataset=dataset.sample(frac=train_size,random_state=200).reset_index(drop=True)\n",
        "test_dataset=dataset.drop(train_dataset.index).reset_index(drop=True)"
      ],
      "execution_count": null,
      "outputs": []
    },
    {
      "cell_type": "code",
      "metadata": {
        "id": "6FHYE4qa_P3N",
        "colab": {
          "base_uri": "https://localhost:8080/"
        },
        "outputId": "fa98bccb-47ad-4734-f7f7-4089c45d204d"
      },
      "source": [
        "k = set(train_dataset[\"label\"])\n",
        "print(len(k))\n",
        "l = set(test_dataset[\"label\"])\n",
        "print(len(l))\n",
        "z = k.intersection(l)\n",
        "len(z)"
      ],
      "execution_count": null,
      "outputs": [
        {
          "output_type": "stream",
          "text": [
            "158\n",
            "98\n"
          ],
          "name": "stdout"
        },
        {
          "output_type": "execute_result",
          "data": {
            "text/plain": [
              "93"
            ]
          },
          "metadata": {
            "tags": []
          },
          "execution_count": 28
        }
      ]
    },
    {
      "cell_type": "code",
      "metadata": {
        "id": "fqOFntri5yW-",
        "colab": {
          "base_uri": "https://localhost:8080/"
        },
        "outputId": "4de240ab-7ba8-4ce5-ef9e-9c16c84fdaa5"
      },
      "source": [
        "print(\"FULL Dataset: {}\".format(dataset.shape))\n",
        "print(\"TRAIN Dataset: {}\".format(train_dataset.shape))\n",
        "print(\"TEST Dataset: {}\".format(test_dataset.shape))"
      ],
      "execution_count": null,
      "outputs": [
        {
          "output_type": "stream",
          "text": [
            "FULL Dataset: (4339, 2)\n",
            "TRAIN Dataset: (3471, 2)\n",
            "TEST Dataset: (868, 2)\n"
          ],
          "name": "stdout"
        }
      ]
    },
    {
      "cell_type": "code",
      "metadata": {
        "id": "zJkGxTWZ5z5d"
      },
      "source": [
        "training_set = Intents(train_dataset)\n",
        "testing_set = Intents(test_dataset)"
      ],
      "execution_count": null,
      "outputs": []
    },
    {
      "cell_type": "code",
      "metadata": {
        "id": "guYUIlVN51gE",
        "colab": {
          "base_uri": "https://localhost:8080/"
        },
        "outputId": "2019012f-7b5e-4653-e1e0-5f4a606ea393"
      },
      "source": [
        "training_set.__getitem__(0)[0].shape"
      ],
      "execution_count": null,
      "outputs": [
        {
          "output_type": "execute_result",
          "data": {
            "text/plain": [
              "torch.Size([1, 19])"
            ]
          },
          "metadata": {
            "tags": []
          },
          "execution_count": 31
        }
      ]
    },
    {
      "cell_type": "code",
      "metadata": {
        "id": "iuCpzlBq52qV",
        "colab": {
          "base_uri": "https://localhost:8080/"
        },
        "outputId": "040c1400-a77b-4f0f-8e2c-5f48797b2652"
      },
      "source": [
        "model(training_set.__getitem__(0)[0])"
      ],
      "execution_count": null,
      "outputs": [
        {
          "output_type": "execute_result",
          "data": {
            "text/plain": [
              "SequenceClassifierOutput([('logits',\n",
              "                           tensor([[-2.9197e-01, -5.4363e-02, -2.2016e-01,  6.1515e-01, -9.4346e-01,\n",
              "                                    -1.8148e-01, -1.1631e-01, -2.6675e-01, -1.1772e-01, -3.2766e-01,\n",
              "                                     8.4443e-01, -1.7271e-01,  1.1671e-01, -8.0518e-01,  2.9234e-01,\n",
              "                                     6.8919e-01, -9.3210e-01,  1.2069e+00, -9.1735e-02, -5.0392e-01,\n",
              "                                     3.4391e-02, -5.2317e-01,  1.2905e-01, -5.9976e-01,  4.1854e-02,\n",
              "                                     5.6398e-01,  2.4935e-01,  2.4610e-01, -1.7652e-02, -1.6103e-02,\n",
              "                                     6.7283e-01, -1.0901e-01,  4.9346e-01,  8.2444e-01,  1.2214e-01,\n",
              "                                    -4.6423e-01, -3.3042e-01, -6.8538e-01, -1.1763e-01, -8.6364e-01,\n",
              "                                     4.1593e-01,  5.8655e-02, -2.4901e-01,  3.5780e-01, -1.9711e-01,\n",
              "                                     1.8670e-04, -6.6069e-01, -8.0649e-02,  6.4679e-01,  9.9223e-02,\n",
              "                                    -3.2464e-01, -9.1648e-02,  7.5920e-01,  3.3177e-01,  2.8689e-01,\n",
              "                                     2.8692e-01,  4.5691e-01, -5.7996e-02, -3.2448e-01, -1.6031e-01,\n",
              "                                    -2.9839e-01,  7.6378e-01,  4.7328e-01,  4.6592e-02, -1.0738e-01,\n",
              "                                     6.2040e-01,  3.3326e-01,  4.9393e-02,  4.2295e-01,  4.0829e-01,\n",
              "                                    -2.4061e-01,  3.0985e-01,  3.9095e-01, -7.4496e-01,  3.7749e-01,\n",
              "                                     3.3765e-01, -2.4262e-01, -2.4247e-02, -1.0608e-01, -7.0307e-02,\n",
              "                                     5.0280e-01,  2.8349e-01,  3.3381e-01, -6.4684e-01, -3.6988e-01,\n",
              "                                    -1.8005e-01, -1.0668e+00,  5.7267e-01,  6.1571e-02,  1.2245e-01,\n",
              "                                     1.5263e-01,  5.6390e-01,  5.7631e-01,  3.2107e-01,  1.1448e-01,\n",
              "                                    -6.3259e-01, -6.3793e-01, -7.6506e-01, -5.3449e-01,  3.0680e-01,\n",
              "                                     4.9128e-01,  1.2810e-02, -1.9186e-01, -1.8775e-02, -9.7231e-01,\n",
              "                                    -3.0448e-01, -2.3083e-01,  6.9215e-02, -8.0186e-01, -3.5460e-01,\n",
              "                                    -7.3621e-01,  4.2080e-01, -6.1126e-02, -5.0950e-01,  9.7846e-01,\n",
              "                                    -1.7587e-01,  3.2119e-01,  7.4439e-01, -8.4414e-01, -4.1931e-01,\n",
              "                                     4.7072e-02, -3.8433e-01,  3.0215e-01,  3.5999e-01, -4.3111e-01,\n",
              "                                     8.7569e-02,  2.5684e-02,  3.4450e-01, -1.5820e-02,  5.2678e-01,\n",
              "                                    -4.5062e-01,  1.1239e-01, -6.4079e-01,  4.9310e-01, -8.9136e-01,\n",
              "                                     5.7557e-01, -4.4244e-01, -5.0960e-02, -6.0159e-01,  4.8236e-01,\n",
              "                                     2.5832e-01,  6.6891e-01, -6.0918e-01, -6.5030e-01, -9.2185e-01,\n",
              "                                    -1.2499e-01, -2.9213e-01,  1.2985e+00,  1.7861e-01,  7.8875e-01,\n",
              "                                     4.3311e-01,  1.6794e-01,  1.2772e-02,  5.6503e-01,  3.9328e-01,\n",
              "                                     7.0589e-01, -3.9781e-01, -2.3368e-01,  7.1886e-02,  3.2843e-01,\n",
              "                                    -1.5033e+00,  5.4476e-01,  7.5611e-01, -7.5672e-01,  4.6854e-01,\n",
              "                                     4.7367e-01, -3.1381e-01,  3.6518e-01,  3.3668e-01,  8.3507e-01,\n",
              "                                    -1.6950e-01]], grad_fn=<AddmmBackward>))])"
            ]
          },
          "metadata": {
            "tags": []
          },
          "execution_count": 32
        }
      ]
    },
    {
      "cell_type": "code",
      "metadata": {
        "id": "Z3SH63pK5339"
      },
      "source": [
        "## Training Params"
      ],
      "execution_count": null,
      "outputs": []
    },
    {
      "cell_type": "code",
      "metadata": {
        "id": "yYQq5eSi55mZ"
      },
      "source": [
        "device = torch.device(\"cuda\" if torch.cuda.is_available() else \"cpu\")\n",
        "model = model.cuda()"
      ],
      "execution_count": null,
      "outputs": []
    },
    {
      "cell_type": "code",
      "metadata": {
        "id": "H6MIe-fe6PY2"
      },
      "source": [
        "# Parameters\n",
        "params = {'batch_size': 1,\n",
        "          'shuffle': True,\n",
        "          'drop_last': False,\n",
        "          'num_workers': 1}"
      ],
      "execution_count": null,
      "outputs": []
    },
    {
      "cell_type": "code",
      "metadata": {
        "id": "egs1bYCe6UOL"
      },
      "source": [
        "training_loader = DataLoader(training_set, **params)\n",
        "testing_loader = DataLoader(testing_set, **params)"
      ],
      "execution_count": null,
      "outputs": []
    },
    {
      "cell_type": "code",
      "metadata": {
        "id": "0RfrS14A6WGV"
      },
      "source": [
        "loss_function = nn.CrossEntropyLoss()\n",
        "learning_rate = 1e-05\n",
        "optimizer = optim.Adam(params =  model.parameters(), lr=learning_rate)"
      ],
      "execution_count": null,
      "outputs": []
    },
    {
      "cell_type": "code",
      "metadata": {
        "id": "-n3p7ncn6Xst",
        "colab": {
          "base_uri": "https://localhost:8080/"
        },
        "outputId": "d85001e3-55c0-4e97-8f09-9a1538adb35a"
      },
      "source": [
        "## Test Forward Pass\n",
        "inp = training_set.__getitem__(0)[0].cuda()\n",
        "output = model(inp)[0]\n",
        "print(output.shape)"
      ],
      "execution_count": null,
      "outputs": [
        {
          "output_type": "stream",
          "text": [
            "torch.Size([1, 171])\n"
          ],
          "name": "stdout"
        }
      ]
    },
    {
      "cell_type": "code",
      "metadata": {
        "id": "AahQQllgKQ4F",
        "colab": {
          "base_uri": "https://localhost:8080/",
          "height": 35
        },
        "outputId": "d2fde84f-136f-4cbe-ed35-e8ec8561f782"
      },
      "source": [
        "torch.__version__"
      ],
      "execution_count": null,
      "outputs": [
        {
          "output_type": "execute_result",
          "data": {
            "application/vnd.google.colaboratory.intrinsic+json": {
              "type": "string"
            },
            "text/plain": [
              "'1.7.0+cu101'"
            ]
          },
          "metadata": {
            "tags": []
          },
          "execution_count": 38
        }
      ]
    },
    {
      "cell_type": "code",
      "metadata": {
        "colab": {
          "base_uri": "https://localhost:8080/"
        },
        "id": "43E6BxcJlMvK",
        "outputId": "952ce765-9896-42c5-a411-4e55eb1677e9"
      },
      "source": [
        "model.resize_token_embeddings(len(tokenizer))"
      ],
      "execution_count": null,
      "outputs": [
        {
          "output_type": "execute_result",
          "data": {
            "text/plain": [
              "Embedding(30522, 768)"
            ]
          },
          "metadata": {
            "tags": []
          },
          "execution_count": 50
        }
      ]
    },
    {
      "cell_type": "code",
      "metadata": {
        "id": "xoRJhLY06evJ",
        "colab": {
          "base_uri": "https://localhost:8080/",
          "height": 360,
          "referenced_widgets": [
            "e6fa3e3645904bdc91651b2737f1b9d8",
            "da23c9bb02bf46b287a59c99fd6577fd",
            "7bb936f5351b419ca451f25d1d2a22ca",
            "e3124ebee2f94a4c9a7eb95158ae59b0",
            "df927f16164b463f907eb88de7668e27",
            "fdfb0a522fc34eff9f8a9b600e7c6f6b",
            "529b98111b8a45a986c253246dda4a98",
            "ab4f68ca7880498e91996a19800f3604"
          ]
        },
        "outputId": "1ca36f99-8237-40c3-ef8d-268f35cfee7a"
      },
      "source": [
        "max_epochs = 3\n",
        "model = model.train()\n",
        "for epoch in tqdm_notebook(range(max_epochs)):\n",
        "    print(\"EPOCH -- {}\".format(epoch))\n",
        "    for i, (sent, label) in enumerate(training_loader):\n",
        "        optimizer.zero_grad()\n",
        "        sent = sent.squeeze(0)\n",
        "        if torch.cuda.is_available():\n",
        "          sent = sent.cuda()\n",
        "          label = label.cuda()\n",
        "        output = model.forward(sent)[0]\n",
        "        _, predicted = torch.max(output, 1)\n",
        "        \n",
        "        loss = loss_function(output, label)\n",
        "        loss.backward()\n",
        "        optimizer.step()\n",
        "        \n",
        "        if i%100 == 0:\n",
        "            correct = 0\n",
        "            total = 0\n",
        "            for sent, label in testing_loader:\n",
        "                sent = sent.squeeze(0)\n",
        "                if torch.cuda.is_available():\n",
        "                  sent = sent.cuda()\n",
        "                  label = label.cuda()\n",
        "                output = model.forward(sent)[0]\n",
        "                _, predicted = torch.max(output.data, 1)\n",
        "                total += label.size(0)\n",
        "                correct += (predicted.cpu() == label.cpu()).sum()\n",
        "            accuracy = 100.00 * correct.numpy() / total\n",
        "            print('Iteration: {}. Loss: {}. Accuracy: {}%'.format(i, loss.item(), accuracy))"
      ],
      "execution_count": null,
      "outputs": [
        {
          "output_type": "stream",
          "text": [
            "/usr/local/lib/python3.6/dist-packages/ipykernel_launcher.py:3: TqdmDeprecationWarning: This function will be removed in tqdm==5.0.0\n",
            "Please use `tqdm.notebook.tqdm` instead of `tqdm.tqdm_notebook`\n",
            "  This is separate from the ipykernel package so we can avoid doing imports until\n"
          ],
          "name": "stderr"
        },
        {
          "output_type": "display_data",
          "data": {
            "application/vnd.jupyter.widget-view+json": {
              "model_id": "e6fa3e3645904bdc91651b2737f1b9d8",
              "version_minor": 0,
              "version_major": 2
            },
            "text/plain": [
              "HBox(children=(FloatProgress(value=0.0, max=3.0), HTML(value='')))"
            ]
          },
          "metadata": {
            "tags": []
          }
        },
        {
          "output_type": "stream",
          "text": [
            "EPOCH -- 0\n",
            "\n"
          ],
          "name": "stdout"
        },
        {
          "output_type": "error",
          "ename": "RuntimeError",
          "evalue": "ignored",
          "traceback": [
            "\u001b[0;31m---------------------------------------------------------------------------\u001b[0m",
            "\u001b[0;31mRuntimeError\u001b[0m                              Traceback (most recent call last)",
            "\u001b[0;32m<ipython-input-51-df6613efef80>\u001b[0m in \u001b[0;36m<module>\u001b[0;34m()\u001b[0m\n\u001b[1;32m      7\u001b[0m         \u001b[0msent\u001b[0m \u001b[0;34m=\u001b[0m \u001b[0msent\u001b[0m\u001b[0;34m.\u001b[0m\u001b[0msqueeze\u001b[0m\u001b[0;34m(\u001b[0m\u001b[0;36m0\u001b[0m\u001b[0;34m)\u001b[0m\u001b[0;34m\u001b[0m\u001b[0;34m\u001b[0m\u001b[0m\n\u001b[1;32m      8\u001b[0m         \u001b[0;32mif\u001b[0m \u001b[0mtorch\u001b[0m\u001b[0;34m.\u001b[0m\u001b[0mcuda\u001b[0m\u001b[0;34m.\u001b[0m\u001b[0mis_available\u001b[0m\u001b[0;34m(\u001b[0m\u001b[0;34m)\u001b[0m\u001b[0;34m:\u001b[0m\u001b[0;34m\u001b[0m\u001b[0;34m\u001b[0m\u001b[0m\n\u001b[0;32m----> 9\u001b[0;31m           \u001b[0msent\u001b[0m \u001b[0;34m=\u001b[0m \u001b[0msent\u001b[0m\u001b[0;34m.\u001b[0m\u001b[0mcuda\u001b[0m\u001b[0;34m(\u001b[0m\u001b[0;34m)\u001b[0m\u001b[0;34m\u001b[0m\u001b[0;34m\u001b[0m\u001b[0m\n\u001b[0m\u001b[1;32m     10\u001b[0m           \u001b[0mlabel\u001b[0m \u001b[0;34m=\u001b[0m \u001b[0mlabel\u001b[0m\u001b[0;34m.\u001b[0m\u001b[0mcuda\u001b[0m\u001b[0;34m(\u001b[0m\u001b[0;34m)\u001b[0m\u001b[0;34m\u001b[0m\u001b[0;34m\u001b[0m\u001b[0m\n\u001b[1;32m     11\u001b[0m         \u001b[0moutput\u001b[0m \u001b[0;34m=\u001b[0m \u001b[0mmodel\u001b[0m\u001b[0;34m.\u001b[0m\u001b[0mforward\u001b[0m\u001b[0;34m(\u001b[0m\u001b[0msent\u001b[0m\u001b[0;34m)\u001b[0m\u001b[0;34m[\u001b[0m\u001b[0;36m0\u001b[0m\u001b[0;34m]\u001b[0m\u001b[0;34m\u001b[0m\u001b[0;34m\u001b[0m\u001b[0m\n",
            "\u001b[0;31mRuntimeError\u001b[0m: CUDA error: device-side assert triggered"
          ]
        }
      ]
    },
    {
      "cell_type": "code",
      "metadata": {
        "id": "9AhmsnJO6ucy"
      },
      "source": [
        "# torch.save(model.state_dict(), 'drive/My Drive/Datasets/roberta_state_dict_'+ str(uuid4())+'.pkl')"
      ],
      "execution_count": null,
      "outputs": []
    },
    {
      "cell_type": "code",
      "metadata": {
        "id": "TS2_j3qyh2hA"
      },
      "source": [
        "## Load model"
      ],
      "execution_count": null,
      "outputs": []
    },
    {
      "cell_type": "code",
      "metadata": {
        "id": "1sRpJDMDiA7N"
      },
      "source": [
        "#model_path = '/content/drive/MyDrive/Datasets/roberta_state_dict_11c6ad45-5a57-4a99-b815-bcecabede399.pth'"
      ],
      "execution_count": null,
      "outputs": []
    },
    {
      "cell_type": "code",
      "metadata": {
        "id": "zswPnTBBh9to"
      },
      "source": [
        "#model.load_state_dict(torch.load(model_path, map_location=device))"
      ],
      "execution_count": null,
      "outputs": []
    },
    {
      "cell_type": "code",
      "metadata": {
        "id": "AUJIKtiINAHb"
      },
      "source": [
        "def get_reply(msg):\n",
        "  model.eval()\n",
        "  input_msg, _ = prepare_features(msg)\n",
        "  if torch.cuda.is_available():\n",
        "    input_msg = input_msg.cuda()\n",
        "  output = model(input_msg)[0]\n",
        "  _, pred_label = torch.max(output.data, 1)\n",
        "  prediction=list(label_to_ix.keys())[pred_label]\n",
        "  return prediction"
      ],
      "execution_count": null,
      "outputs": []
    },
    {
      "cell_type": "code",
      "metadata": {
        "id": "QTMIQUTWNmEp"
      },
      "source": [
        "#label_to_ix.keys()"
      ],
      "execution_count": null,
      "outputs": []
    }
  ]
}