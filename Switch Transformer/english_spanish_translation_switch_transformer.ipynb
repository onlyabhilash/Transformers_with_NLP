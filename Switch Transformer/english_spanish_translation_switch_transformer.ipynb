{
  "nbformat": 4,
  "nbformat_minor": 0,
  "metadata": {
    "kernelspec": {
      "language": "python",
      "display_name": "Python 3",
      "name": "python3"
    },
    "language_info": {
      "name": "python",
      "version": "3.7.10",
      "mimetype": "text/x-python",
      "codemirror_mode": {
        "name": "ipython",
        "version": 3
      },
      "pygments_lexer": "ipython3",
      "nbconvert_exporter": "python",
      "file_extension": ".py"
    },
    "colab": {
      "name": "english-spanish-translation-switch-transformer.ipynb",
      "provenance": []
    },
    "accelerator": "GPU"
  },
  "cells": [
    {
      "cell_type": "markdown",
      "metadata": {
        "id": "QLQhXw_-L3bw"
      },
      "source": [
        "# English-Spanish Translation: Switch Transformer\n",
        "## Table of Contents\n",
        "* Overview\n",
        "* Setup\n",
        "* Import datasets\n",
        "* Model Development\n",
        "* Transalation\n",
        "* References"
      ]
    },
    {
      "cell_type": "markdown",
      "metadata": {
        "id": "3br121fsL3by"
      },
      "source": [
        "## Overview\n",
        "In this Notebook, I will develop a English-Spanish Translation Model using Switch Transformer from scratch. Please be noted that running this notebook is 10 times slower than Google Colab when using GPU. So I set this notebook download the pretrained Model to speed up the training."
      ]
    },
    {
      "cell_type": "markdown",
      "metadata": {
        "id": "98JWyaiDL3b0"
      },
      "source": [
        "## Setup"
      ]
    },
    {
      "cell_type": "code",
      "metadata": {
        "id": "oda23ThKL3b1",
        "execution": {
          "iopub.status.busy": "2021-10-27T16:48:56.338691Z",
          "iopub.execute_input": "2021-10-27T16:48:56.339410Z",
          "iopub.status.idle": "2021-10-27T16:48:56.346670Z",
          "shell.execute_reply.started": "2021-10-27T16:48:56.339374Z",
          "shell.execute_reply": "2021-10-27T16:48:56.345934Z"
        },
        "trusted": true
      },
      "source": [
        "import tensorflow as tf\n",
        "# Install Tensorflow 2.6.0 if needed.\n",
        "if tf.__version__ < \"2.6.0\":\n",
        "    !pip install -q tensorflow==2.6.0\n",
        "    import tensorflow as tf\n",
        "import pandas as pd\n",
        "from tensorflow.keras.layers import TextVectorization\n",
        "import pathlib\n",
        "import random\n",
        "import string\n",
        "import re\n",
        "import numpy as np\n",
        "from tensorflow import keras\n",
        "from tensorflow.keras import layers\n",
        "import os\n",
        "import sklearn\n",
        "from sklearn.model_selection import train_test_split"
      ],
      "execution_count": null,
      "outputs": []
    },
    {
      "cell_type": "code",
      "metadata": {
        "execution": {
          "iopub.status.busy": "2021-10-27T17:25:58.289954Z",
          "iopub.execute_input": "2021-10-27T17:25:58.290666Z",
          "iopub.status.idle": "2021-10-27T17:25:58.295871Z",
          "shell.execute_reply.started": "2021-10-27T17:25:58.290615Z",
          "shell.execute_reply": "2021-10-27T17:25:58.295206Z"
        },
        "trusted": true,
        "id": "pWCalPHA0QAF"
      },
      "source": [
        "class Config:\n",
        "    vocab_size = 15000 # Vocabulary Size\n",
        "    sequence_length = 20\n",
        "    batch_size = 64\n",
        "    validation_split = 0.15\n",
        "    embed_dim = 256\n",
        "    latent_dim = 256\n",
        "    num_heads = 2\n",
        "    epochs = 1 # Number of Epochs to train\n",
        "    model_path = \"model.h5\"\n",
        "    begin_token = \"[start]\"\n",
        "    end_token = \"[end]\"\n",
        "    use_pretrained_model = False # Download pretrained Model to speedup the training\n",
        "    kaggle_data_path = \"/kaggle/input/englishspanish-translation-dataset/data.csv\"\n",
        "    num_tokens_per_batch = batch_size * sequence_length\n",
        "    num_expects = 1\n",
        "config = Config()"
      ],
      "execution_count": null,
      "outputs": []
    },
    {
      "cell_type": "markdown",
      "metadata": {
        "id": "7czW02EaL3b1"
      },
      "source": [
        "## Import datasets"
      ]
    },
    {
      "cell_type": "code",
      "metadata": {
        "id": "PLs2vAotL3b2",
        "execution": {
          "iopub.status.busy": "2021-10-27T16:49:46.221412Z",
          "iopub.execute_input": "2021-10-27T16:49:46.221940Z",
          "iopub.status.idle": "2021-10-27T16:49:46.582566Z",
          "shell.execute_reply.started": "2021-10-27T16:49:46.221904Z",
          "shell.execute_reply": "2021-10-27T16:49:46.581831Z"
        },
        "trusted": true,
        "colab": {
          "base_uri": "https://localhost:8080/",
          "height": 275
        },
        "outputId": "18035215-1058-4278-b4e8-3cc957bfe3a0"
      },
      "source": [
        "if os.path.exists(config.kaggle_data_path):\n",
        "  data = pd.read_csv(config.kaggle_data_path)\n",
        "else:\n",
        "  file_path = keras.utils.get_file(\"data.csv\", \"https://raw.githubusercontent.com/LoniQin/english-spanish-translation-switch-transformer/main/data.csv\")\n",
        "  data = pd.read_csv(file_path)\n",
        "data.head()"
      ],
      "execution_count": null,
      "outputs": [
        {
          "output_type": "stream",
          "name": "stdout",
          "text": [
            "Downloading data from https://raw.githubusercontent.com/LoniQin/English-Spanish-Transaltion-FNet/main/data.csv\n",
            "8077312/8073001 [==============================] - 0s 0us/step\n",
            "8085504/8073001 [==============================] - 0s 0us/step\n"
          ]
        },
        {
          "output_type": "execute_result",
          "data": {
            "text/html": [
              "<div>\n",
              "<style scoped>\n",
              "    .dataframe tbody tr th:only-of-type {\n",
              "        vertical-align: middle;\n",
              "    }\n",
              "\n",
              "    .dataframe tbody tr th {\n",
              "        vertical-align: top;\n",
              "    }\n",
              "\n",
              "    .dataframe thead th {\n",
              "        text-align: right;\n",
              "    }\n",
              "</style>\n",
              "<table border=\"1\" class=\"dataframe\">\n",
              "  <thead>\n",
              "    <tr style=\"text-align: right;\">\n",
              "      <th></th>\n",
              "      <th>english</th>\n",
              "      <th>spanish</th>\n",
              "    </tr>\n",
              "  </thead>\n",
              "  <tbody>\n",
              "    <tr>\n",
              "      <th>0</th>\n",
              "      <td>Go.</td>\n",
              "      <td>Ve.</td>\n",
              "    </tr>\n",
              "    <tr>\n",
              "      <th>1</th>\n",
              "      <td>Go.</td>\n",
              "      <td>Vete.</td>\n",
              "    </tr>\n",
              "    <tr>\n",
              "      <th>2</th>\n",
              "      <td>Go.</td>\n",
              "      <td>Vaya.</td>\n",
              "    </tr>\n",
              "    <tr>\n",
              "      <th>3</th>\n",
              "      <td>Go.</td>\n",
              "      <td>Váyase.</td>\n",
              "    </tr>\n",
              "    <tr>\n",
              "      <th>4</th>\n",
              "      <td>Hi.</td>\n",
              "      <td>Hola.</td>\n",
              "    </tr>\n",
              "  </tbody>\n",
              "</table>\n",
              "</div>"
            ],
            "text/plain": [
              "  english  spanish\n",
              "0     Go.      Ve.\n",
              "1     Go.    Vete.\n",
              "2     Go.    Vaya.\n",
              "3     Go.  Váyase.\n",
              "4     Hi.    Hola."
            ]
          },
          "metadata": {},
          "execution_count": 3
        }
      ]
    },
    {
      "cell_type": "code",
      "metadata": {
        "id": "Qoqu3RkML3b2",
        "execution": {
          "iopub.status.busy": "2021-10-27T16:49:49.646345Z",
          "iopub.execute_input": "2021-10-27T16:49:49.646903Z",
          "iopub.status.idle": "2021-10-27T16:49:49.732955Z",
          "shell.execute_reply.started": "2021-10-27T16:49:49.646868Z",
          "shell.execute_reply": "2021-10-27T16:49:49.732211Z"
        },
        "trusted": true
      },
      "source": [
        "data[\"spanish\"] = data[\"spanish\"].apply(lambda item: config.begin_token + \" \" + item + \" \" + config.end_token)"
      ],
      "execution_count": null,
      "outputs": []
    },
    {
      "cell_type": "code",
      "metadata": {
        "id": "5_v8o1ysL3b2",
        "execution": {
          "iopub.status.busy": "2021-10-27T16:49:52.552159Z",
          "iopub.execute_input": "2021-10-27T16:49:52.552817Z",
          "iopub.status.idle": "2021-10-27T16:49:52.561859Z",
          "shell.execute_reply.started": "2021-10-27T16:49:52.552779Z",
          "shell.execute_reply": "2021-10-27T16:49:52.561138Z"
        },
        "trusted": true,
        "colab": {
          "base_uri": "https://localhost:8080/",
          "height": 204
        },
        "outputId": "63b777be-2fb3-47b8-a3fe-e9ddb38cd7c1"
      },
      "source": [
        "data.head()"
      ],
      "execution_count": null,
      "outputs": [
        {
          "output_type": "execute_result",
          "data": {
            "text/html": [
              "<div>\n",
              "<style scoped>\n",
              "    .dataframe tbody tr th:only-of-type {\n",
              "        vertical-align: middle;\n",
              "    }\n",
              "\n",
              "    .dataframe tbody tr th {\n",
              "        vertical-align: top;\n",
              "    }\n",
              "\n",
              "    .dataframe thead th {\n",
              "        text-align: right;\n",
              "    }\n",
              "</style>\n",
              "<table border=\"1\" class=\"dataframe\">\n",
              "  <thead>\n",
              "    <tr style=\"text-align: right;\">\n",
              "      <th></th>\n",
              "      <th>english</th>\n",
              "      <th>spanish</th>\n",
              "    </tr>\n",
              "  </thead>\n",
              "  <tbody>\n",
              "    <tr>\n",
              "      <th>0</th>\n",
              "      <td>Go.</td>\n",
              "      <td>[start] Ve. [end]</td>\n",
              "    </tr>\n",
              "    <tr>\n",
              "      <th>1</th>\n",
              "      <td>Go.</td>\n",
              "      <td>[start] Vete. [end]</td>\n",
              "    </tr>\n",
              "    <tr>\n",
              "      <th>2</th>\n",
              "      <td>Go.</td>\n",
              "      <td>[start] Vaya. [end]</td>\n",
              "    </tr>\n",
              "    <tr>\n",
              "      <th>3</th>\n",
              "      <td>Go.</td>\n",
              "      <td>[start] Váyase. [end]</td>\n",
              "    </tr>\n",
              "    <tr>\n",
              "      <th>4</th>\n",
              "      <td>Hi.</td>\n",
              "      <td>[start] Hola. [end]</td>\n",
              "    </tr>\n",
              "  </tbody>\n",
              "</table>\n",
              "</div>"
            ],
            "text/plain": [
              "  english                spanish\n",
              "0     Go.      [start] Ve. [end]\n",
              "1     Go.    [start] Vete. [end]\n",
              "2     Go.    [start] Vaya. [end]\n",
              "3     Go.  [start] Váyase. [end]\n",
              "4     Hi.    [start] Hola. [end]"
            ]
          },
          "metadata": {},
          "execution_count": 5
        }
      ]
    },
    {
      "cell_type": "code",
      "metadata": {
        "id": "UFkrzR2fL3b3",
        "execution": {
          "iopub.status.busy": "2021-10-27T16:49:55.994781Z",
          "iopub.execute_input": "2021-10-27T16:49:55.995317Z",
          "iopub.status.idle": "2021-10-27T16:50:06.159664Z",
          "shell.execute_reply.started": "2021-10-27T16:49:55.995282Z",
          "shell.execute_reply": "2021-10-27T16:50:06.158910Z"
        },
        "trusted": true,
        "colab": {
          "base_uri": "https://localhost:8080/"
        },
        "outputId": "014a17e3-b42f-4cdc-b3e6-fd2d7c01b1f9"
      },
      "source": [
        "strip_chars = string.punctuation + \"¿\"\n",
        "strip_chars = strip_chars.replace(\"[\", \"\")\n",
        "strip_chars = strip_chars.replace(\"]\", \"\")\n",
        "print(strip_chars)\n",
        "def spanish_standardize(input_string):\n",
        "    lowercase = tf.strings.lower(input_string)\n",
        "    return tf.strings.regex_replace(lowercase, \"[%s]\"%re.escape(strip_chars), \"\")\n",
        "english_vectorization = TextVectorization(\n",
        "    max_tokens=config.vocab_size, \n",
        "    output_mode=\"int\", \n",
        "    output_sequence_length=config.sequence_length,\n",
        ")\n",
        "spanish_vectorization = TextVectorization(\n",
        "    max_tokens=config.vocab_size,\n",
        "    output_mode=\"int\",\n",
        "    output_sequence_length=config.sequence_length + 1,\n",
        "    standardize=spanish_standardize,\n",
        ")\n",
        "english_vectorization.adapt(list(data[\"english\"]))\n",
        "spanish_vectorization.adapt(list(data[\"spanish\"]))"
      ],
      "execution_count": null,
      "outputs": [
        {
          "output_type": "stream",
          "name": "stdout",
          "text": [
            "!\"#$%&'()*+,-./:;<=>?@\\^_`{|}~¿\n"
          ]
        }
      ]
    },
    {
      "cell_type": "code",
      "metadata": {
        "id": "KTzWxxsAL3b4",
        "execution": {
          "iopub.status.busy": "2021-10-27T16:50:06.161197Z",
          "iopub.execute_input": "2021-10-27T16:50:06.161746Z",
          "iopub.status.idle": "2021-10-27T16:50:06.169255Z",
          "shell.execute_reply.started": "2021-10-27T16:50:06.161704Z",
          "shell.execute_reply": "2021-10-27T16:50:06.168578Z"
        },
        "trusted": true
      },
      "source": [
        "def preprocess(english, spanish):\n",
        "    return (english, spanish[:, :-1]), spanish[:, 1:]\n",
        "def make_dataset(df, batch_size, mode):\n",
        "    english = english_vectorization(list(df[\"english\"]))\n",
        "    spanish = spanish_vectorization(list(df[\"spanish\"]))\n",
        "    dataset = tf.data.Dataset.from_tensor_slices((english, spanish))\n",
        "    if mode == \"train\":\n",
        "       dataset = dataset.shuffle(256) \n",
        "    dataset = dataset.batch(batch_size)\n",
        "    dataset = dataset.map(preprocess)\n",
        "    dataset = dataset.take(len(df) // batch_size).cache().prefetch(16).repeat(1)\n",
        "    return dataset"
      ],
      "execution_count": null,
      "outputs": []
    },
    {
      "cell_type": "code",
      "metadata": {
        "id": "se1LeoeJL3b4",
        "execution": {
          "iopub.status.busy": "2021-10-27T16:50:06.170522Z",
          "iopub.execute_input": "2021-10-27T16:50:06.170856Z",
          "iopub.status.idle": "2021-10-27T16:50:06.201131Z",
          "shell.execute_reply.started": "2021-10-27T16:50:06.170801Z",
          "shell.execute_reply": "2021-10-27T16:50:06.200504Z"
        },
        "trusted": true,
        "colab": {
          "base_uri": "https://localhost:8080/"
        },
        "outputId": "c0915b6b-fe63-4022-f0a2-0433a0393a9f"
      },
      "source": [
        "train, valid = train_test_split(data, test_size=config.validation_split)\n",
        "train.shape, valid.shape"
      ],
      "execution_count": null,
      "outputs": [
        {
          "output_type": "execute_result",
          "data": {
            "text/plain": [
              "((101119, 2), (17845, 2))"
            ]
          },
          "metadata": {},
          "execution_count": 8
        }
      ]
    },
    {
      "cell_type": "code",
      "metadata": {
        "id": "oAP4kRzzL3b4",
        "execution": {
          "iopub.status.busy": "2021-10-27T16:50:09.798346Z",
          "iopub.execute_input": "2021-10-27T16:50:09.798605Z",
          "iopub.status.idle": "2021-10-27T16:50:11.366912Z",
          "shell.execute_reply.started": "2021-10-27T16:50:09.798578Z",
          "shell.execute_reply": "2021-10-27T16:50:11.366192Z"
        },
        "trusted": true
      },
      "source": [
        "train_ds = make_dataset(train, batch_size=config.batch_size, mode=\"train\")\n",
        "valid_ds = make_dataset(valid, batch_size=config.batch_size, mode=\"valid\")"
      ],
      "execution_count": null,
      "outputs": []
    },
    {
      "cell_type": "code",
      "metadata": {
        "id": "BMjiEEa9L3b5",
        "execution": {
          "iopub.status.busy": "2021-10-27T16:50:13.282617Z",
          "iopub.execute_input": "2021-10-27T16:50:13.282932Z",
          "iopub.status.idle": "2021-10-27T16:50:13.327667Z",
          "shell.execute_reply.started": "2021-10-27T16:50:13.282898Z",
          "shell.execute_reply": "2021-10-27T16:50:13.324855Z"
        },
        "trusted": true,
        "colab": {
          "base_uri": "https://localhost:8080/"
        },
        "outputId": "328b89ec-3ce8-4d7e-ba3d-35d8c136b2b4"
      },
      "source": [
        "for batch in train_ds.take(1):\n",
        "    print(batch)"
      ],
      "execution_count": null,
      "outputs": [
        {
          "output_type": "stream",
          "name": "stdout",
          "text": [
            "((<tf.Tensor: shape=(64, 20), dtype=int64, numpy=\n",
            "array([[ 91,   8,   2, ...,   0,   0,   0],\n",
            "       [ 15,   5,  38, ...,   0,   0,   0],\n",
            "       [307, 441,   8, ...,   0,   0,   0],\n",
            "       ...,\n",
            "       [156,  76,  24, ...,   0,   0,   0],\n",
            "       [ 47, 128,  12, ...,   0,   0,   0],\n",
            "       [ 46,  23,   7, ...,   0,   0,   0]])>, <tf.Tensor: shape=(64, 20), dtype=int64, numpy=\n",
            "array([[   2,   88,   22, ...,    0,    0,    0],\n",
            "       [   2,  119,   27, ...,    0,    0,    0],\n",
            "       [   2,   27,  223, ...,    0,    0,    0],\n",
            "       ...,\n",
            "       [   2, 1898,   27, ...,    0,    0,    0],\n",
            "       [   2,  877,    5, ...,    0,    0,    0],\n",
            "       [   2,   58,  208, ...,    0,    0,    0]])>), <tf.Tensor: shape=(64, 20), dtype=int64, numpy=\n",
            "array([[  88,   22,    9, ...,    0,    0,    0],\n",
            "       [ 119,   27,  974, ...,    0,    0,    0],\n",
            "       [  27,  223,   12, ...,    0,    0,    0],\n",
            "       ...,\n",
            "       [1898,   27,   12, ...,    0,    0,    0],\n",
            "       [ 877,    5,   99, ...,    0,    0,    0],\n",
            "       [  58,  208, 4312, ...,    0,    0,    0]])>)\n"
          ]
        }
      ]
    },
    {
      "cell_type": "markdown",
      "metadata": {
        "id": "XSXAmMV0L3b6"
      },
      "source": [
        "## Model Development"
      ]
    },
    {
      "cell_type": "markdown",
      "metadata": {
        "id": "w5Zzh1R90QAI"
      },
      "source": [
        "### Implement the feeforward network"
      ]
    },
    {
      "cell_type": "code",
      "metadata": {
        "execution": {
          "iopub.status.busy": "2021-10-27T17:05:52.416151Z",
          "iopub.execute_input": "2021-10-27T17:05:52.416633Z",
          "iopub.status.idle": "2021-10-27T17:05:52.421270Z",
          "shell.execute_reply.started": "2021-10-27T17:05:52.416599Z",
          "shell.execute_reply": "2021-10-27T17:05:52.420383Z"
        },
        "trusted": true,
        "id": "8_Gi-T4B0QAI"
      },
      "source": [
        "def create_feedforward_network(ff_dim, name=None):\n",
        "    return keras.Sequential(\n",
        "        [layers.Dense(ff_dim, activation=\"relu\"), layers.Dense(ff_dim)], name=name\n",
        "    )"
      ],
      "execution_count": null,
      "outputs": []
    },
    {
      "cell_type": "markdown",
      "metadata": {
        "id": "X5sAszmz0QAI"
      },
      "source": [
        "### Implement the load-balanced loss\n",
        "This is an auxiliary loss to encourage a balanced load across experts.\n"
      ]
    },
    {
      "cell_type": "code",
      "metadata": {
        "execution": {
          "iopub.status.busy": "2021-10-27T17:12:14.796788Z",
          "iopub.execute_input": "2021-10-27T17:12:14.797360Z",
          "iopub.status.idle": "2021-10-27T17:12:14.802749Z",
          "shell.execute_reply.started": "2021-10-27T17:12:14.797324Z",
          "shell.execute_reply": "2021-10-27T17:12:14.801943Z"
        },
        "trusted": true,
        "id": "JuRHULVY0QAJ"
      },
      "source": [
        "def load_balanced_loss(router_probs, expert_mask):\n",
        "    # router_probs [tokens_per_batch, num_experts] is the probability assigned for\n",
        "    # each expert per token. expert_mask [tokens_per_batch, num_experts] contains\n",
        "    # the expert with the highest router probability in one−hot format.\n",
        "\n",
        "    num_experts = tf.shape(expert_mask)[-1]\n",
        "    # Get the fraction of tokens routed to each expert.\n",
        "    # density is a vector of length num experts that sums to 1.\n",
        "    density = tf.reduce_mean(expert_mask, axis=0)\n",
        "    # Get fraction of probability mass assigned to each expert from the router\n",
        "    # across all tokens. density_proxy is a vector of length num experts that sums to 1.\n",
        "    density_proxy = tf.reduce_mean(router_probs, axis=0)\n",
        "    # Want both vectors to have uniform allocation (1/num experts) across all\n",
        "    # num_expert elements. The two vectors will be pushed towards uniform allocation\n",
        "    # when the dot product is minimized.\n",
        "    loss = tf.reduce_mean(density_proxy * density) * tf.cast(\n",
        "        (num_experts ** 2), tf.dtypes.float32\n",
        "    )\n",
        "    return loss"
      ],
      "execution_count": null,
      "outputs": []
    },
    {
      "cell_type": "markdown",
      "metadata": {
        "id": "BZV1TybL0QAJ"
      },
      "source": [
        "### Implement the Router as a layer"
      ]
    },
    {
      "cell_type": "code",
      "metadata": {
        "execution": {
          "iopub.status.busy": "2021-10-27T17:12:35.494541Z",
          "iopub.execute_input": "2021-10-27T17:12:35.494999Z",
          "iopub.status.idle": "2021-10-27T17:12:35.506259Z",
          "shell.execute_reply.started": "2021-10-27T17:12:35.494961Z",
          "shell.execute_reply": "2021-10-27T17:12:35.505534Z"
        },
        "trusted": true,
        "id": "qG9FWKpR0QAJ"
      },
      "source": [
        "class Router(layers.Layer):\n",
        "    def __init__(self, num_experts, expert_capacity):\n",
        "        self.num_experts = num_experts\n",
        "        self.route = layers.Dense(units=num_experts)\n",
        "        self.expert_capacity = expert_capacity\n",
        "        super(Router, self).__init__()\n",
        "\n",
        "    def call(self, inputs, training=False):\n",
        "        # inputs shape: [tokens_per_batch, embed_dim]\n",
        "        # router_logits shape: [tokens_per_batch, num_experts]\n",
        "        router_logits = self.route(inputs)\n",
        "\n",
        "        if training:\n",
        "            # Add noise for exploration across experts.\n",
        "            router_logits += tf.random.uniform(\n",
        "                shape=router_logits.shape, minval=0.9, maxval=1.1\n",
        "            )\n",
        "        # Probabilities for each token of what expert it should be sent to.\n",
        "        router_probs = keras.activations.softmax(router_logits, axis=-1)\n",
        "        # Get the top−1 expert for each token. expert_gate is the top−1 probability\n",
        "        # from the router for each token. expert_index is what expert each token\n",
        "        # is going to be routed to.\n",
        "        expert_gate, expert_index = tf.math.top_k(router_probs, k=1)\n",
        "        # expert_mask shape: [tokens_per_batch, num_experts]\n",
        "        expert_mask = tf.one_hot(expert_index, depth=self.num_experts)\n",
        "        # Compute load balancing loss.\n",
        "        aux_loss = load_balanced_loss(router_probs, expert_mask)\n",
        "        self.add_loss(aux_loss)\n",
        "        # Experts have a fixed capacity, ensure we do not exceed it. Construct\n",
        "        # the batch indices, to each expert, with position in expert make sure that\n",
        "        # not more that expert capacity examples can be routed to each expert.\n",
        "        position_in_expert = tf.cast(\n",
        "            tf.math.cumsum(expert_mask, axis=0) * expert_mask, tf.dtypes.int32\n",
        "        )\n",
        "        # Keep only tokens that fit within expert capacity.\n",
        "        expert_mask *= tf.cast(\n",
        "            tf.math.less(\n",
        "                tf.cast(position_in_expert, tf.dtypes.int32), self.expert_capacity\n",
        "            ),\n",
        "            tf.dtypes.float32,\n",
        "        )\n",
        "        expert_mask_flat = tf.reduce_sum(expert_mask, axis=-1)\n",
        "        # Mask out the experts that have overflowed the expert capacity.\n",
        "        expert_gate *= expert_mask_flat\n",
        "        # Combine expert outputs and scaling with router probability.\n",
        "        # combine_tensor shape: [tokens_per_batch, num_experts, expert_capacity]\n",
        "        combined_tensor = tf.expand_dims(\n",
        "            expert_gate\n",
        "            * expert_mask_flat\n",
        "            * tf.squeeze(tf.one_hot(expert_index, depth=self.num_experts), 1),\n",
        "            -1,\n",
        "        ) * tf.squeeze(tf.one_hot(position_in_expert, depth=self.expert_capacity), 1)\n",
        "        # Create binary dispatch_tensor [tokens_per_batch, num_experts, expert_capacity]\n",
        "        # that is 1 if the token gets routed to the corresponding expert.\n",
        "        dispatch_tensor = tf.cast(combined_tensor, tf.dtypes.float32)\n",
        "\n",
        "        return dispatch_tensor, combined_tensor"
      ],
      "execution_count": null,
      "outputs": []
    },
    {
      "cell_type": "markdown",
      "metadata": {
        "id": "ejbhEA6N0QAJ"
      },
      "source": [
        "### The Switch Layer"
      ]
    },
    {
      "cell_type": "code",
      "metadata": {
        "execution": {
          "iopub.status.busy": "2021-10-27T17:27:17.795745Z",
          "iopub.execute_input": "2021-10-27T17:27:17.796028Z",
          "iopub.status.idle": "2021-10-27T17:27:17.807254Z",
          "shell.execute_reply.started": "2021-10-27T17:27:17.796000Z",
          "shell.execute_reply": "2021-10-27T17:27:17.806548Z"
        },
        "trusted": true,
        "id": "VeoXRZl40QAJ"
      },
      "source": [
        "class Switch(layers.Layer):\n",
        "    def __init__(self, num_experts, embed_dim, num_tokens_per_batch, capacity_factor=1):\n",
        "        self.num_experts = num_experts\n",
        "        self.embed_dim = embed_dim\n",
        "        self.experts = [\n",
        "            create_feedforward_network(embed_dim) for _ in range(num_experts)\n",
        "        ]\n",
        "        self.num_tokens_per_batch = num_tokens_per_batch\n",
        "        self.expert_capacity = num_tokens_per_batch // self.num_experts\n",
        "        self.router = Router(self.num_experts, self.expert_capacity)\n",
        "        super(Switch, self).__init__()\n",
        "\n",
        "    def call(self, inputs):\n",
        "        batch_size = tf.shape(inputs)[0]\n",
        "        num_tokens_per_example = tf.shape(inputs)[1]\n",
        "\n",
        "        # inputs shape: [num_tokens_per_batch, embed_dim]\n",
        "        inputs = tf.reshape(inputs, [-1, self.embed_dim])\n",
        "        # dispatch_tensor shape: [expert_capacity, num_experts, tokens_per_batch]\n",
        "        # combine_tensor shape: [tokens_per_batch, num_experts, expert_capacity]\n",
        "        dispatch_tensor, combine_tensor = self.router(inputs)\n",
        "        # expert_inputs shape: [num_experts, expert_capacity, embed_dim]\n",
        "        expert_inputs = tf.einsum(\"ab,acd->cdb\", inputs, dispatch_tensor)\n",
        "        expert_inputs = tf.reshape(\n",
        "            expert_inputs, [self.num_experts, self.expert_capacity, self.embed_dim]\n",
        "        )\n",
        "        # Dispatch to experts\n",
        "        expert_input_list = tf.unstack(expert_inputs, axis=0)\n",
        "        expert_output_list = [\n",
        "            self.experts[idx](expert_input)\n",
        "            for idx, expert_input in enumerate(expert_input_list)\n",
        "        ]\n",
        "        # expert_outputs shape: [expert_capacity, num_experts, embed_dim]\n",
        "        expert_outputs = tf.stack(expert_output_list, axis=1)\n",
        "        # expert_outputs_combined shape: [tokens_per_batch, embed_dim]\n",
        "        expert_outputs_combined = tf.einsum(\n",
        "            \"abc,xba->xc\", expert_outputs, combine_tensor\n",
        "        )\n",
        "        # output shape: [batch_size, num_tokens_per_example, embed_dim]\n",
        "        outputs = tf.reshape(\n",
        "            expert_outputs_combined,\n",
        "            [batch_size, num_tokens_per_example, self.embed_dim],\n",
        "        )\n",
        "        return outputs"
      ],
      "execution_count": null,
      "outputs": []
    },
    {
      "cell_type": "markdown",
      "metadata": {
        "id": "n1qyTb9AL3b6"
      },
      "source": [
        "### The TransformerEncoder"
      ]
    },
    {
      "cell_type": "code",
      "metadata": {
        "id": "fRXW_RaML3b6",
        "execution": {
          "iopub.status.busy": "2021-10-27T17:25:08.932177Z",
          "iopub.execute_input": "2021-10-27T17:25:08.932446Z",
          "iopub.status.idle": "2021-10-27T17:25:08.940230Z",
          "shell.execute_reply.started": "2021-10-27T17:25:08.932418Z",
          "shell.execute_reply": "2021-10-27T17:25:08.939523Z"
        },
        "trusted": true
      },
      "source": [
        "class TransformerEncoder(layers.Layer):\n",
        "    def __init__(self, embed_dim, dense_proj, num_heads, **kwargs):\n",
        "        super(TransformerEncoder, self).__init__(**kwargs)\n",
        "        self.embed_dim = embed_dim\n",
        "        self.num_heads = num_heads\n",
        "        self.attention = layers.MultiHeadAttention(\n",
        "            num_heads=num_heads, key_dim=embed_dim\n",
        "        )\n",
        "        self.dense_proj = dense_proj\n",
        "        self.layernorm_1 = layers.LayerNormalization()\n",
        "        self.layernorm_2 = layers.LayerNormalization()\n",
        "        self.supports_masking = True\n",
        "\n",
        "    def call(self, inputs, mask=None):\n",
        "        if mask is not None:\n",
        "            padding_mask = tf.cast(mask[:, tf.newaxis, tf.newaxis, :], dtype=\"int32\")\n",
        "        attention_output = self.attention(\n",
        "            query=inputs, value=inputs, key=inputs, attention_mask=padding_mask\n",
        "        )\n",
        "        proj_input = self.layernorm_1(inputs + attention_output)\n",
        "        proj_output = self.dense_proj(proj_input)\n",
        "        return self.layernorm_2(proj_input + proj_output)"
      ],
      "execution_count": null,
      "outputs": []
    },
    {
      "cell_type": "markdown",
      "metadata": {
        "id": "ISzHta1dL3b7"
      },
      "source": [
        "### The Positional Embedding"
      ]
    },
    {
      "cell_type": "code",
      "metadata": {
        "id": "kUiNiGv6L3b7",
        "execution": {
          "iopub.status.busy": "2021-10-27T17:20:17.507483Z",
          "iopub.execute_input": "2021-10-27T17:20:17.507747Z",
          "iopub.status.idle": "2021-10-27T17:20:17.515151Z",
          "shell.execute_reply.started": "2021-10-27T17:20:17.507720Z",
          "shell.execute_reply": "2021-10-27T17:20:17.514323Z"
        },
        "trusted": true
      },
      "source": [
        "class PositionalEmbedding(layers.Layer):\n",
        "    def __init__(self, sequence_length, vocab_size, embed_dim, **kwargs):\n",
        "        super(PositionalEmbedding, self).__init__(**kwargs)\n",
        "        self.token_embeddings = layers.Embedding(\n",
        "            input_dim=vocab_size, output_dim=embed_dim\n",
        "        )\n",
        "        self.position_embeddings = layers.Embedding(\n",
        "            input_dim=sequence_length, output_dim=embed_dim\n",
        "        )\n",
        "        self.sequence_length = sequence_length\n",
        "        self.vocab_size = vocab_size\n",
        "        self.embed_dim = embed_dim\n",
        "\n",
        "    def call(self, inputs):\n",
        "        length = tf.shape(inputs)[-1]\n",
        "        positions = tf.range(start=0, limit=length, delta=1)\n",
        "        embedded_tokens = self.token_embeddings(inputs)\n",
        "        embedded_positions = self.position_embeddings(positions)\n",
        "        return embedded_tokens + embedded_positions\n",
        "\n",
        "    def compute_mask(self, inputs, mask=None):\n",
        "        return tf.math.not_equal(inputs, 0)\n"
      ],
      "execution_count": null,
      "outputs": []
    },
    {
      "cell_type": "markdown",
      "metadata": {
        "id": "c3ZDwbjyL3b7"
      },
      "source": [
        "### The Transformer Decoder"
      ]
    },
    {
      "cell_type": "code",
      "metadata": {
        "id": "34M_6bo_L3b8",
        "execution": {
          "iopub.status.busy": "2021-10-27T17:28:10.656203Z",
          "iopub.execute_input": "2021-10-27T17:28:10.656748Z",
          "iopub.status.idle": "2021-10-27T17:28:10.669345Z",
          "shell.execute_reply.started": "2021-10-27T17:28:10.656714Z",
          "shell.execute_reply": "2021-10-27T17:28:10.668628Z"
        },
        "trusted": true
      },
      "source": [
        "class TransformerDecoder(layers.Layer):\n",
        "    def __init__(self, embed_dim, dense_proj, num_heads, **kwargs):\n",
        "        super(TransformerDecoder, self).__init__(**kwargs)\n",
        "        self.embed_dim = embed_dim\n",
        "        self.num_heads = num_heads\n",
        "        self.attention_1 = layers.MultiHeadAttention(\n",
        "            num_heads=num_heads, key_dim=embed_dim\n",
        "        )\n",
        "        self.attention_2 = layers.MultiHeadAttention(\n",
        "            num_heads=num_heads, key_dim=embed_dim\n",
        "        )\n",
        "        self.dense_proj = dense_proj\n",
        "        self.layernorm_1 = layers.LayerNormalization()\n",
        "        self.layernorm_2 = layers.LayerNormalization()\n",
        "        self.layernorm_3 = layers.LayerNormalization()\n",
        "        self.supports_masking = True\n",
        "\n",
        "    def call(self, inputs, encoder_outputs, mask=None):\n",
        "        causal_mask = self.get_causal_attention_mask(inputs)\n",
        "        if mask is not None:\n",
        "            padding_mask = tf.cast(mask[:, tf.newaxis, :], dtype=\"int32\")\n",
        "            padding_mask = tf.minimum(padding_mask, causal_mask)\n",
        "\n",
        "        attention_output_1 = self.attention_1(\n",
        "            query=inputs, value=inputs, key=inputs, attention_mask=causal_mask\n",
        "        )\n",
        "        out_1 = self.layernorm_1(inputs + attention_output_1)\n",
        "\n",
        "        attention_output_2 = self.attention_2(\n",
        "            query=out_1,\n",
        "            value=encoder_outputs,\n",
        "            key=encoder_outputs,\n",
        "            attention_mask=padding_mask,\n",
        "        )\n",
        "        out_2 = self.layernorm_2(out_1 + attention_output_2)\n",
        "\n",
        "        proj_output = self.dense_proj(out_2)\n",
        "        return self.layernorm_3(out_2 + proj_output)\n",
        "\n",
        "    def get_causal_attention_mask(self, inputs):\n",
        "        input_shape = tf.shape(inputs)\n",
        "        batch_size, sequence_length = input_shape[0], input_shape[1]\n",
        "        i = tf.range(sequence_length)[:, tf.newaxis]\n",
        "        j = tf.range(sequence_length)\n",
        "        mask = tf.cast(i >= j, dtype=\"int32\")\n",
        "        mask = tf.reshape(mask, (1, input_shape[1], input_shape[1]))\n",
        "        mult = tf.concat(\n",
        "            [tf.expand_dims(batch_size, -1), tf.constant([1, 1], dtype=tf.int32)],\n",
        "            axis=0,\n",
        "        )\n",
        "        return tf.tile(mask, mult)"
      ],
      "execution_count": null,
      "outputs": []
    },
    {
      "cell_type": "markdown",
      "metadata": {
        "id": "2VUKFd9sL3b9"
      },
      "source": [
        "### The Model"
      ]
    },
    {
      "cell_type": "code",
      "metadata": {
        "id": "dp19cOEqL3b9",
        "execution": {
          "iopub.status.busy": "2021-10-27T17:29:28.812812Z",
          "iopub.execute_input": "2021-10-27T17:29:28.813415Z",
          "iopub.status.idle": "2021-10-27T17:29:28.822904Z",
          "shell.execute_reply.started": "2021-10-27T17:29:28.813378Z",
          "shell.execute_reply": "2021-10-27T17:29:28.822079Z"
        },
        "trusted": true
      },
      "source": [
        "def get_model(config):\n",
        "    encoder_inputs = keras.Input(shape=(None,), dtype=\"int64\", name=\"encoder_inputs\")\n",
        "    x = PositionalEmbedding(config.sequence_length, config.vocab_size, config.embed_dim)(encoder_inputs)\n",
        "    encoder_switch = Switch(config.num_expects, config.embed_dim, config.num_tokens_per_batch)\n",
        "    encoder_outputs = TransformerEncoder(config.embed_dim, encoder_switch, config.num_heads)(x)\n",
        "    encoder = keras.Model(encoder_inputs, encoder_outputs)\n",
        "\n",
        "    decoder_inputs = keras.Input(shape=(None,), dtype=\"int64\", name=\"decoder_inputs\")\n",
        "    encoded_seq_inputs = keras.Input(shape=(None, config.embed_dim), name=\"decoder_state_inputs\")\n",
        "    decoder_switch = Switch(config.num_expects, config.embed_dim, config.num_tokens_per_batch)\n",
        "    x = PositionalEmbedding(config.sequence_length, config.vocab_size, config.embed_dim)(decoder_inputs)\n",
        "    x = TransformerDecoder(config.embed_dim, decoder_switch, config.num_heads)(x, encoded_seq_inputs)\n",
        "    x = layers.Dropout(0.5)(x)\n",
        "    decoder_outputs = layers.Dense(config.vocab_size, activation=\"softmax\")(x)\n",
        "    decoder = keras.Model([decoder_inputs, encoded_seq_inputs], decoder_outputs, name=\"outputs\")\n",
        "\n",
        "    decoder_outputs = decoder([decoder_inputs, encoder_outputs])\n",
        "    transformer = keras.Model(\n",
        "        [encoder_inputs, decoder_inputs], decoder_outputs, name=\"transformer\"\n",
        "    )\n",
        "    return transformer"
      ],
      "execution_count": null,
      "outputs": []
    },
    {
      "cell_type": "code",
      "metadata": {
        "id": "T-QhEpKoL3b-",
        "execution": {
          "iopub.status.busy": "2021-10-27T17:29:31.133388Z",
          "iopub.execute_input": "2021-10-27T17:29:31.134074Z",
          "iopub.status.idle": "2021-10-27T17:29:31.773385Z",
          "shell.execute_reply.started": "2021-10-27T17:29:31.134036Z",
          "shell.execute_reply": "2021-10-27T17:29:31.772682Z"
        },
        "trusted": true
      },
      "source": [
        "model = get_model(config)"
      ],
      "execution_count": null,
      "outputs": []
    },
    {
      "cell_type": "code",
      "metadata": {
        "id": "ie_rklX2L3b-",
        "execution": {
          "iopub.status.busy": "2021-10-27T17:29:33.792342Z",
          "iopub.execute_input": "2021-10-27T17:29:33.792608Z",
          "iopub.status.idle": "2021-10-27T17:29:33.804522Z",
          "shell.execute_reply.started": "2021-10-27T17:29:33.792579Z",
          "shell.execute_reply": "2021-10-27T17:29:33.803827Z"
        },
        "trusted": true,
        "colab": {
          "base_uri": "https://localhost:8080/"
        },
        "outputId": "460a628e-f6e7-4609-be88-dc5926be2be8"
      },
      "source": [
        "model.summary()"
      ],
      "execution_count": null,
      "outputs": [
        {
          "output_type": "stream",
          "name": "stdout",
          "text": [
            "Model: \"transformer\"\n",
            "__________________________________________________________________________________________________\n",
            "Layer (type)                    Output Shape         Param #     Connected to                     \n",
            "==================================================================================================\n",
            "encoder_inputs (InputLayer)     [(None, None)]       0                                            \n",
            "__________________________________________________________________________________________________\n",
            "positional_embedding (Positiona (None, None, 256)    3845120     encoder_inputs[0][0]             \n",
            "__________________________________________________________________________________________________\n",
            "decoder_inputs (InputLayer)     [(None, None)]       0                                            \n",
            "__________________________________________________________________________________________________\n",
            "transformer_encoder (Transforme (None, None, 256)    658945      positional_embedding[0][0]       \n",
            "__________________________________________________________________________________________________\n",
            "outputs (Functional)            (None, None, 15000)  8885657     decoder_inputs[0][0]             \n",
            "                                                                 transformer_encoder[0][0]        \n",
            "==================================================================================================\n",
            "Total params: 13,389,722\n",
            "Trainable params: 13,389,722\n",
            "Non-trainable params: 0\n",
            "__________________________________________________________________________________________________\n"
          ]
        }
      ]
    },
    {
      "cell_type": "markdown",
      "metadata": {
        "id": "x_O7FfflL3b-"
      },
      "source": [
        "Let's visualize the Model."
      ]
    },
    {
      "cell_type": "code",
      "metadata": {
        "id": "6Tm1nG0CL3b-",
        "execution": {
          "iopub.status.busy": "2021-10-27T17:29:41.963518Z",
          "iopub.execute_input": "2021-10-27T17:29:41.964044Z",
          "iopub.status.idle": "2021-10-27T17:29:42.792431Z",
          "shell.execute_reply.started": "2021-10-27T17:29:41.964009Z",
          "shell.execute_reply": "2021-10-27T17:29:42.791592Z"
        },
        "trusted": true,
        "colab": {
          "base_uri": "https://localhost:8080/",
          "height": 355
        },
        "outputId": "11b36902-e729-4292-9606-a24fff8bad8a"
      },
      "source": [
        "keras.utils.plot_model(model, show_shapes=True)"
      ],
      "execution_count": null,
      "outputs": [
        {
          "output_type": "execute_result",
          "data": {
            "image/png": "[encoded data removed]",
            "text/plain": [
              "<IPython.core.display.Image object>"
            ]
          },
          "metadata": {},
          "execution_count": 21
        }
      ]
    },
    {
      "cell_type": "markdown",
      "metadata": {
        "id": "NFtSL6-3L3b-"
      },
      "source": [
        "### Model Training\n"
      ]
    },
    {
      "cell_type": "code",
      "metadata": {
        "id": "3wMy6AcIL3b_",
        "execution": {
          "iopub.status.busy": "2021-10-27T17:29:48.617517Z",
          "iopub.execute_input": "2021-10-27T17:29:48.618433Z",
          "iopub.status.idle": "2021-10-27T17:29:48.638008Z",
          "shell.execute_reply.started": "2021-10-27T17:29:48.618392Z",
          "shell.execute_reply": "2021-10-27T17:29:48.637120Z"
        },
        "trusted": true
      },
      "source": [
        "model.compile(\n",
        "    \"adam\", loss=\"sparse_categorical_crossentropy\", metrics=[\"accuracy\"]\n",
        ")"
      ],
      "execution_count": null,
      "outputs": []
    },
    {
      "cell_type": "markdown",
      "metadata": {
        "id": "tdDZyNxX0QAM"
      },
      "source": [
        "I have pretrained the Model. You may use it to speed up the training."
      ]
    },
    {
      "cell_type": "code",
      "metadata": {
        "id": "YKjayqSSL3b_",
        "execution": {
          "iopub.status.busy": "2021-10-27T17:30:24.134028Z",
          "iopub.execute_input": "2021-10-27T17:30:24.134636Z"
        },
        "trusted": true,
        "colab": {
          "base_uri": "https://localhost:8080/"
        },
        "outputId": "1b560801-b00c-45bc-a294-0f9bce1393e4"
      },
      "source": [
        "checkpoint = keras.callbacks.ModelCheckpoint(config.model_path, save_weights_only=True, save_best_only=True)\n",
        "early_stopping = keras.callbacks.EarlyStopping(patience=5)\n",
        "reduce_lr = keras.callbacks.ReduceLROnPlateau(patience=5, min_delta=1e-4, min_lr=1e-4)\n",
        "if config.use_pretrained_model:\n",
        "    model_path = keras.utils.get_file(config.model_path, \"https://github.com/LoniQin/english-spanish-translation-switch-transformer/raw/main/\" + config.model_path)\n",
        "    model.load_weights(model_path)\n",
        "    # Just to save time. You may need to adjust code for further training here.\n",
        "    model.fit(train_ds.take(100), epochs=1, validation_data=valid_ds.take(10), callbacks=[checkpoint, reduce_lr])\n",
        "else:\n",
        "    model.fit(train_ds, epochs=config.epochs, validation_data=valid_ds, callbacks=[checkpoint, reduce_lr])"
      ],
      "execution_count": null,
      "outputs": [
        {
          "output_type": "stream",
          "name": "stdout",
          "text": [
            "Epoch 1/10\n",
            "1579/1579 [==============================] - 135s 85ms/step - loss: 2.8240 - accuracy: 0.6366 - val_loss: 2.7285 - val_accuracy: 0.6688\n",
            "Epoch 2/10\n",
            "1579/1579 [==============================] - 135s 85ms/step - loss: 2.6583 - accuracy: 0.6838 - val_loss: 2.6714 - val_accuracy: 0.6875\n",
            "Epoch 3/10\n",
            "1579/1579 [==============================] - 135s 85ms/step - loss: 2.5641 - accuracy: 0.7127 - val_loss: 2.6503 - val_accuracy: 0.6944\n",
            "Epoch 4/10\n",
            "1579/1579 [==============================] - 137s 87ms/step - loss: 2.5016 - accuracy: 0.7348 - val_loss: 2.6368 - val_accuracy: 0.7012\n",
            "Epoch 5/10\n",
            "1579/1579 [==============================] - 134s 85ms/step - loss: 2.4547 - accuracy: 0.7524 - val_loss: 2.6341 - val_accuracy: 0.7045\n",
            "Epoch 6/10\n",
            "1579/1579 [==============================] - 135s 85ms/step - loss: 2.4194 - accuracy: 0.7665 - val_loss: 2.6350 - val_accuracy: 0.7089\n",
            "Epoch 7/10\n",
            "1579/1579 [==============================] - 134s 85ms/step - loss: 2.3909 - accuracy: 0.7786 - val_loss: 2.6422 - val_accuracy: 0.7102\n",
            "Epoch 8/10\n",
            "1579/1579 [==============================] - 137s 87ms/step - loss: 2.3681 - accuracy: 0.7880 - val_loss: 2.6491 - val_accuracy: 0.7109\n",
            "Epoch 9/10\n",
            "1579/1579 [==============================] - 135s 85ms/step - loss: 2.3490 - accuracy: 0.7964 - val_loss: 2.6488 - val_accuracy: 0.7125\n",
            "Epoch 10/10\n",
            "1579/1579 [==============================] - 135s 86ms/step - loss: 2.3321 - accuracy: 0.8051 - val_loss: 2.6602 - val_accuracy: 0.7147\n"
          ]
        }
      ]
    },
    {
      "cell_type": "markdown",
      "metadata": {
        "id": "rTD8Bz_2OQ-8"
      },
      "source": [
        "## Translation\n"
      ]
    },
    {
      "cell_type": "code",
      "metadata": {
        "id": "qu_kOS-1OjM5",
        "trusted": true
      },
      "source": [
        "spanish_vocab = spanish_vectorization.get_vocabulary()\n",
        "spanish_index_lookup = dict(zip(range(len(spanish_vocab)), spanish_vocab))\n",
        "def decode_sequence(model, input_sentence):\n",
        "    tokenized_input_sentence = english_vectorization([input_sentence])\n",
        "    decoded_sentence = config.begin_token\n",
        "    for i in range(config.sequence_length):\n",
        "        tokenized_target_sentence = spanish_vectorization([decoded_sentence])[:, :-1]\n",
        "        predictions = model([tokenized_input_sentence, tokenized_target_sentence])\n",
        "\n",
        "        sampled_token_index = np.argmax(predictions[0, i, :])\n",
        "        sampled_token = spanish_index_lookup[sampled_token_index]\n",
        "        decoded_sentence += \" \" + sampled_token\n",
        "\n",
        "        if sampled_token == config.end_token:\n",
        "            break\n",
        "    return decoded_sentence"
      ],
      "execution_count": null,
      "outputs": []
    },
    {
      "cell_type": "code",
      "metadata": {
        "id": "IEToUbQSN6Bc",
        "trusted": true,
        "colab": {
          "base_uri": "https://localhost:8080/"
        },
        "outputId": "f8bde709-e7e0-40d8-e685-3012c542d3e3"
      },
      "source": [
        "model = get_model(config)\n",
        "model.load_weights(config.model_path)\n",
        "for i in np.random.choice(len(data), 30):\n",
        "    item = data.iloc[i]\n",
        "    translated = decode_sequence(model, item[\"english\"])\n",
        "    print(\"English:\", item[\"english\"])\n",
        "    print(\"Spanish:\", item[\"spanish\"])\n",
        "    print(\"Translated:\", translated)"
      ],
      "execution_count": null,
      "outputs": [
        {
          "output_type": "stream",
          "name": "stdout",
          "text": [
            "English: It is possible that you have already read this book.\n",
            "Spanish: [start] Puede que ya hayas leído este libro. [end]\n",
            "Translated: [start] es posible que ya hayas leído leer este libro [end]\n",
            "English: I'm glad to see you again.\n",
            "Spanish: [start] Me alegro de volver a veros. [end]\n",
            "Translated: [start] me alegro de volver a verte [end]\n",
            "English: The two countries will negotiate a settlement to the crisis.\n",
            "Spanish: [start] Los dos países negociarán una solución a la crisis. [end]\n",
            "Translated: [start] los dos países [UNK] [UNK] una solución [end]\n",
            "English: She told him to try harder.\n",
            "Spanish: [start] Ella le dijo que siguiera tratando. [end]\n",
            "Translated: [start] ella le dijo que él [UNK] más difícil [end]\n",
            "English: I don't want to talk about love.\n",
            "Spanish: [start] No quiero hablar de amor. [end]\n",
            "Translated: [start] no quiero hablar de amor [end]\n",
            "English: She hired him as an interpreter.\n",
            "Spanish: [start] Ella le contrató de intérprete. [end]\n",
            "Translated: [start] ella le contrató como intérprete [end]\n",
            "English: Tom doesn't think this is such a good idea.\n",
            "Spanish: [start] Tom no cree que esto sea una buena idea. [end]\n",
            "Translated: [start] tom no piensa que esto es tan buena idea [end]\n",
            "English: That store is exceptionally expensive.\n",
            "Spanish: [start] Esa tienda es excepcionalmente costosa. [end]\n",
            "Translated: [start] esa tienda es excepcionalmente cara [end]\n",
            "English: We can talk about it later.\n",
            "Spanish: [start] Podemos hablar de ello más tarde. [end]\n",
            "Translated: [start] podemos hablar más tarde [end]\n",
            "English: All aboard!\n",
            "Spanish: [start] ¡Todos a bordo! [end]\n",
            "Translated: [start] todos los [UNK] [end]\n",
            "English: I'm so happy you're here.\n",
            "Spanish: [start] Estoy tan feliz de que estés aquí. [end]\n",
            "Translated: [start] estoy tan feliz de estar aquí [end]\n",
            "English: He told his friends his secret.\n",
            "Spanish: [start] Les dijo el secreto a sus amigos. [end]\n",
            "Translated: [start] Él le contó a sus amigos [end]\n",
            "English: I think it's time for me to take a break.\n",
            "Spanish: [start] Creo que es hora de tomarme un descanso. [end]\n",
            "Translated: [start] creo que es hora de que me haga un descanso [end]\n",
            "English: She is not only pretty, but also kind.\n",
            "Spanish: [start] Ella no sólo es guapa, sino también amable. [end]\n",
            "Translated: [start] ella no es tan solo sino también tan pronto [end]\n",
            "English: You have only to wait for her return.\n",
            "Spanish: [start] Solo tienes que esperar a que ella regrese. [end]\n",
            "Translated: [start] solo tienes que esperar a él [end]\n",
            "English: We can't live another day without water.\n",
            "Spanish: [start] No podemos vivir sin agua un día más. [end]\n",
            "Translated: [start] no podemos vivir otro día sin agua [end]\n",
            "English: Keep away from the unlicensed taxis.\n",
            "Spanish: [start] Mantente lejos de los taxis sin licencia. [end]\n",
            "Translated: [start] no dejes de el licencia para manejar [end]\n",
            "English: Prices are rising.\n",
            "Spanish: [start] Los precios están subiendo. [end]\n",
            "Translated: [start] los precios están subiendo [end]\n",
            "English: The home team won.\n",
            "Spanish: [start] El equipo local ganó. [end]\n",
            "Translated: [start] el equipo de ganó [end]\n",
            "English: Tom continued writing.\n",
            "Spanish: [start] Tom continuó escribiendo. [end]\n",
            "Translated: [start] tom continuó escribiendo [end]\n",
            "English: He was imprisoned.\n",
            "Spanish: [start] Él fue encarcelado. [end]\n",
            "Translated: [start] Él fue [UNK] [end]\n",
            "English: He never takes into account the fact that I am very busy.\n",
            "Spanish: [start] Él nunca toma en cuenta el hecho de que estoy muy ocupado. [end]\n",
            "Translated: [start] nunca se me ha metido en una cuenta de que estoy muy ocupado [end]\n",
            "English: We went down a river by canoe.\n",
            "Spanish: [start] Nosotros bajamos por el río en canoa. [end]\n",
            "Translated: [start] nos [UNK] un río en canoa [end]\n",
            "English: Tom and Mary are both colleagues of mine.\n",
            "Spanish: [start] Tom y Mary son los dos colegas míos. [end]\n",
            "Translated: [start] tom y mary son mis amigos de los míos [end]\n",
            "English: They had a debate on same-sex marriage.\n",
            "Spanish: [start] Tuvieron un debate sobre el matrimonio igualitario. [end]\n",
            "Translated: [start] tuvieron un debate sobre el matrimonio [UNK] [end]\n",
            "English: Tom felt he had no chance to win the race.\n",
            "Spanish: [start] Tom sentía que no tenía chances de ganar la carrera. [end]\n",
            "Translated: [start] tom sentía que no tenía oportunidad de ganar la carrera [end]\n",
            "English: She often goes to the movies with him.\n",
            "Spanish: [start] Ella va al cine con él a menudo. [end]\n",
            "Translated: [start] ella va a menudo a la noche va al cine [end]\n",
            "English: The house had a stone wall around it.\n",
            "Spanish: [start] La casa tenía un muro de piedra a su alrededor. [end]\n",
            "Translated: [start] la casa estaba una piedra a la alrededor de la alrededor [end]\n",
            "English: She kissed me, not him.\n",
            "Spanish: [start] Ella me besó, no él. [end]\n",
            "Translated: [start] ella me besó no [end]\n",
            "English: The problem was too much for me.\n",
            "Spanish: [start] El problema era demasiado para mí. [end]\n",
            "Translated: [start] el problema estaba demasiado por mí [end]\n"
          ]
        }
      ]
    },
    {
      "cell_type": "markdown",
      "metadata": {
        "id": "uKmcuxr1L3cH"
      },
      "source": [
        "## References\n",
        "- [Switch Transformers: Scaling to Trillion Parameter Models with Simple and Efficient Sparsity](https://arxiv.org/abs/2101.03961)\n",
        "- [English-Spanish Translation: Transformer](https://www.kaggle.com/lonnieqin/english-spanish-translation-transformer)\n",
        "- [Attention Is All You Need](https://arxiv.org/abs/1706.03762v5)\n",
        "- [Text classification with Switch Transformer](https://keras.io/examples/nlp/text_classification_with_switch_transformer/)\n"
      ]
    }
  ]
}