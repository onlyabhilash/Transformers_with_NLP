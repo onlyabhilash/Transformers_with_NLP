{
  "nbformat": 4,
  "nbformat_minor": 5,
  "metadata": {
    "accelerator": "GPU",
    "colab": {
      "name": "transfer_learning_nlp.ipynb",
      "provenance": []
    },
    "kernelspec": {
      "display_name": "Python 3 (ipykernel)",
      "language": "python",
      "name": "python3"
    },
    "language_info": {
      "codemirror_mode": {
        "name": "ipython",
        "version": 3
      },
      "file_extension": ".py",
      "mimetype": "text/x-python",
      "name": "python",
      "nbconvert_exporter": "python",
      "pygments_lexer": "ipython3",
      "version": "3.8.10"
    }
  },
  "cells": [
    {
      "cell_type": "markdown",
      "metadata": {
        "id": "705631be"
      },
      "source": [
        "# Transfer learning w NLP - dopasuj model do własnego problemu\n",
        "\n",
        "\n",
        "## AI&NLP Day 2021\n",
        "\n",
        "### Patryk Pilarski\n",
        "```\n",
        "1patryk.pilarski@gmail.com\n",
        "p.pilarski@sages.com.pl\n",
        "```"
      ],
      "id": "705631be"
    },
    {
      "cell_type": "markdown",
      "metadata": {
        "id": "9acb25c7"
      },
      "source": [
        "## Dane\n",
        "### Allegro Reviews"
      ],
      "id": "9acb25c7"
    },
    {
      "cell_type": "markdown",
      "metadata": {
        "id": "a38a151f"
      },
      "source": [
        "**Pobranie zbioru**"
      ],
      "id": "a38a151f"
    },
    {
      "cell_type": "code",
      "metadata": {
        "id": "3ed62059"
      },
      "source": [
        "!wget https://klejbenchmark.com/static/data/klej_ar.zip\n",
        "!unzip klej_ar.zip -d klej_ar"
      ],
      "id": "3ed62059",
      "execution_count": null,
      "outputs": []
    },
    {
      "cell_type": "markdown",
      "metadata": {
        "id": "c7c77ce6"
      },
      "source": [
        "**Wczytanie danych**"
      ],
      "id": "c7c77ce6"
    },
    {
      "cell_type": "code",
      "metadata": {
        "id": "c83dc7a9"
      },
      "source": [
        "import os\n",
        "os.listdir(\"klej_ar\")"
      ],
      "id": "c83dc7a9",
      "execution_count": null,
      "outputs": []
    },
    {
      "cell_type": "code",
      "metadata": {
        "id": "a618fb3e"
      },
      "source": [
        "with open(\"klej_ar/train.tsv\", \"r\") as f:\n",
        "    raw_train = f.readlines()"
      ],
      "id": "a618fb3e",
      "execution_count": null,
      "outputs": []
    },
    {
      "cell_type": "code",
      "metadata": {
        "id": "482b8a8e"
      },
      "source": [
        "with open(\"klej_ar/dev.tsv\", \"r\") as f:\n",
        "    raw_dev = f.readlines()"
      ],
      "id": "482b8a8e",
      "execution_count": null,
      "outputs": []
    },
    {
      "cell_type": "code",
      "metadata": {
        "id": "2f1fb29d"
      },
      "source": [
        "len(raw_train), len(raw_dev)"
      ],
      "id": "2f1fb29d",
      "execution_count": null,
      "outputs": []
    },
    {
      "cell_type": "markdown",
      "metadata": {
        "id": "5561ee65"
      },
      "source": [
        "**Zbadanie danych**"
      ],
      "id": "5561ee65"
    },
    {
      "cell_type": "code",
      "metadata": {
        "id": "1edc97b7"
      },
      "source": [
        "raw_train[0]"
      ],
      "id": "1edc97b7",
      "execution_count": null,
      "outputs": []
    },
    {
      "cell_type": "code",
      "metadata": {
        "id": "791a0493"
      },
      "source": [
        "raw_train[1]"
      ],
      "id": "791a0493",
      "execution_count": null,
      "outputs": []
    },
    {
      "cell_type": "code",
      "metadata": {
        "id": "9c2434a0"
      },
      "source": [
        "raw_train[-1]"
      ],
      "id": "9c2434a0",
      "execution_count": null,
      "outputs": []
    },
    {
      "cell_type": "code",
      "metadata": {
        "id": "3f231cb4"
      },
      "source": [
        "labels = []\n",
        "problematic = []\n",
        "\n",
        "for doc in raw_train[1:]:\n",
        "    record = doc.strip().split(\"\\t\")\n",
        "    if len(record) != 2:\n",
        "        problematic.append(doc)\n",
        "        continue\n",
        "    label = record[1]\n",
        "    labels.append(label)   "
      ],
      "id": "3f231cb4",
      "execution_count": null,
      "outputs": []
    },
    {
      "cell_type": "code",
      "metadata": {
        "id": "ecd545b9"
      },
      "source": [
        "from collections import Counter\n",
        "Counter(labels)"
      ],
      "id": "ecd545b9",
      "execution_count": null,
      "outputs": []
    },
    {
      "cell_type": "code",
      "metadata": {
        "id": "3b27db80"
      },
      "source": [
        "len(problematic)"
      ],
      "id": "3b27db80",
      "execution_count": null,
      "outputs": []
    },
    {
      "cell_type": "code",
      "metadata": {
        "id": "5c5cc36d"
      },
      "source": [
        "problematic[:5]"
      ],
      "id": "5c5cc36d",
      "execution_count": null,
      "outputs": []
    },
    {
      "cell_type": "markdown",
      "metadata": {
        "id": "9ab55d7f"
      },
      "source": [
        "**Przygotowanie danych**"
      ],
      "id": "9ab55d7f"
    },
    {
      "cell_type": "code",
      "metadata": {
        "id": "9343a57a"
      },
      "source": [
        "def prepare_data(raw_data):\n",
        "    corpus = []\n",
        "    labels = []\n",
        "    mapping = {1: 0, 2: 0, 5: 1}\n",
        "    for doc in raw_data:\n",
        "        record = doc.strip().split(\"\\t\")\n",
        "        if len(record) != 2:\n",
        "            continue\n",
        "        text, target = record\n",
        "        label = int(float(target))\n",
        "        if label in mapping: # uproszczenie problemu do klasyfikacji binarnej\n",
        "            corpus.append(text)\n",
        "            labels.append(mapping[label])\n",
        "    return corpus, labels"
      ],
      "id": "9343a57a",
      "execution_count": null,
      "outputs": []
    },
    {
      "cell_type": "code",
      "metadata": {
        "id": "f1187416"
      },
      "source": [
        "train_corpus, train_labels = prepare_data(raw_train[1:])"
      ],
      "id": "f1187416",
      "execution_count": null,
      "outputs": []
    },
    {
      "cell_type": "code",
      "metadata": {
        "id": "90f4540e"
      },
      "source": [
        "test_corpus, test_labels = prepare_data(raw_dev[1:])"
      ],
      "id": "90f4540e",
      "execution_count": null,
      "outputs": []
    },
    {
      "cell_type": "code",
      "metadata": {
        "id": "d3f5d127"
      },
      "source": [
        "train_data = list(zip(train_corpus, train_labels))\n",
        "test_data = list(zip(test_corpus, test_labels))"
      ],
      "id": "d3f5d127",
      "execution_count": null,
      "outputs": []
    },
    {
      "cell_type": "markdown",
      "metadata": {
        "id": "600ebe63"
      },
      "source": [
        "## herBERT"
      ],
      "id": "600ebe63"
    },
    {
      "cell_type": "markdown",
      "metadata": {
        "id": "5977dc8d"
      },
      "source": [
        "**KLEJ: Comprehensive Benchmark for Polish Language Understanding**   \n",
        "Piotr Rybak, Robert Mroczkowski, Janusz Tracz, Ireneusz Gawlik\n",
        "\n",
        "https://www.aclweb.org/anthology/2020.acl-main.111.pdf\n",
        "\n",
        "https://huggingface.co/transformers/master/model_doc/herbert.html"
      ],
      "id": "5977dc8d"
    },
    {
      "cell_type": "markdown",
      "metadata": {
        "id": "7beb5403"
      },
      "source": [
        "https://huggingface.co/transformers/master/model_doc/roberta.html?highlight=robertamodel#transformers.RobertaModel\n",
        "\n",
        "- RobertaModel\n",
        "- RobertaForCausalLM\n",
        "- RobertaForMaskedLM\n",
        "- RobertaForSequenceClassification\n",
        "- RobertaForMultipleChoice\n",
        "- RobertaForTokenClassification\n",
        "- RobertaForQuestionAnswering"
      ],
      "id": "7beb5403"
    },
    {
      "cell_type": "code",
      "metadata": {
        "id": "lj89KkC4EFZp"
      },
      "source": [
        "!pip install transformers --quiet"
      ],
      "id": "lj89KkC4EFZp",
      "execution_count": null,
      "outputs": []
    },
    {
      "cell_type": "code",
      "metadata": {
        "id": "024e071c"
      },
      "source": [
        "import random\n",
        "import torch\n",
        "from tqdm import tqdm\n",
        "from sklearn.metrics import classification_report\n",
        "from transformers import RobertaForSequenceClassification, HerbertTokenizer\n",
        "\n",
        "torch.manual_seed(42)\n",
        "random.seed(42)"
      ],
      "id": "024e071c",
      "execution_count": null,
      "outputs": []
    },
    {
      "cell_type": "code",
      "metadata": {
        "id": "eda68687"
      },
      "source": [
        "DEVICE = torch.device(\"cuda:0\" if torch.cuda.is_available() else \"cpu\")"
      ],
      "id": "eda68687",
      "execution_count": null,
      "outputs": []
    },
    {
      "cell_type": "markdown",
      "metadata": {
        "id": "fbe9cb44"
      },
      "source": [
        "**Tokenizator**"
      ],
      "id": "fbe9cb44"
    },
    {
      "cell_type": "code",
      "metadata": {
        "id": "dd06c738"
      },
      "source": [
        "tokenizer = HerbertTokenizer.from_pretrained(\"allegro/herbert-klej-cased-tokenizer-v1\")"
      ],
      "id": "dd06c738",
      "execution_count": null,
      "outputs": []
    },
    {
      "cell_type": "code",
      "metadata": {
        "id": "08e245ec"
      },
      "source": [
        "train_corpus[0]"
      ],
      "id": "08e245ec",
      "execution_count": null,
      "outputs": []
    },
    {
      "cell_type": "code",
      "metadata": {
        "id": "22d5cf95"
      },
      "source": [
        "tokens = tokenizer.tokenize(train_corpus[0])"
      ],
      "id": "22d5cf95",
      "execution_count": null,
      "outputs": []
    },
    {
      "cell_type": "code",
      "metadata": {
        "id": "9ecedd4f",
        "scrolled": true
      },
      "source": [
        "tokens"
      ],
      "id": "9ecedd4f",
      "execution_count": null,
      "outputs": []
    },
    {
      "cell_type": "code",
      "metadata": {
        "id": "003ba44f"
      },
      "source": [
        "len(tokens)"
      ],
      "id": "003ba44f",
      "execution_count": null,
      "outputs": []
    },
    {
      "cell_type": "code",
      "metadata": {
        "id": "a99c3f44"
      },
      "source": [
        "tokenizer(train_corpus[0])"
      ],
      "id": "a99c3f44",
      "execution_count": null,
      "outputs": []
    },
    {
      "cell_type": "code",
      "metadata": {
        "id": "4dbb64a1"
      },
      "source": [
        "tokenizer(train_corpus[0], return_tensors=\"pt\")"
      ],
      "id": "4dbb64a1",
      "execution_count": null,
      "outputs": []
    },
    {
      "cell_type": "markdown",
      "metadata": {
        "id": "2370c7bf"
      },
      "source": [
        "**Model**"
      ],
      "id": "2370c7bf"
    },
    {
      "cell_type": "code",
      "metadata": {
        "id": "bc068f63"
      },
      "source": [
        "model = RobertaForSequenceClassification.from_pretrained(\"allegro/herbert-klej-cased-v1\", \n",
        "                                                         num_labels=2, hidden_dropout_prob=0.5, \n",
        "                                                         attention_probs_dropout_prob=0.5)"
      ],
      "id": "bc068f63",
      "execution_count": null,
      "outputs": []
    },
    {
      "cell_type": "code",
      "metadata": {
        "id": "9af15a27"
      },
      "source": [
        "model"
      ],
      "id": "9af15a27",
      "execution_count": null,
      "outputs": []
    },
    {
      "cell_type": "code",
      "metadata": {
        "id": "dbc299b9"
      },
      "source": [
        "train_corpus[0]"
      ],
      "id": "dbc299b9",
      "execution_count": null,
      "outputs": []
    },
    {
      "cell_type": "markdown",
      "metadata": {
        "id": "34392a6a"
      },
      "source": [
        "[Parametry](https://huggingface.co/transformers/master/model_doc/roberta.html?highlight=robertamodel#transformers.RobertaModel.forward)"
      ],
      "id": "34392a6a"
    },
    {
      "cell_type": "code",
      "metadata": {
        "id": "71d4af38"
      },
      "source": [
        "outputs = model(**tokenizer(train_corpus[0], return_tensors=\"pt\"))"
      ],
      "id": "71d4af38",
      "execution_count": null,
      "outputs": []
    },
    {
      "cell_type": "code",
      "metadata": {
        "id": "39f50205"
      },
      "source": [
        "outputs"
      ],
      "id": "39f50205",
      "execution_count": null,
      "outputs": []
    },
    {
      "cell_type": "markdown",
      "metadata": {
        "id": "f4e32367"
      },
      "source": [
        "**Pomocnicze funkcje**"
      ],
      "id": "f4e32367"
    },
    {
      "cell_type": "code",
      "metadata": {
        "id": "9bef3ce1"
      },
      "source": [
        "PAD_TOKEN_ID = tokenizer.pad_token_id\n",
        "\n",
        "def documents_to_batch(docs, max_len):\n",
        "    tokenized = tokenizer(docs)\n",
        "    input_ids = tokenized[\"input_ids\"]\n",
        "    attention_mask = tokenized[\"attention_mask\"]\n",
        "    for i, (inp, att) in enumerate(zip(input_ids, attention_mask)):\n",
        "        inp_len = len(inp)\n",
        "        inp = inp[:max_len] + [PAD_TOKEN_ID] * (max_len - inp_len)\n",
        "        att = att[:max_len] + [0] * (max_len - inp_len)\n",
        "        input_ids[i], attention_mask[i] = inp, att\n",
        "    X = torch.LongTensor(input_ids).to(DEVICE)\n",
        "    ATT = torch.FloatTensor(attention_mask).to(DEVICE)\n",
        "    return X, ATT"
      ],
      "id": "9bef3ce1",
      "execution_count": null,
      "outputs": []
    },
    {
      "cell_type": "code",
      "metadata": {
        "id": "7d9c82ad"
      },
      "source": [
        "def train_on_batch(model, optimizer, X, ATT, Y):\n",
        "    model.train()\n",
        "    optimizer.zero_grad()\n",
        "    output = model(input_ids=X, attention_mask=ATT, labels=Y)\n",
        "    loss = output[\"loss\"]\n",
        "    loss.backward()\n",
        "    torch.nn.utils.clip_grad_norm_(model.parameters(), 1)\n",
        "    optimizer.step()\n",
        "    return loss.item()"
      ],
      "id": "7d9c82ad",
      "execution_count": null,
      "outputs": []
    },
    {
      "cell_type": "code",
      "metadata": {
        "id": "a47bf98f"
      },
      "source": [
        "def predict_on_batch(model, X, ATT, Y):\n",
        "    model.eval()\n",
        "    output = model(input_ids=X, attention_mask=ATT, labels=Y)\n",
        "    decision = output[\"logits\"].topk(1).indices.squeeze()\n",
        "    loss = output[\"loss\"].item()\n",
        "    equal = decision == Y\n",
        "    correct = sum(equal).item()\n",
        "    return correct, decision, loss"
      ],
      "id": "a47bf98f",
      "execution_count": null,
      "outputs": []
    },
    {
      "cell_type": "markdown",
      "metadata": {
        "id": "2960600a"
      },
      "source": [
        "**Hiperparametry**"
      ],
      "id": "2960600a"
    },
    {
      "cell_type": "code",
      "metadata": {
        "id": "6490c9b2"
      },
      "source": [
        "model = model.to(DEVICE)\n",
        "learning_rate = 0.000005\n",
        "epochs = 2\n",
        "batch_size = 10\n",
        "max_len = 120\n",
        "optimizer = torch.optim.Adam(model.parameters(), lr=learning_rate)"
      ],
      "id": "6490c9b2",
      "execution_count": null,
      "outputs": []
    },
    {
      "cell_type": "code",
      "metadata": {
        "id": "c975e0e1"
      },
      "source": [
        "num_train_batches = len(train_data) // batch_size + int(bool(len(train_data) % batch_size))\n",
        "num_test_batches = len(test_data) // batch_size + int(bool(len(test_data) % batch_size))\n",
        "\n",
        "best_acc = 0"
      ],
      "id": "c975e0e1",
      "execution_count": null,
      "outputs": []
    },
    {
      "cell_type": "markdown",
      "metadata": {
        "id": "a1db5d70"
      },
      "source": [
        "**Trenowanie modelu**"
      ],
      "id": "a1db5d70"
    },
    {
      "cell_type": "code",
      "metadata": {
        "id": "d2e451d3"
      },
      "source": [
        "for epoch in range(epochs):\n",
        "    random.shuffle(train_data)\n",
        "    total_loss = 0\n",
        "    for n in tqdm(range(num_train_batches)):\n",
        "        datapoints = train_data[n * batch_size:(n + 1) * batch_size]\n",
        "        documents, labels = list(zip(*datapoints))\n",
        "        Y = torch.LongTensor(labels).to(DEVICE)\n",
        "        X, ATT = documents_to_batch(documents, max_len)\n",
        "        loss = train_on_batch(model, optimizer, X, ATT, Y)\n",
        "        total_loss += loss\n",
        "    print(total_loss)\n",
        "    with torch.no_grad():\n",
        "        total = 0\n",
        "        correct = 0\n",
        "        dev_loss = 0\n",
        "        for n in tqdm(range(num_test_batches)):\n",
        "            datapoints = test_data[n * batch_size:(n + 1) * batch_size]\n",
        "            documents, labels = list(zip(*datapoints))\n",
        "            Y = torch.LongTensor(labels).to(DEVICE)\n",
        "            X, ATT = documents_to_batch(documents, max_len)\n",
        "            result, _, loss = predict_on_batch(model, X, ATT, Y)\n",
        "            dev_loss += loss\n",
        "            total += batch_size\n",
        "            correct += result\n",
        "        acc = correct/total * 100\n",
        "        print(f\"acc: {acc}\")\n",
        "        print(f\"loss: {dev_loss}\")\n",
        "        if acc > best_acc:\n",
        "            best_acc = acc\n",
        "            torch.save(model, \"herbert_ar.model\")"
      ],
      "id": "d2e451d3",
      "execution_count": null,
      "outputs": []
    },
    {
      "cell_type": "code",
      "metadata": {
        "id": "109ae0b2"
      },
      "source": [
        "model = torch.load(\"herbert_ar.model\", map_location=DEVICE)\n",
        "model.eval()"
      ],
      "id": "109ae0b2",
      "execution_count": null,
      "outputs": []
    },
    {
      "cell_type": "code",
      "metadata": {
        "id": "73f2c0e7"
      },
      "source": [
        "preds = []\n",
        "for n in tqdm(range(num_test_batches)):\n",
        "    datapoints = test_data[n * batch_size:(n + 1) * batch_size]\n",
        "    documents, labels = list(zip(*datapoints))\n",
        "    Y = torch.LongTensor(labels).to(DEVICE)\n",
        "    X, ATT = documents_to_batch(documents, max_len)\n",
        "    _, pred, _ = predict_on_batch(model, X, ATT, Y)\n",
        "    preds.append(pred)"
      ],
      "id": "73f2c0e7",
      "execution_count": null,
      "outputs": []
    },
    {
      "cell_type": "code",
      "metadata": {
        "id": "7f1a0d0d"
      },
      "source": [
        "preds[:2]"
      ],
      "id": "7f1a0d0d",
      "execution_count": null,
      "outputs": []
    },
    {
      "cell_type": "code",
      "metadata": {
        "id": "0506935a"
      },
      "source": [
        "preds = [p for t in preds for p in t.tolist()]\n",
        "documents, labels = list(zip(*test_data))"
      ],
      "id": "0506935a",
      "execution_count": null,
      "outputs": []
    },
    {
      "cell_type": "code",
      "metadata": {
        "id": "c4cf3720"
      },
      "source": [
        "print(classification_report(labels, preds))"
      ],
      "id": "c4cf3720",
      "execution_count": null,
      "outputs": []
    },
    {
      "cell_type": "markdown",
      "metadata": {
        "id": "6dec880c"
      },
      "source": [
        "-------\n",
        "\n",
        "## Zadanie\n",
        "\n",
        "Przygotuj dane i wytrenuj model na danych **PolEmo2.0-IN**"
      ],
      "id": "6dec880c"
    },
    {
      "cell_type": "code",
      "metadata": {
        "id": "0d7c314a"
      },
      "source": [
        "!wget https://klejbenchmark.com/static/data/klej_polemo2.0-in.zip\n",
        "!unzip klej_polemo2.0-in.zip -d klej_polemo2.0in"
      ],
      "id": "0d7c314a",
      "execution_count": null,
      "outputs": []
    },
    {
      "cell_type": "code",
      "metadata": {
        "id": "ac17dd2a"
      },
      "source": [],
      "id": "ac17dd2a",
      "execution_count": null,
      "outputs": []
    },
    {
      "cell_type": "code",
      "metadata": {
        "id": "d1ee6750"
      },
      "source": [],
      "id": "d1ee6750",
      "execution_count": null,
      "outputs": []
    },
    {
      "cell_type": "code",
      "metadata": {
        "id": "35368ad5"
      },
      "source": [],
      "id": "35368ad5",
      "execution_count": null,
      "outputs": []
    },
    {
      "cell_type": "code",
      "metadata": {
        "id": "d5f87f0c"
      },
      "source": [],
      "id": "d5f87f0c",
      "execution_count": null,
      "outputs": []
    },
    {
      "cell_type": "code",
      "metadata": {
        "id": "c62195c3"
      },
      "source": [],
      "id": "c62195c3",
      "execution_count": null,
      "outputs": []
    },
    {
      "cell_type": "code",
      "metadata": {
        "id": "f30d21be"
      },
      "source": [],
      "id": "f30d21be",
      "execution_count": null,
      "outputs": []
    },
    {
      "cell_type": "code",
      "metadata": {
        "id": "c7a3b0ab"
      },
      "source": [],
      "id": "c7a3b0ab",
      "execution_count": null,
      "outputs": []
    },
    {
      "cell_type": "code",
      "metadata": {
        "id": "891bd0af"
      },
      "source": [],
      "id": "891bd0af",
      "execution_count": null,
      "outputs": []
    },
    {
      "cell_type": "code",
      "metadata": {
        "id": "d49c3d89"
      },
      "source": [],
      "id": "d49c3d89",
      "execution_count": null,
      "outputs": []
    },
    {
      "cell_type": "code",
      "metadata": {
        "id": "2cfc0b67"
      },
      "source": [],
      "id": "2cfc0b67",
      "execution_count": null,
      "outputs": []
    },
    {
      "cell_type": "code",
      "metadata": {
        "id": "9fd273c5"
      },
      "source": [],
      "id": "9fd273c5",
      "execution_count": null,
      "outputs": []
    },
    {
      "cell_type": "code",
      "metadata": {
        "id": "ab9ba039"
      },
      "source": [],
      "id": "ab9ba039",
      "execution_count": null,
      "outputs": []
    },
    {
      "cell_type": "code",
      "metadata": {
        "id": "82fbf74e"
      },
      "source": [],
      "id": "82fbf74e",
      "execution_count": null,
      "outputs": []
    }
  ]
}