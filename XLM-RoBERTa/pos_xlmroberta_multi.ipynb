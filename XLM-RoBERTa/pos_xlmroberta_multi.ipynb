{
  "cells": [
    {
      "cell_type": "code",
      "execution_count": null,
      "metadata": {
        "colab": {
          "base_uri": "https://localhost:8080/",
          "height": 306
        },
        "id": "8_rzsBs_Egpn",
        "outputId": "e23a0c41-67f0-4a0a-d356-65b9b766be4a"
      },
      "outputs": [
        {
          "name": "stdout",
          "output_type": "stream",
          "text": [
            "Wed May 27 09:06:44 2020       \n",
            "+-----------------------------------------------------------------------------+\n",
            "| NVIDIA-SMI 440.82       Driver Version: 418.67       CUDA Version: 10.1     |\n",
            "|-------------------------------+----------------------+----------------------+\n",
            "| GPU  Name        Persistence-M| Bus-Id        Disp.A | Volatile Uncorr. ECC |\n",
            "| Fan  Temp  Perf  Pwr:Usage/Cap|         Memory-Usage | GPU-Util  Compute M. |\n",
            "|===============================+======================+======================|\n",
            "|   0  Tesla K80           Off  | 00000000:00:04.0 Off |                    0 |\n",
            "| N/A   47C    P8    31W / 149W |      0MiB / 11441MiB |      0%      Default |\n",
            "+-------------------------------+----------------------+----------------------+\n",
            "                                                                               \n",
            "+-----------------------------------------------------------------------------+\n",
            "| Processes:                                                       GPU Memory |\n",
            "|  GPU       PID   Type   Process name                             Usage      |\n",
            "|=============================================================================|\n",
            "|  No running processes found                                                 |\n",
            "+-----------------------------------------------------------------------------+\n"
          ]
        }
      ],
      "source": [
        "!nvidia-smi"
      ]
    },
    {
      "cell_type": "code",
      "execution_count": null,
      "metadata": {
        "colab": {
          "base_uri": "https://localhost:8080/",
          "height": 34
        },
        "id": "V-9Pw5AwwHDH",
        "outputId": "27c15dba-cc90-4deb-ed99-525f543f0170"
      },
      "outputs": [
        {
          "name": "stdout",
          "output_type": "stream",
          "text": [
            "Drive already mounted at /content/drive; to attempt to forcibly remount, call drive.mount(\"/content/drive\", force_remount=True).\n"
          ]
        }
      ],
      "source": [
        "from google.colab import drive\n",
        "drive.mount('/content/drive')"
      ]
    },
    {
      "cell_type": "code",
      "execution_count": null,
      "metadata": {
        "colab": {
          "base_uri": "https://localhost:8080/",
          "height": 306
        },
        "id": "tmI1bkMsDJHZ",
        "outputId": "bbe0b040-8984-4862-ef44-394ffb858bc3"
      },
      "outputs": [
        {
          "name": "stdout",
          "output_type": "stream",
          "text": [
            "Requirement already satisfied: transformers in /usr/local/lib/python3.6/dist-packages (2.10.0)\n",
            "Requirement already satisfied: numpy in /usr/local/lib/python3.6/dist-packages (from transformers) (1.18.4)\n",
            "Requirement already satisfied: tokenizers==0.7.0 in /usr/local/lib/python3.6/dist-packages (from transformers) (0.7.0)\n",
            "Requirement already satisfied: sacremoses in /usr/local/lib/python3.6/dist-packages (from transformers) (0.0.43)\n",
            "Requirement already satisfied: regex!=2019.12.17 in /usr/local/lib/python3.6/dist-packages (from transformers) (2019.12.20)\n",
            "Requirement already satisfied: tqdm>=4.27 in /usr/local/lib/python3.6/dist-packages (from transformers) (4.41.1)\n",
            "Requirement already satisfied: sentencepiece in /usr/local/lib/python3.6/dist-packages (from transformers) (0.1.91)\n",
            "Requirement already satisfied: requests in /usr/local/lib/python3.6/dist-packages (from transformers) (2.23.0)\n",
            "Requirement already satisfied: filelock in /usr/local/lib/python3.6/dist-packages (from transformers) (3.0.12)\n",
            "Requirement already satisfied: dataclasses; python_version < \"3.7\" in /usr/local/lib/python3.6/dist-packages (from transformers) (0.7)\n",
            "Requirement already satisfied: joblib in /usr/local/lib/python3.6/dist-packages (from sacremoses->transformers) (0.15.1)\n",
            "Requirement already satisfied: six in /usr/local/lib/python3.6/dist-packages (from sacremoses->transformers) (1.12.0)\n",
            "Requirement already satisfied: click in /usr/local/lib/python3.6/dist-packages (from sacremoses->transformers) (7.1.2)\n",
            "Requirement already satisfied: certifi>=2017.4.17 in /usr/local/lib/python3.6/dist-packages (from requests->transformers) (2020.4.5.1)\n",
            "Requirement already satisfied: idna<3,>=2.5 in /usr/local/lib/python3.6/dist-packages (from requests->transformers) (2.9)\n",
            "Requirement already satisfied: urllib3!=1.25.0,!=1.25.1,<1.26,>=1.21.1 in /usr/local/lib/python3.6/dist-packages (from requests->transformers) (1.24.3)\n",
            "Requirement already satisfied: chardet<4,>=3.0.2 in /usr/local/lib/python3.6/dist-packages (from requests->transformers) (3.0.4)\n"
          ]
        }
      ],
      "source": [
        "!pip install transformers"
      ]
    },
    {
      "cell_type": "code",
      "execution_count": null,
      "metadata": {
        "colab": {
          "base_uri": "https://localhost:8080/",
          "height": 34
        },
        "id": "fCxwmP3eGlpu",
        "outputId": "5bcd4bb7-c9d4-48e4-8d5a-6622b90eff1d"
      },
      "outputs": [
        {
          "name": "stdout",
          "output_type": "stream",
          "text": [
            "device: cuda\n"
          ]
        }
      ],
      "source": [
        "import math\n",
        "import pickle\n",
        "import random\n",
        "\n",
        "import numpy as np\n",
        "from sklearn.metrics import classification_report \n",
        "import torch\n",
        "import torch.nn as nn\n",
        "import torch.optim as optim\n",
        "from torch.utils.data import Dataset\n",
        "from torch.utils.data.dataloader import DataLoader, Sampler\n",
        "from torch.nn.utils.rnn import pad_sequence\n",
        "import transformers\n",
        "from transformers import XLMRobertaModel, XLMRobertaTokenizer\n",
        "\n",
        "\n",
        "train_data_dir = '/content/drive/My Drive/Colab Notebooks/ezafe/data/bijankhan_corpus.tsv'\n",
        "pickled_data_dir = '/content/drive/My Drive/Colab Notebooks/ezafe/data/roberta_data.pickle'\n",
        "model_dir = '/content/drive/My Drive/Colab Notebooks/ezafe/bert_model_pos/model.pickle'\n",
        "last_i_dir = '/content/drive/My Drive/Colab Notebooks/ezafe/bert_model_pos/last_i'\n",
        "\n",
        "HIDDEN_SIZE = 768\n",
        "NUM_EPOCHS = 100\n",
        "BATCH_SIZE = 8\n",
        "LEARNING_RATE = 2e-5\n",
        "BEGIN_TOKEN = 0\n",
        "END_TOKEN = 2\n",
        "PAD_TOKEN = 1\n",
        "TAG_PAD_OR_MASK_TOKEN = 15\n",
        "\n",
        "random.seed(17)\n",
        "\n",
        "device = torch.device('cuda' if torch.cuda.is_available() else 'cpu')\n",
        "print('device:', device)"
      ]
    },
    {
      "cell_type": "code",
      "execution_count": null,
      "metadata": {
        "id": "GFhfu-9cS6-w"
      },
      "outputs": [],
      "source": [
        "def data_reader(directory):\n",
        "    sents, sent = [], [BEGIN_TOKEN]\n",
        "    all_pos_tags, pos_tags = [], [TAG_PAD_OR_MASK_TOKEN]\n",
        "    all_ezafe_tags, ezafe_tags = [], [TAG_PAD_OR_MASK_TOKEN]\n",
        "    pos_to_id = {}\n",
        "    with open(directory) as bijankhan_corpus:\n",
        "        for line in bijankhan_corpus:\n",
        "            if line != '\\n':\n",
        "                word, pos_tag, ezafe_tag = line.strip().split('\\t')\n",
        "\n",
        "                word = word.replace('ي', 'ی').replace('ك', 'ک').replace('ة', 'ه')\n",
        "                word = tokenizer.encode(word, add_special_tokens=False)\n",
        "                sent.extend(word)\n",
        "\n",
        "                if pos_tag not in pos_to_id:\n",
        "                    pos_to_id[pos_tag] = len(pos_to_id)\n",
        "\n",
        "                ezafe_tags.extend([int(ezafe_tag)] + [TAG_PAD_OR_MASK_TOKEN for _ in range(len(word) - 1)])\n",
        "                pos_tags.extend([pos_to_id[pos_tag]] + [TAG_PAD_OR_MASK_TOKEN for _ in range(len(word) - 1)])\n",
        "            else:\n",
        "                assert len(sent) == len(pos_tags)\n",
        "                sents.append(sent + [END_TOKEN])\n",
        "                all_ezafe_tags.append(ezafe_tags + [TAG_PAD_OR_MASK_TOKEN])\n",
        "                all_pos_tags.append(pos_tags + [TAG_PAD_OR_MASK_TOKEN])\n",
        "                \n",
        "                sent = [BEGIN_TOKEN]\n",
        "                pos_tags = [TAG_PAD_OR_MASK_TOKEN]\n",
        "\n",
        "    return sents, all_ezafe_tags, all_pos_tags\n",
        "\n",
        "\n",
        "class MySampler(Sampler):\n",
        "    def __init__(self, data, i=0):\n",
        "        random.shuffle(data)\n",
        "        self.seq = list(range(len(data)))[i * batch_size:]\n",
        "\n",
        "    def __iter__(self):\n",
        "        return iter(self.seq)\n",
        "\n",
        "    def __len__(self):\n",
        "        return len(self.seq)\n",
        "\n",
        "\n",
        "class EzafeDataset(Dataset):\n",
        "    def __init__(self, data):\n",
        "       self.samples = data\n",
        "\n",
        "    def __len__(self):\n",
        "        return len(self.samples)\n",
        "  \n",
        "    def __getitem__(self, idx):\n",
        "        sample = self.samples[idx]\n",
        "        x = torch.tensor(sample[0])\n",
        "        mask = torch.sign(x)\n",
        "        ezafe_tags = torch.tensor(sample[1])\n",
        "        pos_tags = torch.tensor(sample[2])\n",
        "\n",
        "        return x, mask, ezafe_tags, pos_tags\n",
        "\n",
        "\n",
        "def collate_fn(batch):\n",
        "    xs, masks, ezafe_tags, pos_tags = zip(*batch)\n",
        "    padded_xs = pad_sequence(xs, batch_first=True)\n",
        "    padded_masks = pad_sequence(masks, batch_first=True)\n",
        "    padded_ezafe_tags = pad_sequence(ezafe_tags, batch_first=True, padding_value=tag_mask_and_pad)\n",
        "    padded_pos_tags = pad_sequence(pos_tags, batch_first=True, padding_value=tag_mask_and_pad)\n",
        "\n",
        "    return {'input_ids': padded_xs, 'attention_masks': padded_masks}, \\\n",
        "           (padded_ezafe_tags, padded_pos_tags)"
      ]
    },
    {
      "cell_type": "code",
      "execution_count": null,
      "metadata": {
        "id": "ZokGlh4adnhp"
      },
      "outputs": [],
      "source": [
        "tokenizer = XLMRobertaTokenizer.from_pretrained('xlm-roberta-base')\n",
        "\n",
        "try:\n",
        "    with open(pickled_data_dir, 'rb') as out_file:\n",
        "        sents, ezafe_tags, pos_tags = pickle.load(out_file)\n",
        "except FileNotFoundError:\n",
        "    sents, ezafe_tags, pos_tags = data_reader(train_data_dir) \n",
        "    with open(pickled_data_dir, 'wb') as out_file:\n",
        "        pickle.dump([sents, ezafe_tags, pos_tags], out_file)\n",
        "\n",
        "sents_shuf = []\n",
        "ezafe_tags_shuf = []\n",
        "pos_tags_shuf = []\n",
        "index_shuf = list(range(len(sents)))\n",
        "\n",
        "random.seed(17)\n",
        "random.shuffle(index_shuf)\n",
        "\n",
        "for i in index_shuf:\n",
        "    sents_shuf.append(sents[i])\n",
        "    ezafe_tags_shuf.append(ezafe_tags[i])\n",
        "    pos_tags_shuf.append(pos_tags[i])\n",
        "\n",
        "sents_shuf, ezafe_tags_shuf, pos_tags_shuf = zip(*[(sent, ezafe, pos) for sent, ezafe, pos in zip(sents_shuf, ezafe_tags_shuf, pos_tags_shuf) if len(sent) <= 512])\n",
        "\n",
        "data_split_1 = int(len(sents_shuf) * .1)\n",
        "data_split_2 = int(len(sents_shuf) * .2)\n",
        "\n",
        "test_data = [(sents_shuf[i], ezafe_tags_shuf[i], pos_tags_shuf[i]) for i in range(len(sents_shuf))[:data_split_1]]\n",
        "valid_data = [(sents_shuf[i], ezafe_tags_shuf[i], pos_tags_shuf[i]) for i in range(len(sents_shuf))[data_split_1:data_split_2]]\n",
        "train_data = [(sents_shuf[i], ezafe_tags_shuf[i], pos_tags_shuf[i]) for i in range(len(sents_shuf))[data_split_2:]]\n",
        "\n",
        "prev_epochs = 0\n",
        "try:\n",
        "    with open(last_i_dir) as in_file:\n",
        "        last_i = int(in_file.read().strip())\n",
        "    all_steps = math.ceil(len(train_data) / batch_size)\n",
        "    while last_i > all_steps:\n",
        "        last_i -= all_steps\n",
        "        prev_epochs += 1\n",
        "\n",
        "except FileNotFoundError:\n",
        "    last_i = 0\n",
        "\n",
        "print(last_i)\n",
        "    \n",
        "train_dataset = EzafeDataset(train_data)\n",
        "train_sampler = MySampler(train_dataset, last_i)\n",
        "\n",
        "test_dataset = EzafeDataset(test_data)\n",
        "\n",
        "print(len(train_dataset))\n",
        "print(len(test_dataset))"
      ]
    },
    {
      "cell_type": "code",
      "execution_count": null,
      "metadata": {
        "id": "EwFWvRPND67-"
      },
      "outputs": [],
      "source": [
        "class Net(nn.Module):\n",
        "    def __init__(self):\n",
        "        super(Net, self).__init__()\n",
        "\n",
        "        self.bert_model = xlmroberta_model\n",
        "        self.dropout = nn.Dropout(dropout_rate)\n",
        "        self.ezafe_classifier = nn.Linear(hidden_size, 2)\n",
        "        self.pos_classifier = nn.Linear(hidden_size, 15)\n",
        "\n",
        "    def forward(self, x, mask):\n",
        "        sequence_output, _ = self.bert_model(x, mask)\n",
        "        sequence_output = self.dropout(sequence_output)\n",
        "        ezafe_pred = self.ezafe_classifier(sequence_output)\n",
        "        pos_pred = self.pos_classifier(sequence_output)\n",
        "        return ezafe_pred, pos_pred\n",
        "\n",
        "try:\n",
        "    model = torch.load(model_dir + str(last_i))    \n",
        "except:\n",
        "    xlmroberta_model = XLMRobertaModel.from_pretrained('xlm-roberta-base')\n",
        "    model = Net().to(device)"
      ]
    },
    {
      "cell_type": "code",
      "execution_count": null,
      "metadata": {
        "id": "SrptV6bQC7_e"
      },
      "outputs": [],
      "source": [
        "train_data_loader = DataLoader(dataset=train_dataset,                                                         \n",
        "                               batch_size=BATCH_SIZE,                                            \n",
        "                               collate_fn=collate_fn,\n",
        "                               sampler=train_sampler,\n",
        "                               shuffle=False,\n",
        "                               num_workers=4)\n",
        "\n",
        "test_data_loader = DataLoader(dataset=test_dataset,                                                         \n",
        "                              batch_size=BATCH_SIZE,                                            \n",
        "                              collate_fn=collate_fn,\n",
        "                              shuffle=False,\n",
        "                              num_workers=4)\n",
        "\n",
        "criterion = nn.CrossEntropyLoss(ignore_index=tag_mask_and_pad).to(device)\n",
        "optimizer = optim.Adam(model.parameters(), lr=LEARNING_RATE)\n",
        "\n",
        "model.to(device)\n",
        "\n",
        "for epoch in range(NUM_EPOCHS):\n",
        "    epoch += prev_epochs\n",
        "    for i, (x, (ezafe_true, pos_true)) in enumerate(train_data_loader):\n",
        "        model.train()\n",
        "        i += last_i\n",
        "\n",
        "        optimizer.zero_grad()\n",
        "\n",
        "        ezafe_pred, pos_pred = model(x['input_ids'].to(device), x['attention_masks'].to(device))\n",
        "\n",
        "        ezafe_loss = criterion(ezafe_pred.view(-1, ezafe_pred.shape[-1]).cpu(), ezafe_true.view(-1))\n",
        "        pos_loss = criterion(pos_pred.view(-1, pos_pred.shape[-1]).cpu(), pos_true.view(-1))\n",
        "\n",
        "        loss = 1.0 * ezafe_loss + 2.0 * pos_loss\n",
        "\n",
        "        loss.backward()\n",
        "        optimizer.step()\n",
        "\n",
        "        if i % 2500 == 0 and (epoch != 0 or i >= 10_000):\n",
        "            print('testing...')\n",
        "            model.evaluate()\n",
        "            ezafe_true_labels, ezafe_pred_labels = [], []\n",
        "            pos_true_labels, pos_pred_labels = [], []   \n",
        "            with torch.no_grad():\n",
        "                for x, (ezafe_true, pos_true) in test_data_loader:\n",
        "                    ezafe_pred, pos_pred = model(x['input_ids'].to(device), x['attention_masks'].to(device))\n",
        "\n",
        "                    ezafe_true_labels.extend(ezafe_true.reshape(-1).numpy().tolist())\n",
        "                    ezafe_pred_labels.extend(torch.argmax(ezafe_pred, -1).reshape(-1).cpu().numpy().tolist())\n",
        "\n",
        "                    pos_true_labels.extend(pos_true.reshape(-1).numpy().tolist())\n",
        "                    pos_pred_labels.extend(torch.argmax(pos_pred, -1).reshape(-1).cpu().numpy().tolist())\n",
        "\n",
        "            ezafe_true_labels_, ezafe_pred_labels_ = np.array(ezafe_true_labels), np.array(ezafe_pred_labels)\n",
        "            pos_true_labels_, pos_pred_labels_ = np.array(pos_true_labels), np.array(pos_pred_labels)\n",
        " \n",
        "            ezafe_pos_mask_or_pad_ids = np.where(ezafe_true_labels_ == tag_mask_and_pad)[0]\n",
        "\n",
        "            ezafe_true_labels_ = np.delete(ezafe_true_labels_, ezafe_pos_mask_or_pad_ids)\n",
        "            ezafe_pred_labels_ = np.delete(ezafe_pred_labels_, ezafe_pos_mask_or_pad_ids)\n",
        "            pos_true_labels_ = np.delete(pos_true_labels_, ezafe_pos_mask_or_pad_ids)\n",
        "            pos_pred_labels_ = np.delete(pos_pred_labels_, ezafe_pos_mask_or_pad_ids)\n",
        "\n",
        "            ezafe_f1 = classification_report(ezafe_true_labels_, ezafe_pred_labels_, digits=4)\n",
        "            pos_f1 = classification_report(pos_true_labels_, pos_pred_labels_, digits=4)\n",
        "          \n",
        "            summary = f'epoch: {epoch + 1} | step: {i}:\\nEzafe_F1:\\n{ezafe_f1}\\n\\nPOS_F1:\\n{pos_f1}\\n\\n'\n",
        "            print(summary)\n",
        "\n",
        "            # save everything\n",
        "            with open(model_dir + 'summary.txt', 'a+') as out_file:\n",
        "                out_file.write(summary + '\\n')           \n",
        "    \n",
        "            with open(model_dir + 'last_i', 'w+') as out_file:\n",
        "                out_file.write(str(i))\n",
        " \n",
        "            os.mkdir(model_dir + str(i))\n",
        "            torch.save(model, model_dir + str(i))"
      ]
    },
    {
      "cell_type": "code",
      "execution_count": null,
      "metadata": {
        "id": "9pxghNmAVXwr"
      },
      "outputs": [],
      "source": [
        "# testing\n",
        "test_dataset = POSDataset(test_data)\n",
        "\n",
        "test_data_loader = DataLoader(dataset=test_dataset,                                                         \n",
        "                              batch_size=BATCH_SIZE,                                            \n",
        "                              collate_fn=collate_fn,\n",
        "                              shuffle=False,\n",
        "                              num_workers=4)\n",
        "\n",
        "i = 17500\n",
        "model = model = XLMRobertaForTokenClassification.from_pretrained(model_dir + str(i))\n",
        "\n",
        "model.to(device)\n",
        "model.train()\n",
        "\n",
        "with torch.no_grad():\n",
        "    for x, y_true in test_data_loader:\n",
        "        y_true = y_true.to(device)\n",
        "\n",
        "        _, y_pred = model(x['input_ids'].to(device), x['attention_masks'].to(device))[0]\n",
        "\n",
        "        test_true_labels.extend(y_true.reshape(-1).cpu().numpy().tolist())\n",
        "        test_pred_labels.extend(torch.argmax(y_pred, -1).reshape(-1).cpu().numpy().tolist())\n",
        "\n",
        "test_true_labels_, test_pred_labels_ = np.array(test_true_labels), np.array(test_pred_labels)\n",
        "test_pad_mask_ids = np.where(test_true_labels_ == TAG_PAD_OR_MASK_TOKEN)[0]\n",
        "test_true_labels_ = np.delete(test_true_labels_, test_pad_mask_ids)\n",
        "test_pred_labels_ = np.delete(test_pred_labels_, test_pad_mask_ids)\n",
        "\n",
        "test_f1 = classification_report(test_true_labels_, test_pred_labels_, digits=4)\n",
        "\n",
        "summary = f'epoch: {epoch + 1} | step: {i}:\\n\\n{test_f1}\\n'\n",
        "print(summary)"
      ]
    }
  ],
  "metadata": {
    "accelerator": "GPU",
    "colab": {
      "collapsed_sections": [],
      "name": "xlmroberta_pos_multi.ipynb",
      "provenance": []
    },
    "kernelspec": {
      "display_name": "Python 3",
      "language": "python",
      "name": "python3"
    },
    "language_info": {
      "codemirror_mode": {
        "name": "ipython",
        "version": 3
      },
      "file_extension": ".py",
      "mimetype": "text/x-python",
      "name": "python",
      "nbconvert_exporter": "python",
      "pygments_lexer": "ipython3",
      "version": "3.8.5"
    }
  },
  "nbformat": 4,
  "nbformat_minor": 0
}