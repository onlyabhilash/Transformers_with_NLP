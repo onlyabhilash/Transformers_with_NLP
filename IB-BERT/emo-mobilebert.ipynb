{
  "cells": [
    {
      "cell_type": "code",
      "execution_count": null,
      "metadata": {
        "id": "11wznfS4tbbk"
      },
      "outputs": [],
      "source": [
        "import nlp\n",
        "import warnings\n",
        "import tokenizers\n",
        "import transformers\n",
        "\n",
        "from sklearn.metrics import accuracy_score"
      ]
    },
    {
      "cell_type": "code",
      "execution_count": null,
      "metadata": {
        "id": "dH9UXg5Atbbr"
      },
      "outputs": [],
      "source": [
        "warnings.filterwarnings('ignore')"
      ]
    },
    {
      "cell_type": "markdown",
      "metadata": {
        "id": "KNkMlzVDtbbs"
      },
      "source": [
        "### Part 1: Train base BERT tokenizer"
      ]
    },
    {
      "cell_type": "code",
      "execution_count": null,
      "metadata": {
        "id": "HMXYXpJOtbbu"
      },
      "outputs": [],
      "source": [
        "train, test = nlp.load_dataset(\"emo\", split = [\"train\", \"test\"])"
      ]
    },
    {
      "cell_type": "code",
      "execution_count": null,
      "metadata": {
        "id": "tnbdtyawtbbv"
      },
      "outputs": [],
      "source": [
        "train_text = \" \".join([i[\"text\"] for i in train])\n",
        "test_text = \" \".join([i[\"text\"] for i in test])"
      ]
    },
    {
      "cell_type": "code",
      "execution_count": null,
      "metadata": {
        "id": "gnkeyr-Gtbbx"
      },
      "outputs": [],
      "source": [
        "with open('../data/train.txt', 'w') as f:\n",
        "    f.write(train_text)\n",
        "with open('../data/test.txt', 'w') as f:\n",
        "    f.write(test_text)"
      ]
    },
    {
      "cell_type": "code",
      "execution_count": null,
      "metadata": {
        "id": "zWM7NE4ttbbz"
      },
      "outputs": [],
      "source": [
        "tokenizer = tokenizers.BertWordPieceTokenizer()"
      ]
    },
    {
      "cell_type": "code",
      "execution_count": null,
      "metadata": {
        "id": "tevoy04mtbb0"
      },
      "outputs": [],
      "source": [
        "vocab_size = 5000\n",
        "\n",
        "tokenizer.train(files = ['../data/train.txt', '../data/test.txt'], \\\n",
        "                vocab_size = vocab_size, min_frequency = 50)"
      ]
    },
    {
      "cell_type": "code",
      "execution_count": null,
      "metadata": {
        "id": "89vXg5cmtbb1",
        "outputId": "0d173bd3-e49e-46d6-f28d-e0d6fceaf9d6"
      },
      "outputs": [
        {
          "data": {
            "text/plain": [
              "['../tokenizers/emo-mobilebert/vocab.txt']"
            ]
          },
          "execution_count": 8,
          "metadata": {},
          "output_type": "execute_result"
        }
      ],
      "source": [
        "tokenizer.save_model('../tokenizers/emo-mobilebert/')"
      ]
    },
    {
      "cell_type": "code",
      "execution_count": null,
      "metadata": {
        "id": "pzE6w1Vltbb4"
      },
      "outputs": [],
      "source": [
        "tokenizer = transformers.MobileBertTokenizerFast.from_pretrained('../tokenizers/emo-mobilebert/')"
      ]
    },
    {
      "cell_type": "markdown",
      "metadata": {
        "id": "JmbvnU6Ftbb5"
      },
      "source": [
        "### Part 2: Instantiate MobileBERT Model and reset params"
      ]
    },
    {
      "cell_type": "code",
      "execution_count": null,
      "metadata": {
        "id": "2gaCmOPXtbb7"
      },
      "outputs": [],
      "source": [
        "config = transformers.MobileBertConfig(vocab_size = len(tokenizer.get_vocab()))"
      ]
    },
    {
      "cell_type": "code",
      "execution_count": null,
      "metadata": {
        "id": "bpK0V6J0tbb7"
      },
      "outputs": [],
      "source": [
        "config.num_labels = 4"
      ]
    },
    {
      "cell_type": "code",
      "execution_count": null,
      "metadata": {
        "id": "MN_hCmKptbb8"
      },
      "outputs": [],
      "source": [
        "config.max_length = 128"
      ]
    },
    {
      "cell_type": "code",
      "execution_count": null,
      "metadata": {
        "id": "m7nNb_NFtbb8",
        "outputId": "517c239a-fdc7-4fd0-ad8f-5695df3ea920"
      },
      "outputs": [
        {
          "data": {
            "text/plain": [
              "{0: 'others', 1: 'happy', 2: 'sad', 3: 'angry'}"
            ]
          },
          "execution_count": 13,
          "metadata": {},
          "output_type": "execute_result"
        }
      ],
      "source": [
        "id2label = {}\n",
        "for i in range(config.num_labels):\n",
        "    id2label[i] = train.features[\"label\"].int2str(i)\n",
        "id2label"
      ]
    },
    {
      "cell_type": "code",
      "execution_count": null,
      "metadata": {
        "id": "pLUWuUGstbb9"
      },
      "outputs": [],
      "source": [
        "config.id2label = id2label"
      ]
    },
    {
      "cell_type": "code",
      "execution_count": null,
      "metadata": {
        "id": "Wcl54y6mtbb9"
      },
      "outputs": [],
      "source": [
        "config.label2id = {v:k for k,v in id2label.items()}"
      ]
    },
    {
      "cell_type": "code",
      "execution_count": null,
      "metadata": {
        "id": "85asl4Dztbb-"
      },
      "outputs": [],
      "source": [
        "model = transformers.MobileBertForSequenceClassification(config)"
      ]
    },
    {
      "cell_type": "code",
      "execution_count": null,
      "metadata": {
        "id": "Ov4gbaTatbb-",
        "outputId": "1b2e33ea-5e82-4421-c206-014bb69158e4"
      },
      "outputs": [
        {
          "data": {
            "text/plain": [
              "MobileBertConfig {\n",
              "  \"attention_probs_dropout_prob\": 0.1,\n",
              "  \"classifier_activation\": true,\n",
              "  \"embedding_size\": 128,\n",
              "  \"hidden_act\": \"relu\",\n",
              "  \"hidden_dropout_prob\": 0.0,\n",
              "  \"hidden_size\": 512,\n",
              "  \"id2label\": {\n",
              "    \"0\": \"others\",\n",
              "    \"1\": \"happy\",\n",
              "    \"2\": \"sad\",\n",
              "    \"3\": \"angry\"\n",
              "  },\n",
              "  \"initializer_range\": 0.02,\n",
              "  \"intermediate_size\": 512,\n",
              "  \"intra_bottleneck_size\": 128,\n",
              "  \"key_query_shared_bottleneck\": true,\n",
              "  \"label2id\": {\n",
              "    \"angry\": 3,\n",
              "    \"happy\": 1,\n",
              "    \"others\": 0,\n",
              "    \"sad\": 2\n",
              "  },\n",
              "  \"layer_norm_eps\": 1e-12,\n",
              "  \"max_length\": 128,\n",
              "  \"max_position_embeddings\": 512,\n",
              "  \"model_type\": \"mobilebert\",\n",
              "  \"normalization_type\": \"no_norm\",\n",
              "  \"num_attention_heads\": 4,\n",
              "  \"num_feedforward_networks\": 4,\n",
              "  \"num_hidden_layers\": 24,\n",
              "  \"pad_token_id\": 0,\n",
              "  \"trigram_input\": true,\n",
              "  \"true_hidden_size\": 128,\n",
              "  \"type_vocab_size\": 2,\n",
              "  \"use_bottleneck\": true,\n",
              "  \"use_bottleneck_attention\": false,\n",
              "  \"vocab_size\": 2016\n",
              "}"
            ]
          },
          "execution_count": 17,
          "metadata": {},
          "output_type": "execute_result"
        }
      ],
      "source": [
        "model.config"
      ]
    },
    {
      "cell_type": "markdown",
      "metadata": {
        "id": "ydF2Lgx9tbb_"
      },
      "source": [
        "### Part 3: Training"
      ]
    },
    {
      "cell_type": "code",
      "execution_count": null,
      "metadata": {
        "id": "mEK4RLhdtbb_"
      },
      "outputs": [],
      "source": [
        "## No max len defined as all sentences are not too long\n",
        "def tokenize(batch):\n",
        "    return tokenizer(batch['text'], padding = True)"
      ]
    },
    {
      "cell_type": "code",
      "execution_count": null,
      "metadata": {
        "id": "GsMdXcqQtbcA"
      },
      "outputs": [],
      "source": [
        "train_dataset = train.map(tokenize, batched = True, batch_size = len(train))\n",
        "test_dataset = test.map(tokenize, batched = True, batch_size = len(train))\n",
        "train_dataset.set_format('torch', columns = ['input_ids', 'attention_mask', 'label'])\n",
        "test_dataset.set_format('torch', columns = ['input_ids', 'attention_mask', 'label'])"
      ]
    },
    {
      "cell_type": "code",
      "execution_count": null,
      "metadata": {
        "id": "ZXrQ-syYtbcA"
      },
      "outputs": [],
      "source": [
        "def compute_metrics(pred):\n",
        "    labels = pred.label_ids\n",
        "    preds = pred.predictions.argmax(-1)\n",
        "    acc = accuracy_score(labels, preds)\n",
        "    return {\n",
        "        'accuracy': acc\n",
        "    }"
      ]
    },
    {
      "cell_type": "code",
      "execution_count": null,
      "metadata": {
        "id": "gfVv0HpYtbcB"
      },
      "outputs": [],
      "source": [
        "training_args = transformers.TrainingArguments(\n",
        "    output_dir = './results',\n",
        "    num_train_epochs = 10,\n",
        "    per_device_train_batch_size = 16,\n",
        "    per_device_eval_batch_size = 32,\n",
        "    warmup_steps = 500,\n",
        "    weight_decay = 0.01,\n",
        "    evaluate_during_training = True,\n",
        "    logging_dir = './logs',\n",
        ")\n",
        "\n",
        "trainer = transformers.Trainer(\n",
        "    model = model,\n",
        "    args = training_args,\n",
        "    compute_metrics = compute_metrics,\n",
        "    train_dataset = train_dataset,\n",
        "    eval_dataset = test_dataset\n",
        ")"
      ]
    },
    {
      "cell_type": "code",
      "execution_count": null,
      "metadata": {
        "id": "WYhmR_batbcB",
        "outputId": "29ffd28b-47bb-4595-e273-486fce7924d6",
        "colab": {
          "referenced_widgets": [
            "f438248dc73d41ed89a2e40bcf873c01",
            "45b32b21a5d2432e920dd9928187ba03",
            "bd5742bdb9a24a9998f0587e7fdf8dd7",
            "c5bdd29a9304406e962ce7b419ff5009",
            "0ebda92261c74fbb86f0b85ce59ff0cb",
            "dd8049dc0e4b4aefbef465e082851a65",
            "f1d92b9fe00e4a3387d56998f0d7de46",
            "9704a59f43a442528c0a7e581edf8b9d",
            "ec258654254d45e58559ef7032435e25",
            "3a0490bad5624958974f1778c4a41105",
            "2dceaddb0590452983ae271008c9a1c1",
            "c646efc5e37448468c50fd9f94e2584f",
            "09857053a5164577a7a34b1936ddd43d",
            "c8f40c70d23c40c4bcf95c7945dfa924",
            "88c6ea4b0a544167bc0285c22e6c08a4",
            "0c68d8ea45cf4c37875806aea80f9e71",
            "f9183169fccb456b8ff5f53796f011d8",
            "3d6e310e110942d9a7301746464139f3",
            "65b434ed528c4ad7acdc46c436f54961",
            "b71e22adbecc44b0a2f2553ed6f24fd4",
            "f5a7a2aebe244820b6dbcdbbfd5f82f1",
            "f45ef7eab5c24efaaf37832aa2d695ad",
            "57ca79b598ee48259f61e5eeeecc3152",
            "1d7a328dfc784aea81ad52926c4d710d",
            "86a3f7ca03da424291b55a8684582dd3",
            "acdabea0b4d04fd8850533bd3600e3fa",
            "90ec9a969b5746d5b739eef41c700408",
            "c34ff07292204b0ab15ef04bb335e23a",
            "9881442938f04c1f9d74438a550ffd4d"
          ]
        }
      },
      "outputs": [
        {
          "data": {
            "application/vnd.jupyter.widget-view+json": {
              "model_id": "f438248dc73d41ed89a2e40bcf873c01",
              "version_major": 2,
              "version_minor": 0
            },
            "text/plain": [
              "HBox(children=(FloatProgress(value=0.0, description='Epoch', max=10.0, style=ProgressStyle(description_width='…"
            ]
          },
          "metadata": {},
          "output_type": "display_data"
        },
        {
          "data": {
            "application/vnd.jupyter.widget-view+json": {
              "model_id": "45b32b21a5d2432e920dd9928187ba03",
              "version_major": 2,
              "version_minor": 0
            },
            "text/plain": [
              "HBox(children=(FloatProgress(value=0.0, description='Iteration', max=1885.0, style=ProgressStyle(description_w…"
            ]
          },
          "metadata": {},
          "output_type": "display_data"
        },
        {
          "data": {
            "application/vnd.jupyter.widget-view+json": {
              "model_id": "bd5742bdb9a24a9998f0587e7fdf8dd7",
              "version_major": 2,
              "version_minor": 0
            },
            "text/plain": [
              "HBox(children=(FloatProgress(value=0.0, description='Evaluation', max=173.0, style=ProgressStyle(description_w…"
            ]
          },
          "metadata": {},
          "output_type": "display_data"
        },
        {
          "name": "stdout",
          "output_type": "stream",
          "text": [
            "\n",
            "\n"
          ]
        },
        {
          "data": {
            "application/vnd.jupyter.widget-view+json": {
              "model_id": "c5bdd29a9304406e962ce7b419ff5009",
              "version_major": 2,
              "version_minor": 0
            },
            "text/plain": [
              "HBox(children=(FloatProgress(value=0.0, description='Iteration', max=1885.0, style=ProgressStyle(description_w…"
            ]
          },
          "metadata": {},
          "output_type": "display_data"
        },
        {
          "data": {
            "application/vnd.jupyter.widget-view+json": {
              "model_id": "0ebda92261c74fbb86f0b85ce59ff0cb",
              "version_major": 2,
              "version_minor": 0
            },
            "text/plain": [
              "HBox(children=(FloatProgress(value=0.0, description='Evaluation', max=173.0, style=ProgressStyle(description_w…"
            ]
          },
          "metadata": {},
          "output_type": "display_data"
        },
        {
          "name": "stdout",
          "output_type": "stream",
          "text": [
            "\n"
          ]
        },
        {
          "data": {
            "application/vnd.jupyter.widget-view+json": {
              "model_id": "dd8049dc0e4b4aefbef465e082851a65",
              "version_major": 2,
              "version_minor": 0
            },
            "text/plain": [
              "HBox(children=(FloatProgress(value=0.0, description='Evaluation', max=173.0, style=ProgressStyle(description_w…"
            ]
          },
          "metadata": {},
          "output_type": "display_data"
        },
        {
          "name": "stdout",
          "output_type": "stream",
          "text": [
            "\n",
            "\n"
          ]
        },
        {
          "data": {
            "application/vnd.jupyter.widget-view+json": {
              "model_id": "f1d92b9fe00e4a3387d56998f0d7de46",
              "version_major": 2,
              "version_minor": 0
            },
            "text/plain": [
              "HBox(children=(FloatProgress(value=0.0, description='Iteration', max=1885.0, style=ProgressStyle(description_w…"
            ]
          },
          "metadata": {},
          "output_type": "display_data"
        },
        {
          "data": {
            "application/vnd.jupyter.widget-view+json": {
              "model_id": "9704a59f43a442528c0a7e581edf8b9d",
              "version_major": 2,
              "version_minor": 0
            },
            "text/plain": [
              "HBox(children=(FloatProgress(value=0.0, description='Evaluation', max=173.0, style=ProgressStyle(description_w…"
            ]
          },
          "metadata": {},
          "output_type": "display_data"
        },
        {
          "name": "stdout",
          "output_type": "stream",
          "text": [
            "\n"
          ]
        },
        {
          "data": {
            "application/vnd.jupyter.widget-view+json": {
              "model_id": "ec258654254d45e58559ef7032435e25",
              "version_major": 2,
              "version_minor": 0
            },
            "text/plain": [
              "HBox(children=(FloatProgress(value=0.0, description='Evaluation', max=173.0, style=ProgressStyle(description_w…"
            ]
          },
          "metadata": {},
          "output_type": "display_data"
        },
        {
          "name": "stdout",
          "output_type": "stream",
          "text": [
            "\n",
            "\n"
          ]
        },
        {
          "data": {
            "application/vnd.jupyter.widget-view+json": {
              "model_id": "3a0490bad5624958974f1778c4a41105",
              "version_major": 2,
              "version_minor": 0
            },
            "text/plain": [
              "HBox(children=(FloatProgress(value=0.0, description='Iteration', max=1885.0, style=ProgressStyle(description_w…"
            ]
          },
          "metadata": {},
          "output_type": "display_data"
        },
        {
          "data": {
            "application/vnd.jupyter.widget-view+json": {
              "model_id": "2dceaddb0590452983ae271008c9a1c1",
              "version_major": 2,
              "version_minor": 0
            },
            "text/plain": [
              "HBox(children=(FloatProgress(value=0.0, description='Evaluation', max=173.0, style=ProgressStyle(description_w…"
            ]
          },
          "metadata": {},
          "output_type": "display_data"
        },
        {
          "name": "stdout",
          "output_type": "stream",
          "text": [
            "\n"
          ]
        },
        {
          "data": {
            "application/vnd.jupyter.widget-view+json": {
              "model_id": "c646efc5e37448468c50fd9f94e2584f",
              "version_major": 2,
              "version_minor": 0
            },
            "text/plain": [
              "HBox(children=(FloatProgress(value=0.0, description='Evaluation', max=173.0, style=ProgressStyle(description_w…"
            ]
          },
          "metadata": {},
          "output_type": "display_data"
        },
        {
          "name": "stdout",
          "output_type": "stream",
          "text": [
            "\n",
            "\n"
          ]
        },
        {
          "data": {
            "application/vnd.jupyter.widget-view+json": {
              "model_id": "09857053a5164577a7a34b1936ddd43d",
              "version_major": 2,
              "version_minor": 0
            },
            "text/plain": [
              "HBox(children=(FloatProgress(value=0.0, description='Iteration', max=1885.0, style=ProgressStyle(description_w…"
            ]
          },
          "metadata": {},
          "output_type": "display_data"
        },
        {
          "data": {
            "application/vnd.jupyter.widget-view+json": {
              "model_id": "c8f40c70d23c40c4bcf95c7945dfa924",
              "version_major": 2,
              "version_minor": 0
            },
            "text/plain": [
              "HBox(children=(FloatProgress(value=0.0, description='Evaluation', max=173.0, style=ProgressStyle(description_w…"
            ]
          },
          "metadata": {},
          "output_type": "display_data"
        },
        {
          "name": "stdout",
          "output_type": "stream",
          "text": [
            "\n"
          ]
        },
        {
          "data": {
            "application/vnd.jupyter.widget-view+json": {
              "model_id": "88c6ea4b0a544167bc0285c22e6c08a4",
              "version_major": 2,
              "version_minor": 0
            },
            "text/plain": [
              "HBox(children=(FloatProgress(value=0.0, description='Evaluation', max=173.0, style=ProgressStyle(description_w…"
            ]
          },
          "metadata": {},
          "output_type": "display_data"
        },
        {
          "name": "stdout",
          "output_type": "stream",
          "text": [
            "\n",
            "\n"
          ]
        },
        {
          "data": {
            "application/vnd.jupyter.widget-view+json": {
              "model_id": "0c68d8ea45cf4c37875806aea80f9e71",
              "version_major": 2,
              "version_minor": 0
            },
            "text/plain": [
              "HBox(children=(FloatProgress(value=0.0, description='Iteration', max=1885.0, style=ProgressStyle(description_w…"
            ]
          },
          "metadata": {},
          "output_type": "display_data"
        },
        {
          "data": {
            "application/vnd.jupyter.widget-view+json": {
              "model_id": "f9183169fccb456b8ff5f53796f011d8",
              "version_major": 2,
              "version_minor": 0
            },
            "text/plain": [
              "HBox(children=(FloatProgress(value=0.0, description='Evaluation', max=173.0, style=ProgressStyle(description_w…"
            ]
          },
          "metadata": {},
          "output_type": "display_data"
        },
        {
          "name": "stdout",
          "output_type": "stream",
          "text": [
            "\n"
          ]
        },
        {
          "data": {
            "application/vnd.jupyter.widget-view+json": {
              "model_id": "3d6e310e110942d9a7301746464139f3",
              "version_major": 2,
              "version_minor": 0
            },
            "text/plain": [
              "HBox(children=(FloatProgress(value=0.0, description='Evaluation', max=173.0, style=ProgressStyle(description_w…"
            ]
          },
          "metadata": {},
          "output_type": "display_data"
        },
        {
          "name": "stdout",
          "output_type": "stream",
          "text": [
            "\n",
            "\n"
          ]
        },
        {
          "data": {
            "application/vnd.jupyter.widget-view+json": {
              "model_id": "65b434ed528c4ad7acdc46c436f54961",
              "version_major": 2,
              "version_minor": 0
            },
            "text/plain": [
              "HBox(children=(FloatProgress(value=0.0, description='Iteration', max=1885.0, style=ProgressStyle(description_w…"
            ]
          },
          "metadata": {},
          "output_type": "display_data"
        },
        {
          "data": {
            "application/vnd.jupyter.widget-view+json": {
              "model_id": "b71e22adbecc44b0a2f2553ed6f24fd4",
              "version_major": 2,
              "version_minor": 0
            },
            "text/plain": [
              "HBox(children=(FloatProgress(value=0.0, description='Evaluation', max=173.0, style=ProgressStyle(description_w…"
            ]
          },
          "metadata": {},
          "output_type": "display_data"
        },
        {
          "name": "stdout",
          "output_type": "stream",
          "text": [
            "\n"
          ]
        },
        {
          "data": {
            "application/vnd.jupyter.widget-view+json": {
              "model_id": "f5a7a2aebe244820b6dbcdbbfd5f82f1",
              "version_major": 2,
              "version_minor": 0
            },
            "text/plain": [
              "HBox(children=(FloatProgress(value=0.0, description='Evaluation', max=173.0, style=ProgressStyle(description_w…"
            ]
          },
          "metadata": {},
          "output_type": "display_data"
        },
        {
          "name": "stdout",
          "output_type": "stream",
          "text": [
            "\n",
            "\n"
          ]
        },
        {
          "data": {
            "application/vnd.jupyter.widget-view+json": {
              "model_id": "f45ef7eab5c24efaaf37832aa2d695ad",
              "version_major": 2,
              "version_minor": 0
            },
            "text/plain": [
              "HBox(children=(FloatProgress(value=0.0, description='Iteration', max=1885.0, style=ProgressStyle(description_w…"
            ]
          },
          "metadata": {},
          "output_type": "display_data"
        },
        {
          "data": {
            "application/vnd.jupyter.widget-view+json": {
              "model_id": "57ca79b598ee48259f61e5eeeecc3152",
              "version_major": 2,
              "version_minor": 0
            },
            "text/plain": [
              "HBox(children=(FloatProgress(value=0.0, description='Evaluation', max=173.0, style=ProgressStyle(description_w…"
            ]
          },
          "metadata": {},
          "output_type": "display_data"
        },
        {
          "name": "stdout",
          "output_type": "stream",
          "text": [
            "\n"
          ]
        },
        {
          "data": {
            "application/vnd.jupyter.widget-view+json": {
              "model_id": "1d7a328dfc784aea81ad52926c4d710d",
              "version_major": 2,
              "version_minor": 0
            },
            "text/plain": [
              "HBox(children=(FloatProgress(value=0.0, description='Evaluation', max=173.0, style=ProgressStyle(description_w…"
            ]
          },
          "metadata": {},
          "output_type": "display_data"
        },
        {
          "name": "stdout",
          "output_type": "stream",
          "text": [
            "\n",
            "\n"
          ]
        },
        {
          "data": {
            "application/vnd.jupyter.widget-view+json": {
              "model_id": "86a3f7ca03da424291b55a8684582dd3",
              "version_major": 2,
              "version_minor": 0
            },
            "text/plain": [
              "HBox(children=(FloatProgress(value=0.0, description='Iteration', max=1885.0, style=ProgressStyle(description_w…"
            ]
          },
          "metadata": {},
          "output_type": "display_data"
        },
        {
          "data": {
            "application/vnd.jupyter.widget-view+json": {
              "model_id": "acdabea0b4d04fd8850533bd3600e3fa",
              "version_major": 2,
              "version_minor": 0
            },
            "text/plain": [
              "HBox(children=(FloatProgress(value=0.0, description='Evaluation', max=173.0, style=ProgressStyle(description_w…"
            ]
          },
          "metadata": {},
          "output_type": "display_data"
        },
        {
          "name": "stdout",
          "output_type": "stream",
          "text": [
            "\n",
            "\n"
          ]
        },
        {
          "data": {
            "application/vnd.jupyter.widget-view+json": {
              "model_id": "90ec9a969b5746d5b739eef41c700408",
              "version_major": 2,
              "version_minor": 0
            },
            "text/plain": [
              "HBox(children=(FloatProgress(value=0.0, description='Iteration', max=1885.0, style=ProgressStyle(description_w…"
            ]
          },
          "metadata": {},
          "output_type": "display_data"
        },
        {
          "data": {
            "application/vnd.jupyter.widget-view+json": {
              "model_id": "c34ff07292204b0ab15ef04bb335e23a",
              "version_major": 2,
              "version_minor": 0
            },
            "text/plain": [
              "HBox(children=(FloatProgress(value=0.0, description='Evaluation', max=173.0, style=ProgressStyle(description_w…"
            ]
          },
          "metadata": {},
          "output_type": "display_data"
        },
        {
          "name": "stdout",
          "output_type": "stream",
          "text": [
            "\n"
          ]
        },
        {
          "data": {
            "application/vnd.jupyter.widget-view+json": {
              "model_id": "9881442938f04c1f9d74438a550ffd4d",
              "version_major": 2,
              "version_minor": 0
            },
            "text/plain": [
              "HBox(children=(FloatProgress(value=0.0, description='Evaluation', max=173.0, style=ProgressStyle(description_w…"
            ]
          },
          "metadata": {},
          "output_type": "display_data"
        },
        {
          "name": "stdout",
          "output_type": "stream",
          "text": [
            "\n",
            "\n",
            "\n"
          ]
        },
        {
          "data": {
            "text/plain": [
              "TrainOutput(global_step=18850, training_loss=0.5102641563745962)"
            ]
          },
          "execution_count": 22,
          "metadata": {},
          "output_type": "execute_result"
        }
      ],
      "source": [
        "trainer.train() "
      ]
    },
    {
      "cell_type": "code",
      "execution_count": null,
      "metadata": {
        "id": "r1RvMABotbcB",
        "outputId": "a1b408fc-8f47-4e0a-bd8c-9346711c6c99",
        "colab": {
          "referenced_widgets": [
            "bc70275c3e5c4b97abd6f184b1433c6f"
          ]
        }
      },
      "outputs": [
        {
          "data": {
            "application/vnd.jupyter.widget-view+json": {
              "model_id": "bc70275c3e5c4b97abd6f184b1433c6f",
              "version_major": 2,
              "version_minor": 0
            },
            "text/plain": [
              "HBox(children=(FloatProgress(value=0.0, description='Evaluation', max=173.0, style=ProgressStyle(description_w…"
            ]
          },
          "metadata": {},
          "output_type": "display_data"
        },
        {
          "name": "stdout",
          "output_type": "stream",
          "text": [
            "\n"
          ]
        },
        {
          "data": {
            "text/plain": [
              "{'eval_loss': 0.42279379155939023,\n",
              " 'eval_accuracy': 0.8489744055182429,\n",
              " 'epoch': 10.0}"
            ]
          },
          "execution_count": 23,
          "metadata": {},
          "output_type": "execute_result"
        }
      ],
      "source": [
        "trainer.evaluate()"
      ]
    },
    {
      "cell_type": "code",
      "execution_count": null,
      "metadata": {
        "id": "3bGvL_a3tbcC"
      },
      "outputs": [],
      "source": [
        "trainer.save_model(\"../models/emo-mobilebert/\")"
      ]
    },
    {
      "cell_type": "code",
      "execution_count": null,
      "metadata": {
        "id": "1dTnvkBKtbcC",
        "outputId": "32273e03-f2d1-4a73-c637-99427c09e5a2"
      },
      "outputs": [
        {
          "data": {
            "text/plain": [
              "('../tokenizers/emo-mobilebert/vocab.txt',\n",
              " '../tokenizers/emo-mobilebert/special_tokens_map.json',\n",
              " '../tokenizers/emo-mobilebert/added_tokens.json')"
            ]
          },
          "execution_count": 25,
          "metadata": {},
          "output_type": "execute_result"
        }
      ],
      "source": [
        "tokenizer.save_pretrained(\"../tokenizers/emo-mobilebert/\")"
      ]
    },
    {
      "cell_type": "markdown",
      "metadata": {
        "id": "eQEGFM_itbcD"
      },
      "source": [
        "### Part 4: Pipeline"
      ]
    },
    {
      "cell_type": "code",
      "execution_count": null,
      "metadata": {
        "id": "YY7hDzzEtbcD"
      },
      "outputs": [],
      "source": [
        "transformer = transformers.AutoModelForSequenceClassification.from_pretrained(\"../models/emo-mobilebert/\")"
      ]
    },
    {
      "cell_type": "code",
      "execution_count": null,
      "metadata": {
        "id": "7F_gBkz6tbcD"
      },
      "outputs": [],
      "source": [
        "tokenizer = transformers.AutoTokenizer.from_pretrained(\"../tokenizers/emo-mobilebert/\")"
      ]
    },
    {
      "cell_type": "code",
      "execution_count": null,
      "metadata": {
        "id": "TI4kOHUEtbcD",
        "outputId": "6a66fe3a-963f-4b4c-b858-6fa1df0cdb06"
      },
      "outputs": [
        {
          "data": {
            "text/plain": [
              "[{'label': 'sad', 'score': 0.93153977394104}]"
            ]
          },
          "execution_count": 29,
          "metadata": {},
          "output_type": "execute_result"
        }
      ],
      "source": [
        "nlp_sentence_classif = transformers.pipeline('sentiment-analysis', model = transformer, tokenizer = tokenizer)\n",
        "nlp_sentence_classif(\"I've never had such a bad day in my life\")"
      ]
    }
  ],
  "metadata": {
    "kernelspec": {
      "display_name": "Python 3",
      "language": "python",
      "name": "python3"
    },
    "language_info": {
      "codemirror_mode": {
        "name": "ipython",
        "version": 3
      },
      "file_extension": ".py",
      "mimetype": "text/x-python",
      "name": "python",
      "nbconvert_exporter": "python",
      "pygments_lexer": "ipython3",
      "version": "3.8.3"
    },
    "colab": {
      "provenance": []
    }
  },
  "nbformat": 4,
  "nbformat_minor": 0
}