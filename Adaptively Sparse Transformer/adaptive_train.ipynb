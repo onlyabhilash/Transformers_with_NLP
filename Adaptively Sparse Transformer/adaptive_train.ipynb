{
  "cells": [
    {
      "cell_type": "code",
      "execution_count": null,
      "metadata": {
        "id": "wNcaNeRZiBdu",
        "outputId": "d3ad5f3e-2994-48fc-d3df-b24bfaceb984"
      },
      "outputs": [
        {
          "name": "stderr",
          "output_type": "stream",
          "text": [
            "I0213 23:45:18.631078 140717359138624 file_utils.py:35] PyTorch version 1.4.0+cpu available.\n",
            "/glob/intel-python/python3/lib/python3.6/site-packages/h5py/__init__.py:34: FutureWarning: Conversion of the second argument of issubdtype from `float` to `np.floating` is deprecated. In future, it will be treated as `np.float64 == np.dtype(float).type`.\n",
            "  from ._conv import register_converters as _register_converters\n"
          ]
        }
      ],
      "source": [
        "import math\n",
        "import torch\n",
        "from torch import nn\n",
        "import torch.nn.functional as F\n",
        "from transformers.modeling_bert import BertLayerNorm\n",
        "from transformers import BertTokenizer\n",
        "from lxrt.modeling import BertPreTrainedModel"
      ]
    },
    {
      "cell_type": "code",
      "execution_count": null,
      "metadata": {
        "id": "-TTioVeHiBd2"
      },
      "outputs": [],
      "source": [
        "device = torch.device('cuda') if torch.cuda.is_available() else torch.device('cpu')"
      ]
    },
    {
      "cell_type": "code",
      "execution_count": null,
      "metadata": {
        "id": "JJEzc5XpiBd3"
      },
      "outputs": [],
      "source": [
        "from models.adaptive_span import AdaptiveSpan"
      ]
    },
    {
      "cell_type": "code",
      "execution_count": null,
      "metadata": {
        "id": "gDN4W_4BiBd3"
      },
      "outputs": [],
      "source": [
        "# adaptive_span = AdaptiveSpan(**adapt_span_params)\n",
        "# query, key, value = torch.rand(128,20,768), torch.rand(128,36,768), torch.rand(128,36,768)\n",
        "# key_layer, value_layer, key_pe = adaptive_span.trim_memory(query,key,value,nn.Parameter(\n",
        "#             torch.randn(1, 768 // 12, 1024)))\n",
        "# key_layer.shape, value_layer.shape, key_pe.shape\n",
        "# att = adaptive_span(torch.rand(128,12,36,64))"
      ]
    },
    {
      "cell_type": "code",
      "execution_count": null,
      "metadata": {
        "id": "t8Wu5KaniBd4"
      },
      "outputs": [],
      "source": [
        "from lxrt.entry import InputFeatures,convert_sents_to_features,set_visual_config\n",
        "from lxrt.modeling import VISUAL_CONFIG"
      ]
    },
    {
      "cell_type": "code",
      "execution_count": null,
      "metadata": {
        "id": "zlEro9gqiBd5"
      },
      "outputs": [],
      "source": [
        "from transformers import BertConfig\n",
        "bert_config = BertConfig()"
      ]
    },
    {
      "cell_type": "code",
      "execution_count": null,
      "metadata": {
        "id": "CDCPa9L3iBd5"
      },
      "outputs": [],
      "source": [
        "class GeLU(nn.Module):\n",
        "    def __init__(self):\n",
        "        super().__init__()\n",
        "    def forward(self,x):\n",
        "        return F.gelu(x)"
      ]
    },
    {
      "cell_type": "code",
      "execution_count": null,
      "metadata": {
        "id": "r_1DyWMpiBd6"
      },
      "outputs": [],
      "source": [
        "class Args():\n",
        "    def __init__(self,l_layers,x_layers,r_layers):\n",
        "        self.llayers = l_layers\n",
        "        self.xlayers = x_layers\n",
        "        self.rlayers = r_layers\n",
        "        self.from_scratch=False\n",
        "args = Args(6,4,4)\n",
        "MAX_VQA_LENGTH = 20"
      ]
    },
    {
      "cell_type": "code",
      "execution_count": null,
      "metadata": {
        "id": "JJ88q6ndiBd7",
        "outputId": "66eb988c-3ee9-4e0f-8a4a-7806c42c53c4"
      },
      "outputs": [
        {
          "data": {
            "text/plain": [
              "torch.Size([128, 20, 768])"
            ]
          },
          "execution_count": 9,
          "metadata": {},
          "output_type": "execute_result"
        }
      ],
      "source": [
        "## BertEmbeddings\n",
        "class BertEmbeddings(nn.Module):\n",
        "    \"\"\"Construct the embeddings from word, position and token_type embeddings.\n",
        "    \"\"\"\n",
        "    def __init__(self, config):\n",
        "        super(BertEmbeddings, self).__init__()\n",
        "        self.word_embeddings = nn.Embedding(config.vocab_size, config.hidden_size, padding_idx=0)\n",
        "        self.position_embeddings = nn.Embedding(config.max_position_embeddings, config.hidden_size, padding_idx=0)\n",
        "        self.token_type_embeddings = nn.Embedding(config.type_vocab_size, config.hidden_size, padding_idx=0)\n",
        "\n",
        "        self.LayerNorm = BertLayerNorm(config.hidden_size, eps=1e-12)\n",
        "        self.dropout = nn.Dropout(config.hidden_dropout_prob)\n",
        "\n",
        "    def forward(self, input_ids, token_type_ids=None):\n",
        "        seq_length = input_ids.size(1)\n",
        "        position_ids = torch.arange(seq_length, dtype=torch.long, device=input_ids.device)\n",
        "        position_ids = position_ids.unsqueeze(0).expand_as(input_ids)\n",
        "        if token_type_ids is None:\n",
        "            token_type_ids = torch.zeros_like(input_ids)\n",
        "\n",
        "        words_embeddings = self.word_embeddings(input_ids)\n",
        "        position_embeddings = self.position_embeddings(position_ids)\n",
        "        token_type_embeddings = self.token_type_embeddings(token_type_ids)\n",
        "\n",
        "        embeddings = words_embeddings + position_embeddings + token_type_embeddings\n",
        "        embeddings = self.LayerNorm(embeddings)\n",
        "        embeddings = self.dropout(embeddings)\n",
        "        return embeddings\n",
        "    \n",
        "from transformers import BertConfig\n",
        "bert_embeddings = BertEmbeddings(BertConfig())\n",
        "output = bert_embeddings(input_ids = torch.rand(128,20).long(),\n",
        "                         token_type_ids = torch.rand(128,20).long())\n",
        "output.shape"
      ]
    },
    {
      "cell_type": "code",
      "execution_count": null,
      "metadata": {
        "id": "ftBnutaBiBd9"
      },
      "outputs": [],
      "source": [
        "#bert_config.num_attention_heads=12"
      ]
    },
    {
      "cell_type": "code",
      "execution_count": null,
      "metadata": {
        "id": "Um58kuGBiBd-"
      },
      "outputs": [],
      "source": [
        "num_attention_heads = bert_config.num_attention_heads # 12\n",
        "attention_head_size = int(bert_config.hidden_size / bert_config.num_attention_heads) # 768/12\n",
        "all_head_size = num_attention_heads * attention_head_size # 12*64\n",
        "\n",
        "ctx_dim = bert_config.hidden_size\n",
        "query = nn.Linear(bert_config.hidden_size, all_head_size) # 768x768\n",
        "key = nn.Linear(ctx_dim, all_head_size) # 768x768\n",
        "value = nn.Linear(ctx_dim, all_head_size) # 768x768\n",
        "#adaptive_span = AdaptiveSpan(**adapt_span_params)\n",
        "#attn_span = adapt_span_params['attn_span']\n",
        "#k_pe = nn.Parameter(torch.randn(1, hidden_size // num_attention_heads, attn_span))\n",
        "\n",
        "def transpose_for_scores(x):\n",
        "    new_x_shape = x.size()[:-1] + (num_attention_heads, attention_head_size)\n",
        "    x = x.view(*new_x_shape)\n",
        "    return x.permute(0, 2, 1, 3)"
      ]
    },
    {
      "cell_type": "markdown",
      "metadata": {
        "id": "o_CCkVAYiBd_"
      },
      "source": [
        "## Adaptive Span"
      ]
    },
    {
      "cell_type": "code",
      "execution_count": null,
      "metadata": {
        "id": "cTjBhjEgiBeD"
      },
      "outputs": [],
      "source": [
        "max_size = 1024    # [attn_span]\n",
        "ramp_size = 32\n",
        "bs = 128\n",
        "nb_heads = 12\n",
        "init_val = 0.02\n",
        "shape = (bs,nb_heads,1, 1)\n",
        "current_val = nn.Parameter(torch.zeros(*shape) + init_val) # [bs,nb_heads,1,1]"
      ]
    },
    {
      "cell_type": "code",
      "execution_count": null,
      "metadata": {
        "id": "gX1Qlu1fiBeE"
      },
      "outputs": [],
      "source": [
        "mask_size = 20\n",
        "mask_template = torch.linspace(1 - mask_size, 0, steps=mask_size) # [attn_span]\n",
        "mask = mask_template + current_val \n",
        "mask = mask / ramp_size + 1                             \n",
        "mask = mask.clamp(0, 1)"
      ]
    },
    {
      "cell_type": "code",
      "execution_count": null,
      "metadata": {
        "id": "HMzt7T2jiBeG",
        "outputId": "a151ff8c-5220-4670-dce8-cd126efe812f"
      },
      "outputs": [
        {
          "data": {
            "text/plain": [
              "torch.Size([128, 12, 1, 20])"
            ]
          },
          "execution_count": 14,
          "metadata": {},
          "output_type": "execute_result"
        }
      ],
      "source": [
        "mask.shape"
      ]
    },
    {
      "cell_type": "code",
      "execution_count": null,
      "metadata": {
        "id": "RM427QL7iBeH"
      },
      "outputs": [],
      "source": [
        "x = torch.rand(128,12,36,20)"
      ]
    },
    {
      "cell_type": "code",
      "execution_count": null,
      "metadata": {
        "id": "AzxRTcZQiBeH",
        "outputId": "785d81ed-cd8e-4f52-e6da-145d8caf2680"
      },
      "outputs": [
        {
          "name": "stdout",
          "output_type": "stream",
          "text": [
            "torch.Size([128, 12, 36, 20]) torch.Size([128, 12, 1, 20])\n"
          ]
        }
      ],
      "source": [
        "if x.size(-1) < max_size:\n",
        "    # the input could have been trimmed beforehand to save computation\n",
        "    mask = mask[:, :, -x.size(-1):]\n",
        "x.size(3)==mask.size(3)\n",
        "print(x.shape, mask.shape)\n",
        "x = x * mask   # [128, 12, 36, 64]) [128, 12, 1, 64]"
      ]
    },
    {
      "cell_type": "code",
      "execution_count": null,
      "metadata": {
        "id": "RtCczmfUiBeI"
      },
      "outputs": [],
      "source": [
        "def get_current_max_size(current_val, include_ramp=True):\n",
        "    current_size = math.ceil(current_val.max().item() * max_size)\n",
        "    if include_ramp:\n",
        "        current_size += ramp_size\n",
        "    current_size = max(0, min(max_size, current_size))\n",
        "    return current_size"
      ]
    },
    {
      "cell_type": "code",
      "execution_count": null,
      "metadata": {
        "id": "8gak32kFiBeI"
      },
      "outputs": [],
      "source": [
        "m_size = get_current_max_size(current_val)"
      ]
    },
    {
      "cell_type": "code",
      "execution_count": null,
      "metadata": {
        "id": "wURdmkh1iBeJ",
        "outputId": "82067fe7-90d7-46f6-bb3e-b60d9a092845"
      },
      "outputs": [
        {
          "data": {
            "text/plain": [
              "53"
            ]
          },
          "execution_count": 19,
          "metadata": {},
          "output_type": "execute_result"
        }
      ],
      "source": [
        "m_size"
      ]
    },
    {
      "cell_type": "code",
      "execution_count": null,
      "metadata": {
        "id": "wl7a2ijPiBeJ"
      },
      "outputs": [],
      "source": [
        "def get_current_avg_size(current_val,include_ramp=True):\n",
        "    current_size = math.ceil(current_val.mean().item() * max_size)\n",
        "    if include_ramp:\n",
        "        current_size += ramp_size\n",
        "    current_size = max(0, min(max_size, current_size))\n",
        "    return current_size"
      ]
    },
    {
      "cell_type": "code",
      "execution_count": null,
      "metadata": {
        "id": "g1rD1zzfiBeK"
      },
      "outputs": [],
      "source": [
        "avg_size = get_current_avg_size(current_val)"
      ]
    },
    {
      "cell_type": "code",
      "execution_count": null,
      "metadata": {
        "id": "YrJZ2eXdiBeK",
        "outputId": "a7026fac-1e2a-4b05-ed10-7dcd3b056066"
      },
      "outputs": [
        {
          "data": {
            "text/plain": [
              "53"
            ]
          },
          "execution_count": 22,
          "metadata": {},
          "output_type": "execute_result"
        }
      ],
      "source": [
        "avg_size"
      ]
    },
    {
      "cell_type": "code",
      "execution_count": null,
      "metadata": {
        "id": "sf5a589tiBeK"
      },
      "outputs": [],
      "source": [
        "def clamp_param(current_val):\n",
        "    \"\"\"this need to be called after each update\"\"\"\n",
        "    return current_val.data.clamp_(0, 1)"
      ]
    },
    {
      "cell_type": "code",
      "execution_count": null,
      "metadata": {
        "id": "MCYkdLHoiBeL"
      },
      "outputs": [],
      "source": [
        "current_val = clamp_param(current_val)"
      ]
    },
    {
      "cell_type": "code",
      "execution_count": null,
      "metadata": {
        "id": "gvTHgdEQiBeL"
      },
      "outputs": [],
      "source": [
        "class AdaptiveSpan():\n",
        "    \n",
        "    def __init__(self, attn_span, ramp_size, bs, nb_heads):\n",
        "        self.attn_span = 1024    # [attn_span]\n",
        "        self.ramp_size = 32\n",
        "        self.bs = 128\n",
        "        self.nb_heads = 12\n",
        "        self.init_val = 1.5\n",
        "        self.shape = (bs,nb_heads,1, 1)\n",
        "        self.mask_size = 20\n",
        "        self.current_val = nn.Parameter(torch.zeros(*self.shape) + init_val) # [bs,nb_heads,1,1]\n",
        "        self.mask_template = torch.linspace(1 - self.mask_size, 0, steps=self.mask_size) # [attn_span]\n",
        "    \n",
        "    def get_current_avg_size(self,include_ramp=True):\n",
        "        current_size = math.ceil(self.current_val.mean().item() * self.mask_size)\n",
        "        if include_ramp:\n",
        "            current_size += self.ramp_size\n",
        "        current_size = max(0, min(self.attn_span, current_size))\n",
        "        return current_size\n",
        "\n",
        "    def get_current_max_size(self,include_ramp=True):\n",
        "        current_size = math.ceil(self.current_val.max().item() * max_size)\n",
        "        if include_ramp:\n",
        "            current_size += ramp_size\n",
        "        current_size = max(0, min(self.attn_span, current_size))\n",
        "        return current_size\n",
        "    \n",
        "    \n",
        "    def clamp_param(self):\n",
        "        return self.current_val.data.clamp_(0, 1)\n",
        "\n",
        "    def mask_forward(self,x):\n",
        "        \n",
        "        mask = self.mask_template + self.current_val*self.mask_size\n",
        "        mask = mask / ramp_size + 1                             \n",
        "        mask = mask.clamp(0, 1)\n",
        "        \n",
        "        if x.size(-1) < max_size:\n",
        "            # the input could have been trimmed beforehand to save computation\n",
        "            mask = mask[:, :, -x.size(-1):]\n",
        "        x.size(3)==mask.size(3)\n",
        "        print(x.shape, mask.shape)\n",
        "        x = x * mask   # [128, 12, 36, 64]) [128, 12, 1, 64]\n",
        "        return x"
      ]
    },
    {
      "cell_type": "code",
      "execution_count": null,
      "metadata": {
        "id": "n2oB9RVsiBeL",
        "outputId": "f7c4e369-e1fa-4c82-a5d2-e4bd5325f98e"
      },
      "outputs": [
        {
          "name": "stdout",
          "output_type": "stream",
          "text": [
            "33\n",
            "53\n"
          ]
        }
      ],
      "source": [
        "span = AdaptiveSpan(attn_span=1024, ramp_size=32, bs = 128, nb_heads=12)\n",
        "print(span.get_current_avg_size())\n",
        "print(span.get_current_max_size())\n",
        "span.clamp_param();"
      ]
    },
    {
      "cell_type": "code",
      "execution_count": null,
      "metadata": {
        "id": "nD71YOW5iBeM"
      },
      "outputs": [],
      "source": [
        "adapt_cache = True\n",
        "loss_coeff = 0.005\n",
        "nb_heads = 12"
      ]
    },
    {
      "cell_type": "code",
      "execution_count": null,
      "metadata": {
        "id": "HR61e6XMiBeM"
      },
      "outputs": [],
      "source": [
        "attn = torch.rand(128,nb_heads,36,20)"
      ]
    },
    {
      "cell_type": "code",
      "execution_count": null,
      "metadata": {
        "id": "cIzSMxhyiBeM",
        "outputId": "5a122019-fbbf-4588-f8ca-0e7676f22660"
      },
      "outputs": [
        {
          "name": "stdout",
          "output_type": "stream",
          "text": [
            "128 12\n"
          ]
        }
      ],
      "source": [
        "B = attn.size(0) # batch size\n",
        "M = attn.size(1) # block size\n",
        "print(B,M)"
      ]
    },
    {
      "cell_type": "code",
      "execution_count": null,
      "metadata": {
        "id": "pc4jeFWLiBeM"
      },
      "outputs": [],
      "source": [
        "B,H,M = attn.size()[:3]"
      ]
    },
    {
      "cell_type": "code",
      "execution_count": null,
      "metadata": {
        "id": "WHkB3v8DiBeN",
        "outputId": "e5f4c71d-d5f6-49b7-db68-cfbd1f32997b"
      },
      "outputs": [
        {
          "name": "stdout",
          "output_type": "stream",
          "text": [
            "torch.Size([128, 12, 36, 20]) torch.Size([128, 12, 1, 20])\n"
          ]
        },
        {
          "data": {
            "text/plain": [
              "torch.Size([128, 12, 36, 20])"
            ]
          },
          "execution_count": 31,
          "metadata": {},
          "output_type": "execute_result"
        }
      ],
      "source": [
        "span.mask_forward(attn).shape"
      ]
    },
    {
      "cell_type": "code",
      "execution_count": null,
      "metadata": {
        "id": "gZHW4CBeiBeN"
      },
      "outputs": [],
      "source": [
        "attn = (attn)\n",
        "attn = attn / (attn.sum(-1, keepdim=True) + 1e-8)"
      ]
    },
    {
      "cell_type": "code",
      "execution_count": null,
      "metadata": {
        "id": "EB9PovvkiBeO"
      },
      "outputs": [],
      "source": [
        "def forward(attn):\n",
        "    attn = span.mask_forward(attn)\n",
        "    attn = attn/(attn.sum(-1,keepdim=True)+1e+8)\n",
        "    return attn"
      ]
    },
    {
      "cell_type": "code",
      "execution_count": null,
      "metadata": {
        "id": "A9YusviRiBeO",
        "outputId": "bb23367c-0991-4964-cc20-3253f9f26524"
      },
      "outputs": [
        {
          "name": "stdout",
          "output_type": "stream",
          "text": [
            "torch.Size([128, 12, 36, 20]) torch.Size([128, 12, 1, 20])\n"
          ]
        },
        {
          "data": {
            "text/plain": [
              "torch.Size([128, 12, 36, 20])"
            ]
          },
          "execution_count": 34,
          "metadata": {},
          "output_type": "execute_result"
        }
      ],
      "source": [
        "attn = forward(attn)\n",
        "attn.shape"
      ]
    },
    {
      "cell_type": "code",
      "execution_count": null,
      "metadata": {
        "id": "_t3fzDviiBeO"
      },
      "outputs": [],
      "source": [
        "class AdaptiveSpan(nn.Module):\n",
        "    \n",
        "    def __init__(self, adapt_span_enabled, attn_span, adapt_span_loss_coeff, adapt_span_ramp, adapt_span_init,\n",
        "                 adapt_span_cache, nb_heads, bs, mask_size):\n",
        "        \n",
        "        super(AdaptiveSpan,self).__init__()\n",
        "        self.attn_span = attn_span    # [attn_span]\n",
        "        self.ramp_size = adapt_span_ramp\n",
        "        self.bs = bs\n",
        "        self.nb_heads = nb_heads\n",
        "        self.init_val = adapt_span_init\n",
        "        self.adapt_cache = adapt_span_cache\n",
        "        self.loss_coeff = adapt_span_loss_coeff\n",
        "        self.shape = (self.bs, self.nb_heads,1, 1)\n",
        "       \n",
        "        self.current_val = nn.Parameter(torch.nn.init.kaiming_normal_(torch.empty(*self.shape)) + self.init_val) # [bs,nb_heads,1,1]\n",
        "        self.mask_size = mask_size\n",
        "        \n",
        "        mask_template_0 = torch.linspace(1 - self.mask_size[0], 0, steps=self.mask_size[0]) # [attn_span]\n",
        "        mask_template_1 = torch.linspace(1 - self.mask_size[1], 0, steps=self.mask_size[1])\n",
        "        self.register_buffer('mask_template_0', mask_template_0)\n",
        "        self.register_buffer('mask_template_1', mask_template_1)\n",
        "\n",
        "    def mask_forward(self,x):\n",
        "        mask_size = x.size(3)\n",
        "        if mask_size==self.mask_size[0]:\n",
        "            mask = self.mask_template_0 + self.current_val*mask_size\n",
        "        else:\n",
        "            mask = self.mask_template_1 + self.current_val*mask_size\n",
        "        mask = mask / self.ramp_size + 1                             \n",
        "        mask = mask.clamp(0, 1)\n",
        "        x = x * mask   # [bs, nb_heads, 36, 64]) [bs, nb_heads, 1, 64]\n",
        "        return x\n",
        "    \n",
        "    def get_current_avg_span(self,include_ramp=True):\n",
        "        current_size = math.ceil(self.current_val.mean().item() * self.attn_span)\n",
        "        if include_ramp:\n",
        "            current_size += self.ramp_size\n",
        "        current_size = max(0, min(self.attn_span, current_size))\n",
        "        return current_size\n",
        "\n",
        "    def get_current_max_span(self,include_ramp=True):\n",
        "        current_size = math.ceil(self.current_val.max().item() * self.attn_span)\n",
        "        if include_ramp:\n",
        "            current_size += self.ramp_size\n",
        "        current_size = max(0, min(self.attn_span, current_size))\n",
        "        return current_size\n",
        "    \n",
        "    def clamp_param(self):\n",
        "        self.current_val.data.clamp_(0, 1)\n",
        "\n",
        "    def get_trim_len(self):\n",
        "        L = self.attn_span\n",
        "        trim_len = min(L - 1, L - self.get_current_max_span())\n",
        "        trim_len = math.floor(trim_len / 64) * 64\n",
        "        return trim_len\n",
        "    \n",
        "    def trim_memory(self, query, key, value, key_pe):\n",
        "        \"\"\"trim out unnecessary memory beforehand to reduce computation\"\"\"\n",
        "        trim_len = self.get_trim_len()\n",
        "        cache_size = key.size(1) - query.size(1)\n",
        "        trim_len_cache = trim_len - (self.attn_span - cache_size)\n",
        "        if trim_len_cache > 0:\n",
        "            key = key[:, trim_len_cache:, :]\n",
        "            value = value[:, trim_len_cache:, :]\n",
        "        elif trim_len_cache < 0:\n",
        "            key = F.pad(key, [0, 0, -trim_len_cache, 0])\n",
        "            value = F.pad(value, [0, 0, -trim_len_cache, 0])\n",
        "        if trim_len > 0:\n",
        "            if key_pe is not None:\n",
        "                key_pe = key_pe[:, :, trim_len:]\n",
        "        return key, value, key_pe\n",
        "    \n",
        "    def get_cache_size(self):\n",
        "        \"\"\"determine how long the cache should be\"\"\"\n",
        "        if self.adapt_cache:\n",
        "            trim_len = self.get_trim_len()\n",
        "            # give a buffer of 64 steps since a span might increase\n",
        "            # in future updates\n",
        "            return min(self.attn_span, self.attn_span - trim_len + 64)\n",
        "        else:\n",
        "            return self.attn_span\n",
        "        \n",
        "    def get_loss(self):\n",
        "        \"\"\"a loss term for regularizing the span length\"\"\"\n",
        "        return self.loss_coeff * self.attn_span * self.current_val.mean()\n",
        "    \n",
        "    def forward(self,attn):\n",
        "        attn = self.mask_forward(attn)\n",
        "        attn = attn/(attn.sum(-1,keepdim=True)+1e-8)\n",
        "        return attn\n"
      ]
    },
    {
      "cell_type": "code",
      "execution_count": null,
      "metadata": {
        "id": "fcE674FLiBeP"
      },
      "outputs": [],
      "source": [
        "params = {'adapt_span_enabled': True, 'attn_span': 1024, 'adapt_span_loss_coeff': 0.000005, \n",
        "          'adapt_span_ramp': 32, 'adapt_span_init': 0.002, 'adapt_span_cache': True, 'nb_heads': 12,\n",
        "          'bs': 128, 'mask_size': [20,36], 'sparse_enabled': False, 'num_attention_heads': 4, \n",
        "          'layer_sizes': {'lang':9,'cross':5,'vision':5}, 'from_scratch': False, \n",
        "          'layerdrop_enabled': False, 'layerdrop_num_layers': 1}"
      ]
    },
    {
      "cell_type": "code",
      "execution_count": null,
      "metadata": {
        "id": "ua7VmktciBeP",
        "outputId": "f950fcc5-7678-4250-d36d-b1d9b5af0d3f"
      },
      "outputs": [
        {
          "name": "stdout",
          "output_type": "stream",
          "text": [
            "21\n",
            "1024\n",
            "0\n"
          ]
        },
        {
          "data": {
            "text/plain": [
              "torch.Size([128, 12, 36, 20])"
            ]
          },
          "execution_count": 42,
          "metadata": {},
          "output_type": "execute_result"
        }
      ],
      "source": [
        "adaptive_span = AdaptiveSpan(params['adapt_span_enabled'], params['attn_span'],\n",
        "                                              params['adapt_span_loss_coeff'], params['adapt_span_ramp'],                                                                     params['adapt_span_init'], params['adapt_span_cache'], \n",
        "                                              params['nb_heads'], params['bs'], params['mask_size'])\n",
        "print(adaptive_span.get_current_avg_span())\n",
        "print(adaptive_span.get_current_max_span())\n",
        "adaptive_span.clamp_param()\n",
        "print(adaptive_span.get_trim_len())\n",
        "adaptive_span(attn).shape"
      ]
    },
    {
      "cell_type": "code",
      "execution_count": null,
      "metadata": {
        "id": "jkjebHrGiBeQ",
        "outputId": "bc6c2d24-7e8b-44f8-99a1-58676ad9e0b8"
      },
      "outputs": [
        {
          "name": "stdout",
          "output_type": "stream",
          "text": [
            "torch.Size([128, 36, 768])\n",
            "torch.Size([128, 36, 768])\n",
            "torch.Size([128, 36, 768])\n"
          ]
        }
      ],
      "source": [
        "hidden_states = torch.rand(128,36,768) # torch.rand(128,20,768)\n",
        "context = torch.rand(128,36,768)       # torch.rand(128,20,768)\n",
        "attention_mask = torch.rand(128,1,1,20)\n",
        "#k_pe = nn.Parameter(torch.randn(1, hidden_size // num_attention_heads, 1024))\n",
        "\n",
        "q = query(hidden_states)\n",
        "print(q.shape)\n",
        "k = key(context)\n",
        "print(k.shape)\n",
        "v = value(context)\n",
        "print(v.shape)\n"
      ]
    },
    {
      "cell_type": "code",
      "execution_count": null,
      "metadata": {
        "id": "rsn92XHwiBeQ",
        "outputId": "7dfd41b4-6764-4563-a049-9bc220fc6c48"
      },
      "outputs": [
        {
          "data": {
            "text/plain": [
              "1024"
            ]
          },
          "execution_count": 44,
          "metadata": {},
          "output_type": "execute_result"
        }
      ],
      "source": [
        "adaptive_span.get_cache_size()"
      ]
    },
    {
      "cell_type": "code",
      "execution_count": null,
      "metadata": {
        "id": "C8b-KRzpiBeR",
        "outputId": "0e27c1ca-8ccd-4e41-d35e-00da29bc5609"
      },
      "outputs": [
        {
          "data": {
            "text/plain": [
              "tensor(0.0008, grad_fn=<MulBackward0>)"
            ]
          },
          "execution_count": 45,
          "metadata": {},
          "output_type": "execute_result"
        }
      ],
      "source": [
        "adaptive_span.get_loss()"
      ]
    },
    {
      "cell_type": "code",
      "execution_count": null,
      "metadata": {
        "id": "q5GarY-PiBeR",
        "outputId": "6fdf398e-630b-4ec8-ce08-22f60b7ea4b7"
      },
      "outputs": [
        {
          "data": {
            "text/plain": [
              "0"
            ]
          },
          "execution_count": 46,
          "metadata": {},
          "output_type": "execute_result"
        }
      ],
      "source": [
        "trim_len = adaptive_span.get_trim_len()\n",
        "trim_len"
      ]
    },
    {
      "cell_type": "code",
      "execution_count": null,
      "metadata": {
        "id": "V3NAziCUiBeR",
        "outputId": "b02e5747-4f8e-49fa-cbec-b14b68d3f834"
      },
      "outputs": [
        {
          "data": {
            "text/plain": [
              "1024"
            ]
          },
          "execution_count": 47,
          "metadata": {},
          "output_type": "execute_result"
        }
      ],
      "source": [
        "adaptive_span.get_current_max_span()"
      ]
    },
    {
      "cell_type": "markdown",
      "metadata": {
        "id": "OS2J-19NiBeS"
      },
      "source": [
        "## Bert Attention"
      ]
    },
    {
      "cell_type": "code",
      "execution_count": null,
      "metadata": {
        "id": "B2kS9Ol9iBeS"
      },
      "outputs": [],
      "source": [
        "hidden_states = torch.rand(128,36,768)\n",
        "context = torch.rand(128,36,768)\n",
        "attention_mask = torch.rand(128,1,1,36)"
      ]
    },
    {
      "cell_type": "code",
      "execution_count": null,
      "metadata": {
        "id": "VzpJWZ8oiBeT",
        "outputId": "382c0d02-5c33-4469-a100-e0579996ce40"
      },
      "outputs": [
        {
          "name": "stdout",
          "output_type": "stream",
          "text": [
            "torch.Size([128, 36, 768])\n",
            "torch.Size([128, 36, 768])\n",
            "torch.Size([128, 36, 768])\n"
          ]
        }
      ],
      "source": [
        "q = query(hidden_states)\n",
        "print(q.shape)\n",
        "k = key(context)\n",
        "print(k.shape)\n",
        "v = value(context)\n",
        "print(v.shape)"
      ]
    },
    {
      "cell_type": "code",
      "execution_count": null,
      "metadata": {
        "id": "k-ZKJyPjiBeU",
        "outputId": "e8dbe681-531c-4e01-d511-b7e818104456"
      },
      "outputs": [
        {
          "name": "stdout",
          "output_type": "stream",
          "text": [
            "torch.Size([128, 36, 768])\n",
            "torch.Size([128, 36, 768])\n"
          ]
        },
        {
          "data": {
            "text/plain": [
              "(None, None)"
            ]
          },
          "execution_count": 50,
          "metadata": {},
          "output_type": "execute_result"
        }
      ],
      "source": [
        "#k, v, k_pe = span.trim_memory(q,k,v,k_pe)\n",
        "print(k.shape),print(v.shape)"
      ]
    },
    {
      "cell_type": "code",
      "execution_count": null,
      "metadata": {
        "id": "pmPGhBzLiBeU",
        "outputId": "4b21a354-c25f-4699-c16c-1ebbdc8cdfce"
      },
      "outputs": [
        {
          "name": "stdout",
          "output_type": "stream",
          "text": [
            "torch.Size([128, 12, 36, 64]) torch.Size([128, 12, 36, 64]) torch.Size([128, 12, 36, 64])\n"
          ]
        }
      ],
      "source": [
        "q = transpose_for_scores(q) \n",
        "k = transpose_for_scores(k)\n",
        "v = transpose_for_scores(v) \n",
        "print(q.shape, k.shape, v.shape)"
      ]
    },
    {
      "cell_type": "code",
      "execution_count": null,
      "metadata": {
        "id": "L_ljJWimiBeW",
        "outputId": "4aa05462-b361-4d09-f041-361625c38a0e"
      },
      "outputs": [
        {
          "data": {
            "text/plain": [
              "torch.Size([128, 12, 64, 36])"
            ]
          },
          "execution_count": 52,
          "metadata": {},
          "output_type": "execute_result"
        }
      ],
      "source": [
        "k.transpose(-1,-2).shape"
      ]
    },
    {
      "cell_type": "code",
      "execution_count": null,
      "metadata": {
        "id": "A-aoJ3lAiBeX",
        "outputId": "39abffd8-e784-4ff4-95b3-140a073eef6d"
      },
      "outputs": [
        {
          "name": "stdout",
          "output_type": "stream",
          "text": [
            "torch.Size([128, 12, 36, 36])\n"
          ]
        }
      ],
      "source": [
        "attention_scores = torch.matmul(q, k.transpose(-1, -2))\n",
        "print(attention_scores.shape)"
      ]
    },
    {
      "cell_type": "code",
      "execution_count": null,
      "metadata": {
        "id": "w68WP-wJiBeX"
      },
      "outputs": [],
      "source": [
        "#attention_cont = _unskew(attention_cont)"
      ]
    },
    {
      "cell_type": "code",
      "execution_count": null,
      "metadata": {
        "id": "TQicG603iBeX"
      },
      "outputs": [],
      "source": [
        "#attention_cont = torch.reshape(attention_cont, (d0*d1,d2,d3))\n",
        "#attention_cont.shape\n",
        "#attention_cont = _unskew(attention_cont)\n",
        "#print(attention_cont.shape)\n",
        "#attention_cont = torch.reshape(attention_cont, (d0,d1,d2,-1))"
      ]
    },
    {
      "cell_type": "code",
      "execution_count": null,
      "metadata": {
        "id": "DLSTUVgFiBeY",
        "outputId": "5d5ff867-46d0-4006-9e54-9915407e6962"
      },
      "outputs": [
        {
          "name": "stdout",
          "output_type": "stream",
          "text": [
            "torch.Size([128, 12, 36, 36])\n"
          ]
        }
      ],
      "source": [
        "print(attention_scores.shape)"
      ]
    },
    {
      "cell_type": "code",
      "execution_count": null,
      "metadata": {
        "id": "myJEQwwqiBeY",
        "outputId": "acb53fb8-94b8-4e04-a330-980ad4d4727b"
      },
      "outputs": [
        {
          "data": {
            "text/plain": [
              "torch.Size([128, 1, 1, 36])"
            ]
          },
          "execution_count": 57,
          "metadata": {},
          "output_type": "execute_result"
        }
      ],
      "source": [
        "attention_mask.shape"
      ]
    },
    {
      "cell_type": "code",
      "execution_count": null,
      "metadata": {
        "id": "3FmpFuGviBeZ"
      },
      "outputs": [],
      "source": [
        "attention_scores = attention_scores + attention_mask"
      ]
    },
    {
      "cell_type": "code",
      "execution_count": null,
      "metadata": {
        "id": "91f70tX0iBea",
        "outputId": "c710aceb-e792-435a-f9c4-31b9273f2b38"
      },
      "outputs": [
        {
          "data": {
            "text/plain": [
              "torch.Size([128, 12, 36, 36])"
            ]
          },
          "execution_count": 59,
          "metadata": {},
          "output_type": "execute_result"
        }
      ],
      "source": [
        "attention_scores.shape"
      ]
    },
    {
      "cell_type": "code",
      "execution_count": null,
      "metadata": {
        "id": "vRUxE8CMiBeb",
        "outputId": "e11f3c44-59ef-4421-f3af-77341d68f17a"
      },
      "outputs": [
        {
          "data": {
            "text/plain": [
              "torch.Size([128, 12, 36, 36])"
            ]
          },
          "execution_count": 62,
          "metadata": {},
          "output_type": "execute_result"
        }
      ],
      "source": [
        "attention_probs = nn.Softmax(dim=-1)(attention_scores) \n",
        "#print(attention_probs.shape)\n",
        "attention_probs = adaptive_span(attention_probs)\n",
        "attention_probs.shape"
      ]
    },
    {
      "cell_type": "code",
      "execution_count": null,
      "metadata": {
        "id": "5uTQLHpwiBeb"
      },
      "outputs": [],
      "source": [
        "attention_probs = nn.Dropout(bert_config.attention_probs_dropout_prob)(attention_probs)"
      ]
    },
    {
      "cell_type": "code",
      "execution_count": null,
      "metadata": {
        "id": "KC7zKk2CiBec",
        "outputId": "c6aef37a-2179-4563-cfb2-f9bbbfa1deed"
      },
      "outputs": [
        {
          "name": "stdout",
          "output_type": "stream",
          "text": [
            "torch.Size([128, 12, 36, 36])\n"
          ]
        }
      ],
      "source": [
        "#attention_probs = torch.reshape(attention_probs, (d0*d1,d2,-1))\n",
        "print(attention_probs.shape)"
      ]
    },
    {
      "cell_type": "code",
      "execution_count": null,
      "metadata": {
        "id": "1P2Mrq_qiBec"
      },
      "outputs": [],
      "source": [
        "#attention_probs = _skew(attention_probs,0)\n",
        "#attention_probs.shape"
      ]
    },
    {
      "cell_type": "code",
      "execution_count": null,
      "metadata": {
        "id": "MZ7F9TFMiBed"
      },
      "outputs": [],
      "source": [
        "#attention_probs = torch.reshape(attention_probs,(d0,d1,d2,-1))\n",
        "#attention_probs.shape"
      ]
    },
    {
      "cell_type": "code",
      "execution_count": null,
      "metadata": {
        "id": "jKwg5h3YiBed"
      },
      "outputs": [],
      "source": [
        "#v = v.permute(0,1,3,2)\n",
        "#v.shape"
      ]
    },
    {
      "cell_type": "code",
      "execution_count": null,
      "metadata": {
        "id": "Mh_5yT-hiBee",
        "outputId": "439bda3e-a850-48e3-9756-090fd7435601"
      },
      "outputs": [
        {
          "data": {
            "text/plain": [
              "torch.Size([128, 12, 36, 64])"
            ]
          },
          "execution_count": 181,
          "metadata": {},
          "output_type": "execute_result"
        }
      ],
      "source": [
        "ctx_layer = torch.matmul(attention_probs, v)\n",
        "ctx_layer.shape"
      ]
    },
    {
      "cell_type": "code",
      "execution_count": null,
      "metadata": {
        "id": "WwUNjDzyiBee",
        "outputId": "8b9e9d1b-ed68-4612-8368-fc552c86f968"
      },
      "outputs": [
        {
          "data": {
            "text/plain": [
              "torch.Size([128, 36, 12, 64])"
            ]
          },
          "execution_count": 182,
          "metadata": {},
          "output_type": "execute_result"
        }
      ],
      "source": [
        "ctx_layer = ctx_layer.permute(0, 2, 1, 3).contiguous()\n",
        "ctx_layer.shape"
      ]
    },
    {
      "cell_type": "code",
      "execution_count": null,
      "metadata": {
        "id": "oxQctzTkiBee",
        "outputId": "abcafb32-56e9-459b-bc3e-7d35bc3b18a1"
      },
      "outputs": [
        {
          "data": {
            "text/plain": [
              "torch.Size([128, 36, 768])"
            ]
          },
          "execution_count": 183,
          "metadata": {},
          "output_type": "execute_result"
        }
      ],
      "source": [
        "new_ctx_layer_shape = ctx_layer.size()[:-2] + (all_head_size,)\n",
        "new_ctx_layer_shape"
      ]
    },
    {
      "cell_type": "code",
      "execution_count": null,
      "metadata": {
        "id": "UAsFXiIqiBef"
      },
      "outputs": [],
      "source": [
        "ctx_layer = ctx_layer.view(*new_ctx_layer_shape)"
      ]
    },
    {
      "cell_type": "code",
      "execution_count": null,
      "metadata": {
        "id": "2fN-_fG9iBef"
      },
      "outputs": [],
      "source": [
        "class BertAttention(nn.Module):\n",
        "    \"\"\"\n",
        "    from transformers import BertConfig\n",
        "    \n",
        "    bert_att = BertAttention(BertConfig())\n",
        "    context_output = bert_att(hidden_states = torch.rand(128,20,768),\n",
        "                          context = torch.rand(128,36,768),\n",
        "                          attention_mask = None)\n",
        "    context_output.shape # [128, 20, 768]\n",
        "\n",
        "    \"\"\"\n",
        "    def __init__(self, config, params):\n",
        "        super().__init__()\n",
        "        if config.hidden_size % config.num_attention_heads != 0:\n",
        "            raise ValueError(\n",
        "                \"The hidden size (%d) is not a multiple of the number of attention \"\n",
        "                \"heads (%d)\" % (config.hidden_size, config.num_attention_heads))\n",
        "            \n",
        "        self.num_attention_heads = config.num_attention_heads #params['num_attention_heads'] # 12\n",
        "        self.attention_head_size = config.hidden_size // config.num_attention_heads # 768/12\n",
        "        self.all_head_size = self.num_attention_heads * self.attention_head_size # 12*64\n",
        "\n",
        "        self.query = nn.Linear(config.hidden_size, self.all_head_size) # 768x768\n",
        "        self.key = nn.Linear(config.hidden_size, self.all_head_size) # 768x768\n",
        "        self.value = nn.Linear(config.hidden_size, self.all_head_size) # 768x768\n",
        "\n",
        "        self.dropout = nn.Dropout(config.attention_probs_dropout_prob)\n",
        "        \n",
        "        self.adapt_span_bool = params['adapt_span_enabled']\n",
        "        self.sparse = params['sparse_enabled']\n",
        "        \n",
        "        if self.sparse:\n",
        "            self.entmax_alpha = EntmaxAlpha(self.num_attention_heads)\n",
        "            \n",
        "        if self.adapt_span_bool:\n",
        "            self.adaptive_span = AdaptiveSpan(**params)\n",
        "        \n",
        "\n",
        "    def transpose_for_scores(self, x):\n",
        "        new_x_shape = x.size()[:-1] + (self.num_attention_heads, self.attention_head_size)\n",
        "        x = x.view(*new_x_shape)\n",
        "        return x.permute(0, 2, 1, 3)\n",
        "\n",
        "    def forward(self, hidden_states, context, attention_mask=None):\n",
        "        #print('Hidden States: ', hidden_states.shape)\n",
        "        #print('context: :', context.shape)\n",
        "        mixed_query_layer = self.query(hidden_states)\n",
        "        mixed_key_layer = self.key(context)\n",
        "        mixed_value_layer = self.value(context)\n",
        "\n",
        "        query_layer = self.transpose_for_scores(mixed_query_layer)\n",
        "        key_layer = self.transpose_for_scores(mixed_key_layer)\n",
        "        value_layer = self.transpose_for_scores(mixed_value_layer)\n",
        "\n",
        "        # Take the dot product between \"query\" and \"key\" to get the raw attention scores.\n",
        "        attention_scores = torch.matmul(query_layer, key_layer.transpose(-1, -2))\n",
        "        attention_scores = attention_scores / math.sqrt(self.attention_head_size)\n",
        "        # Apply the attention mask is (precomputed for all layers in BertModel forward() function)\n",
        "        if attention_mask is not None:\n",
        "            attention_scores = attention_scores + attention_mask\n",
        "\n",
        "        if self.sparse:\n",
        "            attention_probs = self.entmax_alpha(attention_scores)\n",
        "        else:\n",
        "            attention_probs = nn.Softmax(dim=-1)(attention_scores)\n",
        "\n",
        "        if self.adapt_span_bool:\n",
        "            attention_probs = self.adaptive_span(attention_probs)\n",
        "\n",
        "        attention_probs = self.dropout(attention_probs)\n",
        "\n",
        "        context_layer = torch.matmul(attention_probs, value_layer)\n",
        "        context_layer = context_layer.permute(0, 2, 1, 3).contiguous()\n",
        "        new_context_layer_shape = context_layer.size()[:-2] + (self.all_head_size,)\n",
        "        context_layer = context_layer.view(*new_context_layer_shape)\n",
        "        return context_layer\n",
        "    \n",
        "    def get_cache_size(self):\n",
        "        return self.adaptive_span.get_cache_size()\n"
      ]
    },
    {
      "cell_type": "code",
      "execution_count": null,
      "metadata": {
        "id": "tnTqG7OhiBef",
        "outputId": "53d15936-d011-4195-da4b-9fee97cc1221"
      },
      "outputs": [
        {
          "data": {
            "text/plain": [
              "(torch.Size([128, 36, 768]), 1024)"
            ]
          },
          "execution_count": 188,
          "metadata": {},
          "output_type": "execute_result"
        }
      ],
      "source": [
        "from transformers import BertConfig\n",
        "bert_att = BertAttention(BertConfig(),params=params)\n",
        "#context_output = bert_att(hidden_states = torch.rand(128,20,768),\n",
        "#                          context = torch.rand(128,36,768),\n",
        "#                          attention_mask = None)\n",
        "\n",
        "context_output = bert_att(hidden_states = torch.rand(128,36,768),\n",
        "                          context = torch.rand(128,20,768),\n",
        "                          attention_mask = torch.rand(128,1,1,20))\n",
        "\n",
        "context_output.shape, bert_att.get_cache_size()"
      ]
    },
    {
      "cell_type": "code",
      "execution_count": null,
      "metadata": {
        "id": "u9xL5QowiBeg",
        "outputId": "d3c16897-90fe-4422-d61b-e966047db594"
      },
      "outputs": [
        {
          "data": {
            "text/plain": [
              "torch.Size([128, 20, 768])"
            ]
          },
          "execution_count": 189,
          "metadata": {},
          "output_type": "execute_result"
        }
      ],
      "source": [
        "## BertAttOutput\n",
        "\n",
        "class BertAttOutput(nn.Module):\n",
        "    \"\"\"\n",
        "    from transformers import BertConfig\n",
        "    bert_att_output = BertAttOutput(BertConfig())\n",
        "    output = bert_att_output(torch.rand(128,20,768),torch.rand(128,20,768))\n",
        "    output.shape [128,20,768]\n",
        "\n",
        "    \"\"\"\n",
        "    def __init__(self, config):\n",
        "        super(BertAttOutput, self).__init__()\n",
        "        self.dense = nn.Linear(config.hidden_size, config.hidden_size)\n",
        "        self.LayerNorm = BertLayerNorm(config.hidden_size, eps=1e-12)\n",
        "        self.dropout = nn.Dropout(config.hidden_dropout_prob)\n",
        "\n",
        "    def forward(self, hidden_states, input_tensor):\n",
        "        hidden_states = self.dense(hidden_states)\n",
        "        hidden_states = self.dropout(hidden_states)\n",
        "        hidden_states = self.LayerNorm(hidden_states + input_tensor)\n",
        "        return hidden_states\n",
        "\n",
        "from transformers import BertConfig\n",
        "bert_att_output = BertAttOutput(BertConfig())\n",
        "output = bert_att_output(torch.rand(128,20,768),torch.rand(128,20,768))\n",
        "output.shape"
      ]
    },
    {
      "cell_type": "code",
      "execution_count": null,
      "metadata": {
        "id": "TRHpceOMiBeg",
        "outputId": "3e448904-1d95-4505-fb7f-2d31620292f2"
      },
      "outputs": [
        {
          "data": {
            "text/plain": [
              "torch.Size([128, 36, 768])"
            ]
          },
          "execution_count": 195,
          "metadata": {},
          "output_type": "execute_result"
        }
      ],
      "source": [
        "## BertCross Attention\n",
        "class BertCrossattLayer(nn.Module):\n",
        "    \"\"\"\n",
        "    from transformers import BertConfig\n",
        "    \n",
        "    bert_cross_att = BertCrossattLayer(BertConfig())\n",
        "    output = bert_cross_att(input_tensor = torch.rand(128,20,768), \n",
        "                        ctx_tensor = torch.rand(128,36,768), \n",
        "                        ctx_att_mask = None)\n",
        "                        \n",
        "    output.shape [128,20,768]\n",
        "    \"\"\"\n",
        "    def __init__(self, config, params):\n",
        "        super().__init__()\n",
        "        self.att = BertAttention(config,params)\n",
        "        self.output = BertAttOutput(config)\n",
        "\n",
        "    def forward(self, input_tensor, ctx_tensor, ctx_att_mask=None):\n",
        "        output = self.att(input_tensor, ctx_tensor, ctx_att_mask) # [128,20,768]\n",
        "        attention_output = self.output(output, input_tensor)\n",
        "        return attention_output\n",
        "    \n",
        "from transformers import BertConfig\n",
        "bert_cross_att = BertCrossattLayer(BertConfig(), params = params)\n",
        "output1 = bert_cross_att(input_tensor = torch.rand(128,20,768), \n",
        "                        ctx_tensor = torch.rand(128,36,768), \n",
        "                        ctx_att_mask = None)\n",
        "\n",
        "output2 = bert_cross_att(input_tensor = torch.rand(128,36,768),\n",
        "                        ctx_tensor = torch.rand(128,20,768),\n",
        "                        ctx_att_mask = torch.rand(128,1,1,20))\n",
        "# output1.shape\n",
        "output2.shape"
      ]
    },
    {
      "cell_type": "code",
      "execution_count": null,
      "metadata": {
        "id": "7s8ZPeW3iBeg",
        "outputId": "3645bf24-1046-4b9e-e4c1-1c749a878cdf"
      },
      "outputs": [
        {
          "data": {
            "text/plain": [
              "torch.Size([128, 20, 768])"
            ]
          },
          "execution_count": 197,
          "metadata": {},
          "output_type": "execute_result"
        }
      ],
      "source": [
        "## BertSelfattLayer\n",
        "\n",
        "class BertSelfattLayer(nn.Module):\n",
        "    \"\"\"\n",
        "    bert_self_att_layer = BertSelfattLayer(bert_config)\n",
        "    output = bert_self_att_layer(input_tensor = torch.rand(128,20,768),\n",
        "                             attention_mask = torch.rand(128,1,1,20))\n",
        "    output.shape [128, 20, 768]\n",
        "    \"\"\"\n",
        "    def __init__(self, config, params = params):\n",
        "        super(BertSelfattLayer, self).__init__()\n",
        "        self.self = BertAttention(config, params)\n",
        "        self.output = BertAttOutput(config)\n",
        "\n",
        "    def forward(self, input_tensor, attention_mask):\n",
        "        # Self attention attends to itself, thus keys and querys are the same (input_tensor).\n",
        "        self_output = self.self(input_tensor, input_tensor, attention_mask)\n",
        "        attention_output = self.output(self_output, input_tensor)\n",
        "        return attention_output\n",
        "    \n",
        "bert_self_att_layer = BertSelfattLayer(bert_config, params = params)\n",
        "output = bert_self_att_layer(input_tensor = torch.rand(128,20,768),\n",
        "                             attention_mask = torch.rand(128,1,1,20))\n",
        "output.shape"
      ]
    },
    {
      "cell_type": "code",
      "execution_count": null,
      "metadata": {
        "id": "IH3bjzk7iBeh",
        "outputId": "ab92f600-721d-4a95-fa76-e18bbe16b0c9"
      },
      "outputs": [
        {
          "data": {
            "text/plain": [
              "torch.Size([128, 20, 3072])"
            ]
          },
          "execution_count": 198,
          "metadata": {},
          "output_type": "execute_result"
        }
      ],
      "source": [
        "## BertIntermediate\n",
        "\n",
        "class BertIntermediate(nn.Module):\n",
        "    \"\"\"\n",
        "    bert_intermediate = BertIntermediate(bert_config)\n",
        "    output = bert_intermediate(torch.rand(128,20,768))\n",
        "    output.shape # [128,20,3072]\n",
        "\n",
        "    \"\"\"\n",
        "    def __init__(self, config):\n",
        "        super(BertIntermediate, self).__init__()\n",
        "        self.dense = nn.Linear(config.hidden_size, config.intermediate_size)\n",
        "        if isinstance(config.hidden_act, str) or (sys.version_info[0] == 2 and isinstance(config.hidden_act, unicode)):\n",
        "            self.intermediate_act_fn = GeLU()\n",
        "        else:\n",
        "            self.intermediate_act_fn = config.hidden_act\n",
        "\n",
        "    def forward(self, hidden_states):\n",
        "        hidden_states = self.dense(hidden_states)\n",
        "        hidden_states = self.intermediate_act_fn(hidden_states)\n",
        "        return hidden_states\n",
        "\n",
        "bert_intermediate = BertIntermediate(bert_config)\n",
        "output = bert_intermediate(torch.rand(128,20,768))\n",
        "output.shape"
      ]
    },
    {
      "cell_type": "code",
      "execution_count": null,
      "metadata": {
        "id": "1FFItAT1iBeh",
        "outputId": "44c9289a-d1b7-4816-b034-bcd84ea5c83a"
      },
      "outputs": [
        {
          "data": {
            "text/plain": [
              "torch.Size([128, 20, 768])"
            ]
          },
          "execution_count": 199,
          "metadata": {},
          "output_type": "execute_result"
        }
      ],
      "source": [
        "## BertOutput\n",
        "\n",
        "class BertOutput(nn.Module):\n",
        "    \"\"\"\n",
        "    bert_output = BertOutput(bert_config)\n",
        "    output = bert_output(hidden_states = torch.rand(128,20,3072),\n",
        "                         input_tensor = torch.rand(128,20,768))\n",
        "    output.shape # [128,20,768]\n",
        "\n",
        "    \"\"\"\n",
        "    def __init__(self, config):\n",
        "        super(BertOutput, self).__init__()\n",
        "        self.dense = nn.Linear(config.intermediate_size, config.hidden_size) # [3072x768]\n",
        "        self.LayerNorm = BertLayerNorm(config.hidden_size, eps=1e-12)\n",
        "        self.dropout = nn.Dropout(config.hidden_dropout_prob)\n",
        "\n",
        "    def forward(self, hidden_states, input_tensor):\n",
        "        hidden_states = self.dense(hidden_states)\n",
        "        hidden_states = self.dropout(hidden_states)\n",
        "        hidden_states = self.LayerNorm(hidden_states + input_tensor)\n",
        "        return hidden_states\n",
        "\n",
        "bert_output = BertOutput(bert_config)\n",
        "output = bert_output(hidden_states = torch.rand(128,20,3072),\n",
        "                         input_tensor = torch.rand(128,20,768))\n",
        "output.shape"
      ]
    },
    {
      "cell_type": "code",
      "execution_count": null,
      "metadata": {
        "id": "bZeD4nXUiBeh",
        "outputId": "29a0c742-3011-4fbc-a4ec-0b50d2fad039"
      },
      "outputs": [
        {
          "data": {
            "text/plain": [
              "torch.Size([128, 20, 768])"
            ]
          },
          "execution_count": 204,
          "metadata": {},
          "output_type": "execute_result"
        }
      ],
      "source": [
        "## BertLayer\n",
        "\n",
        "class BertLayer(nn.Module):\n",
        "    \"\"\"\n",
        "    from transformers import BertConfig\n",
        "    bert_layer  = BertLayer(BertConfig())\n",
        "    output = bert_layer(torch.rand(128,20,768),torch.rand(128,1,1,20))\n",
        "    output.shape [128,20,768]\n",
        "    \"\"\"\n",
        "    def __init__(self, config, params):\n",
        "        super(BertLayer, self).__init__()\n",
        "        self.attention = BertSelfattLayer(config,params)\n",
        "        self.intermediate = BertIntermediate(config)\n",
        "        self.output = BertOutput(config)\n",
        "\n",
        "    def forward(self, hidden_states, attention_mask):\n",
        "        attention_output = self.attention(hidden_states, attention_mask) # [128, 20, 768]\n",
        "        intermediate_output = self.intermediate(attention_output)\n",
        "        # [128,20,3072], [128,20,768]\n",
        "        layer_output = self.output(intermediate_output, attention_output) # [128,20,768]\n",
        "        return layer_output\n",
        "    \n",
        "from transformers import BertConfig\n",
        "bert_layer  = BertLayer(BertConfig(), params = params)\n",
        "output = bert_layer(hidden_states = torch.rand(128,20,768),\n",
        "                    attention_mask = torch.rand(128,1,1,20))\n",
        "output.shape"
      ]
    },
    {
      "cell_type": "code",
      "execution_count": null,
      "metadata": {
        "id": "iMMk66csiBei"
      },
      "outputs": [],
      "source": [
        "class LXRTXLayer(nn.Module):\n",
        "    \"\"\"\n",
        "    from transformers import BertConfig\n",
        "    lxrtx_layer = LXRTXLayer(BertConfig())\n",
        "    output = lxrtx_layer(lang_feats = torch.rand(128,20,768),\n",
        "                      lang_attention_mask = torch.rand(128,1,1,20),\n",
        "                      visn_feats = torch.rand(128,36,768),\n",
        "                      visn_attention_mask = None)\n",
        "\n",
        "    lang_output.shape: [128,20,768]\n",
        "    visn_output.shape: [128,36,768]\n",
        "    \n",
        "    \"\"\"\n",
        "    def __init__(self, config, params):\n",
        "        super().__init__()\n",
        "        # The cross-attention Layer\n",
        "        self.visual_attention = BertCrossattLayer(config, params)\n",
        "\n",
        "        # Self-attention Layers\n",
        "        self.lang_self_att = BertSelfattLayer(config, params)\n",
        "        self.visn_self_att = BertSelfattLayer(config, params)\n",
        "\n",
        "        # Intermediate and Output Layers (FFNs)\n",
        "        self.lang_inter = BertIntermediate(config)\n",
        "        self.lang_output = BertOutput(config)\n",
        "        self.visn_inter = BertIntermediate(config)\n",
        "        self.visn_output = BertOutput(config)\n",
        "\n",
        "    def cross_att(self, lang_input, lang_attention_mask, visn_input, visn_attention_mask):\n",
        "        # Cross Attention\n",
        "        lang_att_output = self.visual_attention(lang_input, visn_input, ctx_att_mask=visn_attention_mask)\n",
        "        visn_att_output = self.visual_attention(visn_input, lang_input, ctx_att_mask=lang_attention_mask)\n",
        "        return lang_att_output, visn_att_output\n",
        "\n",
        "    def self_att(self, lang_input, lang_attention_mask, visn_input, visn_attention_mask):\n",
        "        # Self Attention\n",
        "        lang_att_output = self.lang_self_att(lang_input, lang_attention_mask)\n",
        "        visn_att_output = self.visn_self_att(visn_input, visn_attention_mask)\n",
        "        return lang_att_output, visn_att_output\n",
        "\n",
        "    def output_fc(self, lang_input, visn_input):\n",
        "        # FC layers\n",
        "        lang_inter_output = self.lang_inter(lang_input)\n",
        "        visn_inter_output = self.visn_inter(visn_input)\n",
        "\n",
        "        # Layer output\n",
        "        lang_output = self.lang_output(lang_inter_output, lang_input)\n",
        "        visn_output = self.visn_output(visn_inter_output, visn_input)\n",
        "        return lang_output, visn_output\n",
        "\n",
        "    def forward(self, lang_feats, lang_attention_mask,\n",
        "                      visn_feats, visn_attention_mask):\n",
        "        lang_att_output = lang_feats\n",
        "        visn_att_output = visn_feats\n",
        "\n",
        "        lang_att_output, visn_att_output = self.cross_att(lang_att_output, lang_attention_mask,\n",
        "                                                          visn_att_output, visn_attention_mask)\n",
        "        \n",
        "        lang_att_output, visn_att_output = self.self_att(lang_att_output, lang_attention_mask,\n",
        "                                                         visn_att_output, visn_attention_mask)\n",
        "        lang_output, visn_output = self.output_fc(lang_att_output, visn_att_output)\n",
        "\n",
        "        return lang_output, visn_output"
      ]
    },
    {
      "cell_type": "code",
      "execution_count": null,
      "metadata": {
        "id": "W0clNeMQiBek",
        "outputId": "2f20e8ce-6f90-4cbd-e81a-f45155c89e80"
      },
      "outputs": [
        {
          "data": {
            "text/plain": [
              "(torch.Size([128, 20, 768]), torch.Size([128, 36, 768]))"
            ]
          },
          "execution_count": 207,
          "metadata": {},
          "output_type": "execute_result"
        }
      ],
      "source": [
        "from transformers import BertConfig\n",
        "lxrtx_layer = LXRTXLayer(BertConfig(), params=params)\n",
        "output = lxrtx_layer(lang_feats = torch.rand(128,20,768),\n",
        "                      lang_attention_mask = torch.rand(128,1,1,20),\n",
        "                      visn_feats = torch.rand(128,36,768),\n",
        "                      visn_attention_mask = None)\n",
        "output[0].shape, output[1].shape"
      ]
    },
    {
      "cell_type": "code",
      "execution_count": null,
      "metadata": {
        "id": "1ANyTxbLiBem"
      },
      "outputs": [],
      "source": [
        "class VisualFeatEncoder(nn.Module):\n",
        "    \"\"\"\n",
        "\n",
        "    from transformers import BertConfig\n",
        "    \n",
        "    visual_feat_encoder = VisualFeatEncoder(BertConfig())\n",
        "    output = visual_feat_encoder((torch.rand(128,36,2048),torch.rand(128,36,4))) img_feats+box_feats\n",
        "    \n",
        "    output.shape: [128,36,768]\n",
        "    \"\"\"\n",
        "    def __init__(self, config):\n",
        "        super().__init__()\n",
        "        feat_dim = VISUAL_CONFIG.visual_feat_dim\n",
        "        pos_dim = VISUAL_CONFIG.visual_pos_dim\n",
        "\n",
        "        # Object feature encoding\n",
        "        self.visn_fc = nn.Linear(feat_dim, config.hidden_size)\n",
        "        self.visn_layer_norm = BertLayerNorm(config.hidden_size, eps=1e-12)\n",
        "\n",
        "        # Box position encoding\n",
        "        self.box_fc = nn.Linear(pos_dim, config.hidden_size)\n",
        "        self.box_layer_norm = BertLayerNorm(config.hidden_size, eps=1e-12)\n",
        "\n",
        "        self.dropout = nn.Dropout(config.hidden_dropout_prob)\n",
        "\n",
        "    def forward(self, visn_input):\n",
        "        feats, boxes = visn_input\n",
        "\n",
        "        x = self.visn_fc(feats)\n",
        "        x = self.visn_layer_norm(x)\n",
        "        y = self.box_fc(boxes)\n",
        "        y = self.box_layer_norm(y)\n",
        "        output = (x + y) / 2\n",
        "\n",
        "        output = self.dropout(output)\n",
        "        return output"
      ]
    },
    {
      "cell_type": "code",
      "execution_count": null,
      "metadata": {
        "id": "VWmk2Ds-iBem",
        "outputId": "a2d8e8d0-d8f0-4aa0-8f28-2f3f1e6a7b3a"
      },
      "outputs": [
        {
          "data": {
            "text/plain": [
              "torch.Size([128, 36, 768])"
            ]
          },
          "execution_count": 209,
          "metadata": {},
          "output_type": "execute_result"
        }
      ],
      "source": [
        "from transformers import BertConfig\n",
        "visual_feat_encoder = VisualFeatEncoder(BertConfig())\n",
        "output = visual_feat_encoder((torch.rand(128,36,2048),torch.rand(128,36,4)))\n",
        "output.shape"
      ]
    },
    {
      "cell_type": "code",
      "execution_count": null,
      "metadata": {
        "id": "EanN226hiBem"
      },
      "outputs": [],
      "source": [
        "class LXRTEncoder(nn.Module):\n",
        "    \"\"\"\n",
        "    from transformers import BertConfig\n",
        "    lxrt_encoder = LXRTEncoder(BertConfig())\n",
        "\n",
        "    output = lxrt_encoder(lang_feats = torch.rand(128,20,768),\n",
        "                      lang_attention_mask = torch.rand(128,1,1,20),\n",
        "                      visn_feats = (torch.rand(128,36,2048),torch.rand(128,36,4)),\n",
        "                      visn_attention_mask = None)\n",
        "\n",
        "    lang_feats.shape: [128,20,768]\n",
        "    visn_feats.shape: [128,36,768]\n",
        "\n",
        "    \"\"\"\n",
        "    def __init__(self, config, params):\n",
        "        super().__init__()\n",
        "\n",
        "        # Obj-level image embedding layer\n",
        "        self.visn_fc = VisualFeatEncoder(config)\n",
        "\n",
        "        # Number of layers\n",
        "        self.num_l_layers = VISUAL_CONFIG.l_layers\n",
        "        self.num_x_layers = VISUAL_CONFIG.x_layers\n",
        "        self.num_r_layers = VISUAL_CONFIG.r_layers\n",
        "        print(\"LXRT encoder with %d l_layers, %d x_layers, and %d r_layers.\" %\n",
        "              (self.num_l_layers, self.num_x_layers, self.num_r_layers))\n",
        "\n",
        "        # Layers\n",
        "        # Using self.layer instead of self.l_layer to support loading BERT weights.\n",
        "        self.layer = nn.ModuleList(\n",
        "            [BertLayer(config, params) for _ in range(self.num_l_layers)]\n",
        "        )\n",
        "        self.x_layers = nn.ModuleList(\n",
        "            [LXRTXLayer(config, params) for _ in range(self.num_x_layers)]\n",
        "        )\n",
        "        self.r_layers = nn.ModuleList(\n",
        "            [BertLayer(config, params) for _ in range(self.num_r_layers)]\n",
        "        )\n",
        "\n",
        "    def forward(self, lang_feats, lang_attention_mask,\n",
        "                visn_feats, visn_attention_mask=None):\n",
        "        # Run visual embedding layer\n",
        "        # Note: Word embedding layer was executed outside this module.\n",
        "        #       Keep this design to allow loading BERT weights.\n",
        "        visn_feats = self.visn_fc(visn_feats)\n",
        "        #print('visn_feats_from_visn_fc', visn_feats.shape) : [128, 36, 768]\n",
        "\n",
        "        # Run language layers\n",
        "        for layer_module in self.layer:\n",
        "            lang_feats = layer_module(lang_feats, lang_attention_mask)\n",
        "\n",
        "        # Run relational layers\n",
        "        for layer_module in self.r_layers:\n",
        "            visn_feats = layer_module(visn_feats, visn_attention_mask)\n",
        "\n",
        "        # Run cross-modality layers\n",
        "        for layer_module in self.x_layers:\n",
        "            lang_feats, visn_feats = layer_module(lang_feats, lang_attention_mask,\n",
        "                                                  visn_feats, visn_attention_mask)\n",
        "\n",
        "        return lang_feats, visn_feats"
      ]
    },
    {
      "cell_type": "code",
      "execution_count": null,
      "metadata": {
        "id": "W_nFHOnliBen",
        "outputId": "b52d85d9-48bc-404b-bcd5-1af524552802"
      },
      "outputs": [
        {
          "name": "stdout",
          "output_type": "stream",
          "text": [
            "LXRT encoder with 12 l_layers, 5 x_layers, and 0 r_layers.\n"
          ]
        },
        {
          "data": {
            "text/plain": [
              "(torch.Size([128, 20, 768]), torch.Size([128, 36, 768]))"
            ]
          },
          "execution_count": 212,
          "metadata": {},
          "output_type": "execute_result"
        }
      ],
      "source": [
        "from transformers import BertConfig\n",
        "lxrt_encoder = LXRTEncoder(BertConfig(),params=params)\n",
        "\n",
        "output = lxrt_encoder(lang_feats = torch.rand(128,20,768),\n",
        "                      lang_attention_mask = torch.rand(128,1,1,20),\n",
        "                      visn_feats = (torch.rand(128,36,2048),torch.rand(128,36,4)),\n",
        "                      visn_attention_mask = None)\n",
        "\n",
        "output[0].shape,output[1].shape"
      ]
    },
    {
      "cell_type": "code",
      "execution_count": null,
      "metadata": {
        "id": "scl7BVXSiBen"
      },
      "outputs": [],
      "source": []
    },
    {
      "cell_type": "code",
      "execution_count": null,
      "metadata": {
        "id": "V_4C9hKqiBen"
      },
      "outputs": [],
      "source": [
        "l,x,r = 6,4,4"
      ]
    },
    {
      "cell_type": "code",
      "execution_count": null,
      "metadata": {
        "id": "AmRMKPPJiBeo"
      },
      "outputs": [],
      "source": [
        "layer = nn.ModuleList(\n",
        "            [BertLayer(bert_config, params) for _ in range(l)])\n",
        "x_layers = nn.ModuleList(\n",
        "            [LXRTXLayer(bert_config, params) for _ in range(x)])\n",
        "r_layers = nn.ModuleList(\n",
        "            [BertLayer(bert_config, params) for _ in range(r)])"
      ]
    },
    {
      "cell_type": "code",
      "execution_count": null,
      "metadata": {
        "id": "F3FvkR1EiBeo"
      },
      "outputs": [],
      "source": [
        "l_set = nn.Parameter(torch.Tensor([2]))\n",
        "l_set = l_set.clamp(0,l)\n",
        "\n",
        "max = l_set.max()"
      ]
    },
    {
      "cell_type": "code",
      "execution_count": null,
      "metadata": {
        "id": "ia8j_vSIiBeo",
        "outputId": "d63b60ec-81c1-4b1e-b112-5fe591841730"
      },
      "outputs": [
        {
          "data": {
            "text/plain": [
              "tensor(2., grad_fn=<MaxBackward1>)"
            ]
          },
          "execution_count": 256,
          "metadata": {},
          "output_type": "execute_result"
        }
      ],
      "source": [
        "max"
      ]
    },
    {
      "cell_type": "code",
      "execution_count": null,
      "metadata": {
        "id": "6j7KifxeiBeo"
      },
      "outputs": [],
      "source": []
    },
    {
      "cell_type": "code",
      "execution_count": null,
      "metadata": {
        "id": "93FnqHyeiBep",
        "outputId": "0b12ef82-36f9-4b61-8f06-7d0ee84cac66"
      },
      "outputs": [
        {
          "name": "stdout",
          "output_type": "stream",
          "text": [
            "BertLayer(\n",
            "  (attention): BertSelfattLayer(\n",
            "    (self): BertAttention(\n",
            "      (query): Linear(in_features=768, out_features=768, bias=True)\n",
            "      (key): Linear(in_features=768, out_features=768, bias=True)\n",
            "      (value): Linear(in_features=768, out_features=768, bias=True)\n",
            "      (dropout): Dropout(p=0.1, inplace=False)\n",
            "      (adaptive_span): AdaptiveSpan()\n",
            "    )\n",
            "    (output): BertAttOutput(\n",
            "      (dense): Linear(in_features=768, out_features=768, bias=True)\n",
            "      (LayerNorm): LayerNorm((768,), eps=1e-12, elementwise_affine=True)\n",
            "      (dropout): Dropout(p=0.1, inplace=False)\n",
            "    )\n",
            "  )\n",
            "  (intermediate): BertIntermediate(\n",
            "    (dense): Linear(in_features=768, out_features=3072, bias=True)\n",
            "    (intermediate_act_fn): GeLU()\n",
            "  )\n",
            "  (output): BertOutput(\n",
            "    (dense): Linear(in_features=3072, out_features=768, bias=True)\n",
            "    (LayerNorm): LayerNorm((768,), eps=1e-12, elementwise_affine=True)\n",
            "    (dropout): Dropout(p=0.1, inplace=False)\n",
            "  )\n",
            ")\n",
            "BertLayer(\n",
            "  (attention): BertSelfattLayer(\n",
            "    (self): BertAttention(\n",
            "      (query): Linear(in_features=768, out_features=768, bias=True)\n",
            "      (key): Linear(in_features=768, out_features=768, bias=True)\n",
            "      (value): Linear(in_features=768, out_features=768, bias=True)\n",
            "      (dropout): Dropout(p=0.1, inplace=False)\n",
            "      (adaptive_span): AdaptiveSpan()\n",
            "    )\n",
            "    (output): BertAttOutput(\n",
            "      (dense): Linear(in_features=768, out_features=768, bias=True)\n",
            "      (LayerNorm): LayerNorm((768,), eps=1e-12, elementwise_affine=True)\n",
            "      (dropout): Dropout(p=0.1, inplace=False)\n",
            "    )\n",
            "  )\n",
            "  (intermediate): BertIntermediate(\n",
            "    (dense): Linear(in_features=768, out_features=3072, bias=True)\n",
            "    (intermediate_act_fn): GeLU()\n",
            "  )\n",
            "  (output): BertOutput(\n",
            "    (dense): Linear(in_features=3072, out_features=768, bias=True)\n",
            "    (LayerNorm): LayerNorm((768,), eps=1e-12, elementwise_affine=True)\n",
            "    (dropout): Dropout(p=0.1, inplace=False)\n",
            "  )\n",
            ")\n",
            "BertLayer(\n",
            "  (attention): BertSelfattLayer(\n",
            "    (self): BertAttention(\n",
            "      (query): Linear(in_features=768, out_features=768, bias=True)\n",
            "      (key): Linear(in_features=768, out_features=768, bias=True)\n",
            "      (value): Linear(in_features=768, out_features=768, bias=True)\n",
            "      (dropout): Dropout(p=0.1, inplace=False)\n",
            "      (adaptive_span): AdaptiveSpan()\n",
            "    )\n",
            "    (output): BertAttOutput(\n",
            "      (dense): Linear(in_features=768, out_features=768, bias=True)\n",
            "      (LayerNorm): LayerNorm((768,), eps=1e-12, elementwise_affine=True)\n",
            "      (dropout): Dropout(p=0.1, inplace=False)\n",
            "    )\n",
            "  )\n",
            "  (intermediate): BertIntermediate(\n",
            "    (dense): Linear(in_features=768, out_features=3072, bias=True)\n",
            "    (intermediate_act_fn): GeLU()\n",
            "  )\n",
            "  (output): BertOutput(\n",
            "    (dense): Linear(in_features=3072, out_features=768, bias=True)\n",
            "    (LayerNorm): LayerNorm((768,), eps=1e-12, elementwise_affine=True)\n",
            "    (dropout): Dropout(p=0.1, inplace=False)\n",
            "  )\n",
            ")\n"
          ]
        }
      ],
      "source": [
        "for idx in range(0,len(layer),):\n",
        "    print(layer[idx])"
      ]
    },
    {
      "cell_type": "code",
      "execution_count": null,
      "metadata": {
        "id": "Zlc_vE2tiBep"
      },
      "outputs": [],
      "source": []
    },
    {
      "cell_type": "code",
      "execution_count": null,
      "metadata": {
        "id": "2YAmy8JhiBeq"
      },
      "outputs": [],
      "source": []
    },
    {
      "cell_type": "code",
      "execution_count": null,
      "metadata": {
        "id": "whK1xrl4iBeq"
      },
      "outputs": [],
      "source": []
    },
    {
      "cell_type": "code",
      "execution_count": null,
      "metadata": {
        "id": "gr2Hf-_CiBeq"
      },
      "outputs": [],
      "source": []
    },
    {
      "cell_type": "code",
      "execution_count": null,
      "metadata": {
        "id": "c1cAyXPfiBer"
      },
      "outputs": [],
      "source": []
    },
    {
      "cell_type": "code",
      "execution_count": null,
      "metadata": {
        "id": "WEgbcgE4iBer"
      },
      "outputs": [],
      "source": []
    },
    {
      "cell_type": "code",
      "execution_count": null,
      "metadata": {
        "id": "Jit565BziBer"
      },
      "outputs": [],
      "source": []
    },
    {
      "cell_type": "code",
      "execution_count": null,
      "metadata": {
        "id": "pslbwbrMiBer"
      },
      "outputs": [],
      "source": [
        "class BertPooler(nn.Module):\n",
        "    def __init__(self, config):\n",
        "        super(BertPooler, self).__init__()\n",
        "        self.dense = nn.Linear(config.hidden_size, config.hidden_size)\n",
        "        self.activation = nn.Tanh()\n",
        "\n",
        "    def forward(self, hidden_states):\n",
        "        # We \"pool\" the model by simply taking the hidden state corresponding\n",
        "        # to the first token.\n",
        "        first_token_tensor = hidden_states[:, 0]\n",
        "        pooled_output = self.dense(first_token_tensor)\n",
        "        pooled_output = self.activation(pooled_output)\n",
        "        return pooled_output"
      ]
    },
    {
      "cell_type": "code",
      "execution_count": null,
      "metadata": {
        "id": "Do0O2r48iBes"
      },
      "outputs": [],
      "source": [
        "class LXRTModel(BertPreTrainedModel):\n",
        "    \"\"\"\n",
        "    LXRT Model.\n",
        "    \n",
        "    model = LXRTModel.from_pretrained(\"bert-base-uncased\")\n",
        "    \n",
        "    output = model(input_ids = torch.rand(128,20).long(), \n",
        "               token_type_ids = torch.rand(128,20).long(),\n",
        "               attention_mask = torch.rand(128,32).long(),\n",
        "               visual_feats = (torch.rand(128,36,2048),torch.rand(128,36,4)),\n",
        "               visual_attention_mask = None)\n",
        "    \n",
        "    \n",
        "    lang_feats.shape -> [128, 20, 768]\n",
        "    vision_feats.shape -> [128, 36, 768]\n",
        "    pooled_output.shape -> [128,768]\n",
        "    \n",
        "    \"\"\"\n",
        "\n",
        "    def __init__(self, config, adapt_span_params):\n",
        "        super().__init__(config)\n",
        "        self.embeddings = BertEmbeddings(config)\n",
        "        self.encoder = LXRTEncoder(config,adapt_span_params)\n",
        "        self.pooler = BertPooler(config)\n",
        "        self.apply(self.init_bert_weights)\n",
        "\n",
        "    def forward(self, input_ids, token_type_ids=None, attention_mask=None,\n",
        "                visual_feats=None, visual_attention_mask=None):\n",
        "        if attention_mask is None:\n",
        "            attention_mask = torch.ones_like(input_ids)\n",
        "        if token_type_ids is None:\n",
        "            token_type_ids = torch.zeros_like(input_ids)\n",
        "\n",
        "        # We create a 3D attention mask from a 2D tensor mask.\n",
        "        # Sizes are [batch_size, 1, 1, to_seq_length]\n",
        "        # So we can broadcast to [batch_size, num_heads, from_seq_length, to_seq_length]\n",
        "        # this attention mask is more simple than the triangular masking of causal attention\n",
        "        # used in OpenAI GPT, we just need to prepare the broadcast dimension here.\n",
        "        \n",
        "        #print('Attention Mask', attention_mask.shape) : [128, 20]\n",
        "        extended_attention_mask = attention_mask.unsqueeze(1).unsqueeze(2) # [128, 1, 1, 20]\n",
        " \n",
        "        # Since attention_mask is 1.0 for positions we want to attend and 0.0 for\n",
        "        # masked positions, this operation will create a tensor which is 0.0 for\n",
        "        # positions we want to attend and -10000.0 for masked positions.\n",
        "        # Since we are adding it to the raw scores before the softmax, this is\n",
        "        # effectively the same as removing these entirely.\n",
        "        \n",
        "        extended_attention_mask = extended_attention_mask.to(dtype=next(self.parameters()).dtype) # fp16 compatibility\n",
        "        extended_attention_mask = (1.0 - extended_attention_mask) * -10000.0 # [128, 1, 1, 20]\n",
        "        \n",
        "\n",
        "        # Process the visual attention mask\n",
        "        if visual_attention_mask is not None:\n",
        "            extended_visual_attention_mask = visual_attention_mask.unsqueeze(1).unsqueeze(2)\n",
        "            extended_visual_attention_mask = extended_visual_attention_mask.to(dtype=next(self.parameters()).dtype) # fp16 compatibility\n",
        "            extended_visual_attention_mask = (1.0 - extended_visual_attention_mask) * -10000.0\n",
        "        else:\n",
        "            extended_visual_attention_mask = None\n",
        "        \n",
        "        # print('Extended Visual Attention Mask', extended_visual_attention_mask.shape) Shape: None\n",
        "        \n",
        "        # Positional Word Embeddings\n",
        "        embedding_output = self.embeddings(input_ids, token_type_ids)\n",
        "        \n",
        "        # print('Embedding Output', embedding_output.shape): [128,20,768]\n",
        "        \n",
        "        # Run LXRT backbone\n",
        "        \n",
        "        \n",
        "        lang_feats, visn_feats = self.encoder(\n",
        "            embedding_output,\n",
        "            extended_attention_mask,\n",
        "            visn_feats=visual_feats,\n",
        "            visn_attention_mask=extended_visual_attention_mask)\n",
        "        \n",
        "        pooled_output = self.pooler(lang_feats)\n",
        "\n",
        "        return (lang_feats, visn_feats), pooled_output"
      ]
    },
    {
      "cell_type": "code",
      "execution_count": null,
      "metadata": {
        "id": "ujWDWcksiBet",
        "outputId": "abeba355-eca3-4777-fddb-ce7c80c78147"
      },
      "outputs": [
        {
          "name": "stderr",
          "output_type": "stream",
          "text": [
            "I0119 23:40:53.981736 140278342630272 modeling.py:760] loading archive file https://s3.amazonaws.com/models.huggingface.co/bert/bert-base-uncased.tar.gz from cache at /home/u37216/.pytorch_pretrained_bert/9c41111e2de84547a463fd39217199738d1e3deb72d4fec4399e6e241983c6f0.ae3cef932725ca7a30cdcb93fc6e09150a55e2a130ec7af63975a16c153ae2ba\n",
            "I0119 23:40:53.994982 140278342630272 modeling.py:768] extracting archive file /home/u37216/.pytorch_pretrained_bert/9c41111e2de84547a463fd39217199738d1e3deb72d4fec4399e6e241983c6f0.ae3cef932725ca7a30cdcb93fc6e09150a55e2a130ec7af63975a16c153ae2ba to temp dir /home/u37216/tmp/tmpbyynjeqq\n",
            "I0119 23:40:59.482414 140278342630272 modeling.py:775] Model config {\n",
            "  \"attention_probs_dropout_prob\": 0.1,\n",
            "  \"hidden_act\": \"gelu\",\n",
            "  \"hidden_dropout_prob\": 0.1,\n",
            "  \"hidden_size\": 768,\n",
            "  \"initializer_range\": 0.02,\n",
            "  \"intermediate_size\": 3072,\n",
            "  \"max_position_embeddings\": 512,\n",
            "  \"num_attention_heads\": 12,\n",
            "  \"num_hidden_layers\": 12,\n",
            "  \"type_vocab_size\": 2,\n",
            "  \"vocab_size\": 30522\n",
            "}\n",
            "\n"
          ]
        },
        {
          "name": "stdout",
          "output_type": "stream",
          "text": [
            "LXRT encoder with 12 l_layers, 5 x_layers, and 0 r_layers.\n"
          ]
        },
        {
          "ename": "TypeError",
          "evalue": "forward() got an unexpected keyword argument 'extended_attention_mask'",
          "output_type": "error",
          "traceback": [
            "\u001b[0;31m---------------------------------------------------------------------------\u001b[0m",
            "\u001b[0;31mTypeError\u001b[0m                                 Traceback (most recent call last)",
            "\u001b[0;32m<ipython-input-56-a1a504866786>\u001b[0m in \u001b[0;36m<module>\u001b[0;34m()\u001b[0m\n\u001b[1;32m      4\u001b[0m                \u001b[0mattention_mask\u001b[0m \u001b[0;34m=\u001b[0m \u001b[0mtorch\u001b[0m\u001b[0;34m.\u001b[0m\u001b[0mrand\u001b[0m\u001b[0;34m(\u001b[0m\u001b[0;36m128\u001b[0m\u001b[0;34m,\u001b[0m\u001b[0;36m20\u001b[0m\u001b[0;34m)\u001b[0m\u001b[0;34m.\u001b[0m\u001b[0mlong\u001b[0m\u001b[0;34m(\u001b[0m\u001b[0;34m)\u001b[0m\u001b[0;34m,\u001b[0m\u001b[0;34m\u001b[0m\u001b[0m\n\u001b[1;32m      5\u001b[0m                \u001b[0mvisual_feats\u001b[0m \u001b[0;34m=\u001b[0m \u001b[0;34m(\u001b[0m\u001b[0mtorch\u001b[0m\u001b[0;34m.\u001b[0m\u001b[0mrand\u001b[0m\u001b[0;34m(\u001b[0m\u001b[0;36m128\u001b[0m\u001b[0;34m,\u001b[0m\u001b[0;36m36\u001b[0m\u001b[0;34m,\u001b[0m\u001b[0;36m2048\u001b[0m\u001b[0;34m)\u001b[0m\u001b[0;34m,\u001b[0m\u001b[0mtorch\u001b[0m\u001b[0;34m.\u001b[0m\u001b[0mrand\u001b[0m\u001b[0;34m(\u001b[0m\u001b[0;36m128\u001b[0m\u001b[0;34m,\u001b[0m\u001b[0;36m36\u001b[0m\u001b[0;34m,\u001b[0m\u001b[0;36m4\u001b[0m\u001b[0;34m)\u001b[0m\u001b[0;34m)\u001b[0m\u001b[0;34m,\u001b[0m\u001b[0;34m\u001b[0m\u001b[0m\n\u001b[0;32m----> 6\u001b[0;31m                visual_attention_mask = None)\n\u001b[0m\u001b[1;32m      7\u001b[0m \u001b[0moutput\u001b[0m\u001b[0;34m[\u001b[0m\u001b[0;36m0\u001b[0m\u001b[0;34m]\u001b[0m\u001b[0;34m[\u001b[0m\u001b[0;36m0\u001b[0m\u001b[0;34m]\u001b[0m\u001b[0;34m.\u001b[0m\u001b[0mshape\u001b[0m\u001b[0;34m,\u001b[0m \u001b[0moutput\u001b[0m\u001b[0;34m[\u001b[0m\u001b[0;36m0\u001b[0m\u001b[0;34m]\u001b[0m\u001b[0;34m[\u001b[0m\u001b[0;36m1\u001b[0m\u001b[0;34m]\u001b[0m\u001b[0;34m.\u001b[0m\u001b[0mshape\u001b[0m\u001b[0;34m,\u001b[0m \u001b[0moutput\u001b[0m\u001b[0;34m[\u001b[0m\u001b[0;36m1\u001b[0m\u001b[0;34m]\u001b[0m\u001b[0;34m.\u001b[0m\u001b[0mshape\u001b[0m\u001b[0;34m\u001b[0m\u001b[0m\n",
            "\u001b[0;32m~/.local/lib/python3.6/site-packages/torch/nn/modules/module.py\u001b[0m in \u001b[0;36m__call__\u001b[0;34m(self, *input, **kwargs)\u001b[0m\n\u001b[1;32m    530\u001b[0m             \u001b[0mresult\u001b[0m \u001b[0;34m=\u001b[0m \u001b[0mself\u001b[0m\u001b[0;34m.\u001b[0m\u001b[0m_slow_forward\u001b[0m\u001b[0;34m(\u001b[0m\u001b[0;34m*\u001b[0m\u001b[0minput\u001b[0m\u001b[0;34m,\u001b[0m \u001b[0;34m**\u001b[0m\u001b[0mkwargs\u001b[0m\u001b[0;34m)\u001b[0m\u001b[0;34m\u001b[0m\u001b[0m\n\u001b[1;32m    531\u001b[0m         \u001b[0;32melse\u001b[0m\u001b[0;34m:\u001b[0m\u001b[0;34m\u001b[0m\u001b[0m\n\u001b[0;32m--> 532\u001b[0;31m             \u001b[0mresult\u001b[0m \u001b[0;34m=\u001b[0m \u001b[0mself\u001b[0m\u001b[0;34m.\u001b[0m\u001b[0mforward\u001b[0m\u001b[0;34m(\u001b[0m\u001b[0;34m*\u001b[0m\u001b[0minput\u001b[0m\u001b[0;34m,\u001b[0m \u001b[0;34m**\u001b[0m\u001b[0mkwargs\u001b[0m\u001b[0;34m)\u001b[0m\u001b[0;34m\u001b[0m\u001b[0m\n\u001b[0m\u001b[1;32m    533\u001b[0m         \u001b[0;32mfor\u001b[0m \u001b[0mhook\u001b[0m \u001b[0;32min\u001b[0m \u001b[0mself\u001b[0m\u001b[0;34m.\u001b[0m\u001b[0m_forward_hooks\u001b[0m\u001b[0;34m.\u001b[0m\u001b[0mvalues\u001b[0m\u001b[0;34m(\u001b[0m\u001b[0;34m)\u001b[0m\u001b[0;34m:\u001b[0m\u001b[0;34m\u001b[0m\u001b[0m\n\u001b[1;32m    534\u001b[0m             \u001b[0mhook_result\u001b[0m \u001b[0;34m=\u001b[0m \u001b[0mhook\u001b[0m\u001b[0;34m(\u001b[0m\u001b[0mself\u001b[0m\u001b[0;34m,\u001b[0m \u001b[0minput\u001b[0m\u001b[0;34m,\u001b[0m \u001b[0mresult\u001b[0m\u001b[0;34m)\u001b[0m\u001b[0;34m\u001b[0m\u001b[0m\n",
            "\u001b[0;32m<ipython-input-55-ab3173943757>\u001b[0m in \u001b[0;36mforward\u001b[0;34m(self, input_ids, token_type_ids, attention_mask, visual_feats, visual_attention_mask)\u001b[0m\n\u001b[1;32m     73\u001b[0m             \u001b[0mextended_attention_mask\u001b[0m\u001b[0;34m=\u001b[0m\u001b[0;32mNone\u001b[0m\u001b[0;34m,\u001b[0m\u001b[0;34m\u001b[0m\u001b[0m\n\u001b[1;32m     74\u001b[0m             \u001b[0mvisn_feats\u001b[0m\u001b[0;34m=\u001b[0m\u001b[0mvisual_feats\u001b[0m\u001b[0;34m,\u001b[0m\u001b[0;34m\u001b[0m\u001b[0m\n\u001b[0;32m---> 75\u001b[0;31m             visn_attention_mask=extended_visual_attention_mask)\n\u001b[0m\u001b[1;32m     76\u001b[0m \u001b[0;34m\u001b[0m\u001b[0m\n\u001b[1;32m     77\u001b[0m         \u001b[0mpooled_output\u001b[0m \u001b[0;34m=\u001b[0m \u001b[0mself\u001b[0m\u001b[0;34m.\u001b[0m\u001b[0mpooler\u001b[0m\u001b[0;34m(\u001b[0m\u001b[0mlang_feats\u001b[0m\u001b[0;34m)\u001b[0m\u001b[0;34m\u001b[0m\u001b[0m\n",
            "\u001b[0;32m~/.local/lib/python3.6/site-packages/torch/nn/modules/module.py\u001b[0m in \u001b[0;36m__call__\u001b[0;34m(self, *input, **kwargs)\u001b[0m\n\u001b[1;32m    530\u001b[0m             \u001b[0mresult\u001b[0m \u001b[0;34m=\u001b[0m \u001b[0mself\u001b[0m\u001b[0;34m.\u001b[0m\u001b[0m_slow_forward\u001b[0m\u001b[0;34m(\u001b[0m\u001b[0;34m*\u001b[0m\u001b[0minput\u001b[0m\u001b[0;34m,\u001b[0m \u001b[0;34m**\u001b[0m\u001b[0mkwargs\u001b[0m\u001b[0;34m)\u001b[0m\u001b[0;34m\u001b[0m\u001b[0m\n\u001b[1;32m    531\u001b[0m         \u001b[0;32melse\u001b[0m\u001b[0;34m:\u001b[0m\u001b[0;34m\u001b[0m\u001b[0m\n\u001b[0;32m--> 532\u001b[0;31m             \u001b[0mresult\u001b[0m \u001b[0;34m=\u001b[0m \u001b[0mself\u001b[0m\u001b[0;34m.\u001b[0m\u001b[0mforward\u001b[0m\u001b[0;34m(\u001b[0m\u001b[0;34m*\u001b[0m\u001b[0minput\u001b[0m\u001b[0;34m,\u001b[0m \u001b[0;34m**\u001b[0m\u001b[0mkwargs\u001b[0m\u001b[0;34m)\u001b[0m\u001b[0;34m\u001b[0m\u001b[0m\n\u001b[0m\u001b[1;32m    533\u001b[0m         \u001b[0;32mfor\u001b[0m \u001b[0mhook\u001b[0m \u001b[0;32min\u001b[0m \u001b[0mself\u001b[0m\u001b[0;34m.\u001b[0m\u001b[0m_forward_hooks\u001b[0m\u001b[0;34m.\u001b[0m\u001b[0mvalues\u001b[0m\u001b[0;34m(\u001b[0m\u001b[0;34m)\u001b[0m\u001b[0;34m:\u001b[0m\u001b[0;34m\u001b[0m\u001b[0m\n\u001b[1;32m    534\u001b[0m             \u001b[0mhook_result\u001b[0m \u001b[0;34m=\u001b[0m \u001b[0mhook\u001b[0m\u001b[0;34m(\u001b[0m\u001b[0mself\u001b[0m\u001b[0;34m,\u001b[0m \u001b[0minput\u001b[0m\u001b[0;34m,\u001b[0m \u001b[0mresult\u001b[0m\u001b[0;34m)\u001b[0m\u001b[0;34m\u001b[0m\u001b[0m\n",
            "\u001b[0;31mTypeError\u001b[0m: forward() got an unexpected keyword argument 'extended_attention_mask'"
          ]
        }
      ],
      "source": [
        "model = LXRTModel.from_pretrained(\"bert-base-uncased\",adapt_span_params=adapt_span_params)\n",
        "output = model(input_ids = torch.rand(128,20).long(), \n",
        "               token_type_ids = torch.rand(128,20).long(),\n",
        "               attention_mask = torch.rand(128,20).long(),\n",
        "               visual_feats = (torch.rand(128,36,2048),torch.rand(128,36,4)),\n",
        "               visual_attention_mask = None)\n",
        "output[0][0].shape, output[0][1].shape, output[1].shape"
      ]
    },
    {
      "cell_type": "code",
      "execution_count": null,
      "metadata": {
        "id": "p5cwZEhriBey"
      },
      "outputs": [],
      "source": [
        "class VisualBertForLXRFeature(BertPreTrainedModel):\n",
        "    \"\"\"\n",
        "    BERT model for classification.\n",
        "    \n",
        "    bert = VisualBertForLXRFeature.from_pretrained(\"bert-base-uncased\",mode='x')\n",
        "    \n",
        "    output = bert(input_ids = torch.rand(128,20).long(), \n",
        "              token_type_ids = torch.rand(128,20).long(),\n",
        "              attention_mask = torch.rand(128,20).long(),\n",
        "              visual_feats = (torch.rand(128,36,2048),torch.rand(128,36,4)), # for feats and boxes\n",
        "              visual_attention_mask = None)\n",
        "              \n",
        "    output.shape -> [128,768]          ,\n",
        "    \"\"\"\n",
        "    def __init__(self, config, adapt_span_params, mode='lxr',):\n",
        "        \"\"\"\n",
        "        :param config:\n",
        "        :param mode:  Number of visual layers\n",
        "        \"\"\"\n",
        "        super().__init__(config)\n",
        "        self.bert = LXRTModel(config,adapt_span_params)\n",
        "        self.mode = mode\n",
        "        self.apply(self.init_bert_weights)\n",
        "\n",
        "    def forward(self, input_ids, token_type_ids=None, attention_mask=None, visual_feats=None,\n",
        "                visual_attention_mask=None):\n",
        "        feat_seq, pooled_output = self.bert(input_ids, token_type_ids, attention_mask,\n",
        "                                            visual_feats=visual_feats,\n",
        "                                            visual_attention_mask=visual_attention_mask)\n",
        "        if 'x' == self.mode:\n",
        "            return pooled_output\n",
        "        elif 'x' in self.mode and ('l' in self.mode or 'r' in self.mode):\n",
        "            return feat_seq, pooled_output\n",
        "        elif 'l' in self.mode or 'r' in self.mode:\n",
        "            return feat_seq"
      ]
    },
    {
      "cell_type": "code",
      "execution_count": null,
      "metadata": {
        "id": "s9sfZzSYiBez"
      },
      "outputs": [],
      "source": [
        "bert = VisualBertForLXRFeature.from_pretrained(\"bert-base-uncased\",adapt_span_params=adapt_span_params,mode='x')\n",
        "output = bert(input_ids = torch.rand(128,20).long(), \n",
        "              token_type_ids = torch.rand(128,20).long(),\n",
        "              attention_mask = torch.rand(128,1024).long(),\n",
        "              visual_feats = (torch.rand(128,36,2048),torch.rand(128,36,4)),\n",
        "              visual_attention_mask = None)\n",
        "output.shape"
      ]
    },
    {
      "cell_type": "code",
      "execution_count": null,
      "metadata": {
        "id": "qtXysi_1iBe2"
      },
      "outputs": [],
      "source": [
        "class LXRTEncoder_(nn.Module):\n",
        "    \"\"\"\n",
        "    Usage:\n",
        "        Input:\n",
        "            lxrt_encoder = LXRTEncoder(args,MAX_VQA_LENGTH=20).cuda()\n",
        "            feat = torch.rand(128,36,2048).cuda()\n",
        "            pos = torch.rand(128,36,4).cuda()\n",
        "            sent = list(sentences) # len(sent) = batch_size i.e 128\n",
        "        \n",
        "        Output:\n",
        "            output = lxrt_encoder(sent, (feat.cuda(), pos.cuda())) # [128,768]\n",
        "    \"\"\"\n",
        "    def __init__(self, args, max_seq_length, adapt_span_params, mode='x'):\n",
        "        super().__init__()\n",
        "        self.max_seq_length = max_seq_length\n",
        "        set_visual_config(args)\n",
        "\n",
        "        # Using the bert tokenizer\n",
        "        self.tokenizer = BertTokenizer.from_pretrained(\n",
        "            \"bert-base-uncased\",\n",
        "            do_lower_case=True\n",
        "        )\n",
        "\n",
        "        # Build LXRT Model\n",
        "        self.model = VisualBertForLXRFeature.from_pretrained(\n",
        "            \"bert-base-uncased\",\n",
        "            adapt_span_params=adapt_span_params,\n",
        "            mode=mode\n",
        "        )\n",
        "\n",
        "        if args.from_scratch:\n",
        "            print(\"initializing all the weights\")\n",
        "            self.model.apply(self.model.init_bert_weights)\n",
        "\n",
        "    def multi_gpu(self):\n",
        "        self.model = nn.DataParallel(self.model)\n",
        "\n",
        "    @property\n",
        "    def dim(self):\n",
        "        return 768\n",
        "\n",
        "    def forward(self, sents, feats, visual_attention_mask=None):\n",
        "        \n",
        "        train_features = convert_sents_to_features(\n",
        "            sents, self.max_seq_length, self.tokenizer)\n",
        "\n",
        "        input_ids = torch.tensor([f.input_ids for f in train_features], dtype=torch.long).to(device)\n",
        "        input_mask = torch.tensor([f.input_mask for f in train_features], dtype=torch.long).to(device)\n",
        "        segment_ids = torch.tensor([f.segment_ids for f in train_features], dtype=torch.long).to(device)\n",
        "        \n",
        "        #input_ids.shape, [128,20]\n",
        "        #input_mask.shape, [128,20]\n",
        "        #segment_ids.shape [128,20]\n",
        "        print(visual_attention_mask.shape)\n",
        "        output = self.model(input_ids, segment_ids, input_mask,\n",
        "                            visual_feats=feats,\n",
        "                            visual_attention_mask=visual_attention_mask)\n",
        "        return output\n",
        "\n",
        "    def save(self, path):\n",
        "        torch.save(self.model.state_dict(),\n",
        "                   os.path.join(\"%s_LXRT.pth\" % path))\n",
        "\n",
        "    def load(self, path):\n",
        "        # Load state_dict from snapshot file\n",
        "        print(\"Load LXMERT pre-trained model from %s\" % path)\n",
        "        state_dict = torch.load(\"%s_LXRT.pth\" % path)\n",
        "        new_state_dict = {}\n",
        "        for key, value in state_dict.items():\n",
        "            if key.startswith(\"module.\"):\n",
        "                new_state_dict[key[len(\"module.\"):]] = value\n",
        "            else:\n",
        "                new_state_dict[key] = value\n",
        "        state_dict = new_state_dict\n",
        "\n",
        "        # Print out the differences of pre-trained and model weights.\n",
        "        load_keys = set(state_dict.keys())\n",
        "        model_keys = set(self.model.state_dict().keys())\n",
        "        print()\n",
        "        print(\"Weights in loaded but not in model:\")\n",
        "        for key in sorted(load_keys.difference(model_keys)):\n",
        "            print(key)\n",
        "        print()\n",
        "        print(\"Weights in model but not in loaded:\")\n",
        "        for key in sorted(model_keys.difference(load_keys)):\n",
        "            print(key)\n",
        "        print()\n",
        "\n",
        "        # Load weights to model\n",
        "        self.model.load_state_dict(state_dict, strict=False)\n"
      ]
    },
    {
      "cell_type": "code",
      "execution_count": null,
      "metadata": {
        "id": "tvd-2NkeiBe3"
      },
      "outputs": [],
      "source": [
        "lxrt_encoder = LXRTEncoder_(args,MAX_VQA_LENGTH,adapt_span_params)\n",
        "output = lxrt_encoder(sent, (feat.to(device), pos.to(device)))\n",
        "output.shape"
      ]
    },
    {
      "cell_type": "code",
      "execution_count": null,
      "metadata": {
        "id": "2OMUjN9miBe4"
      },
      "outputs": [],
      "source": [
        "class VQAModel(nn.Module):\n",
        "    def __init__(self, num_answers,adapt_span_params):\n",
        "        super().__init__()\n",
        "        \n",
        "        # Build LXRT encoder\n",
        "        self.lxrt_encoder = LXRTEncoder_(\n",
        "            args,\n",
        "            max_seq_length=MAX_VQA_LENGTH,\n",
        "            adapt_span_params=adapt_span_params\n",
        "        )\n",
        "        hid_dim = self.lxrt_encoder.dim\n",
        "        \n",
        "        # VQA Answer heads\n",
        "        self.logit_fc = nn.Sequential(\n",
        "            nn.Linear(hid_dim, hid_dim * 2),\n",
        "            GeLU(),\n",
        "            BertLayerNorm(hid_dim * 2, eps=1e-12),\n",
        "            nn.Linear(hid_dim * 2, num_answers)\n",
        "        )\n",
        "        self.logit_fc.apply(self.lxrt_encoder.model.init_bert_weights)\n",
        "\n",
        "    def forward(self, feat, pos, sent):\n",
        "        \"\"\"\n",
        "        b -- batch_size, o -- object_number, f -- visual_feature_size\n",
        "        :param feat: (b, o, f) # [128, 36, 2048]\n",
        "        :param pos:  (b, o, 4) # [128, 36, 4]\n",
        "        :param sent: (b,) Type -- list of string # 128\n",
        "        :param leng: (b,) Type -- int numpy array # [128, 3129]\n",
        "        :return: (b, num_answer) The logit of each answers.\n",
        "        \"\"\"\n",
        "        x = self.lxrt_encoder(sent, (feat, pos))\n",
        "        logit = self.logit_fc(x)\n",
        "\n",
        "        return logit"
      ]
    },
    {
      "cell_type": "code",
      "execution_count": null,
      "metadata": {
        "id": "CuFDNnl_iBe5",
        "outputId": "58c90b01-fcd9-4db1-a908-cfd8b23b2b69"
      },
      "outputs": [
        {
          "name": "stderr",
          "output_type": "stream",
          "text": [
            "I0119 01:12:57.582454 140150377503616 tokenization_utils.py:398] loading file https://s3.amazonaws.com/models.huggingface.co/bert/bert-base-uncased-vocab.txt from cache at /home/u37216/.cache/torch/transformers/26bc1ad6c0ac742e9b52263248f6d0f00068293b33709fae12320c0e35ccfbbb.542ce4285a40d23a559526243235df47c5f75c197f04f37d1a0c124c32c9a084\n",
            "I0119 01:12:57.949576 140150377503616 modeling.py:760] loading archive file https://s3.amazonaws.com/models.huggingface.co/bert/bert-base-uncased.tar.gz from cache at /home/u37216/.pytorch_pretrained_bert/9c41111e2de84547a463fd39217199738d1e3deb72d4fec4399e6e241983c6f0.ae3cef932725ca7a30cdcb93fc6e09150a55e2a130ec7af63975a16c153ae2ba\n",
            "I0119 01:12:57.965428 140150377503616 modeling.py:768] extracting archive file /home/u37216/.pytorch_pretrained_bert/9c41111e2de84547a463fd39217199738d1e3deb72d4fec4399e6e241983c6f0.ae3cef932725ca7a30cdcb93fc6e09150a55e2a130ec7af63975a16c153ae2ba to temp dir /home/u37216/tmp/tmpktdvp5t_\n",
            "I0119 01:13:04.879639 140150377503616 modeling.py:775] Model config {\n",
            "  \"attention_probs_dropout_prob\": 0.1,\n",
            "  \"hidden_act\": \"gelu\",\n",
            "  \"hidden_dropout_prob\": 0.1,\n",
            "  \"hidden_size\": 768,\n",
            "  \"initializer_range\": 0.02,\n",
            "  \"intermediate_size\": 3072,\n",
            "  \"max_position_embeddings\": 512,\n",
            "  \"num_attention_heads\": 12,\n",
            "  \"num_hidden_layers\": 12,\n",
            "  \"type_vocab_size\": 2,\n",
            "  \"vocab_size\": 30522\n",
            "}\n",
            "\n"
          ]
        },
        {
          "name": "stdout",
          "output_type": "stream",
          "text": [
            "LXRT encoder with 9 l_layers, 5 x_layers, and 5 r_layers.\n"
          ]
        }
      ],
      "source": [
        "model = VQAModel(3129, adapt_span_params).to(device)"
      ]
    },
    {
      "cell_type": "code",
      "execution_count": null,
      "metadata": {
        "id": "B9KYtrlniBe6"
      },
      "outputs": [],
      "source": [
        "from models.lxrt_adaptive import VQAModel_Adaptive"
      ]
    },
    {
      "cell_type": "code",
      "execution_count": null,
      "metadata": {
        "id": "4qAKiQeqiBe6",
        "outputId": "4658bcca-75dd-41a2-df8c-dcc74dbb1ed3"
      },
      "outputs": [
        {
          "name": "stderr",
          "output_type": "stream",
          "text": [
            "I0119 01:13:30.560217 140150377503616 tokenization_utils.py:398] loading file https://s3.amazonaws.com/models.huggingface.co/bert/bert-base-uncased-vocab.txt from cache at /home/u37216/.cache/torch/transformers/26bc1ad6c0ac742e9b52263248f6d0f00068293b33709fae12320c0e35ccfbbb.542ce4285a40d23a559526243235df47c5f75c197f04f37d1a0c124c32c9a084\n",
            "I0119 01:13:30.952306 140150377503616 modeling.py:760] loading archive file https://s3.amazonaws.com/models.huggingface.co/bert/bert-base-uncased.tar.gz from cache at /home/u37216/.pytorch_pretrained_bert/9c41111e2de84547a463fd39217199738d1e3deb72d4fec4399e6e241983c6f0.ae3cef932725ca7a30cdcb93fc6e09150a55e2a130ec7af63975a16c153ae2ba\n",
            "I0119 01:13:30.983885 140150377503616 modeling.py:768] extracting archive file /home/u37216/.pytorch_pretrained_bert/9c41111e2de84547a463fd39217199738d1e3deb72d4fec4399e6e241983c6f0.ae3cef932725ca7a30cdcb93fc6e09150a55e2a130ec7af63975a16c153ae2ba to temp dir /home/u37216/tmp/tmp3x9l1e4l\n",
            "I0119 01:13:37.292437 140150377503616 modeling.py:775] Model config {\n",
            "  \"attention_probs_dropout_prob\": 0.1,\n",
            "  \"hidden_act\": \"gelu\",\n",
            "  \"hidden_dropout_prob\": 0.1,\n",
            "  \"hidden_size\": 768,\n",
            "  \"initializer_range\": 0.02,\n",
            "  \"intermediate_size\": 3072,\n",
            "  \"max_position_embeddings\": 512,\n",
            "  \"num_attention_heads\": 12,\n",
            "  \"num_hidden_layers\": 12,\n",
            "  \"type_vocab_size\": 2,\n",
            "  \"vocab_size\": 30522\n",
            "}\n",
            "\n"
          ]
        },
        {
          "name": "stdout",
          "output_type": "stream",
          "text": [
            "LXRT encoder with 9 l_layers, 5 x_layers, and 5 r_layers.\n"
          ]
        }
      ],
      "source": [
        "model = VQAModel_Adaptive(3129, args,adapt_span_params).to(device)"
      ]
    },
    {
      "cell_type": "code",
      "execution_count": null,
      "metadata": {
        "id": "N5FvO_cSiBe7",
        "outputId": "6f23f428-6eed-43a2-f4f7-e9f56f7171b7"
      },
      "outputs": [
        {
          "data": {
            "text/plain": [
              "ModuleList(\n",
              "  (0): BertLayer(\n",
              "    (attention): BertSelfattLayer(\n",
              "      (self): BertAttention(\n",
              "        (query): Linear(in_features=768, out_features=768, bias=True)\n",
              "        (key): Linear(in_features=768, out_features=768, bias=True)\n",
              "        (value): Linear(in_features=768, out_features=768, bias=True)\n",
              "        (dropout): Dropout(p=0.1, inplace=False)\n",
              "        (adaptive_span): AdaptiveSpan(\n",
              "          (_mask): AdaptiveMask()\n",
              "        )\n",
              "      )\n",
              "      (output): BertAttOutput(\n",
              "        (dense): Linear(in_features=768, out_features=768, bias=True)\n",
              "        (LayerNorm): LayerNorm((768,), eps=1e-12, elementwise_affine=True)\n",
              "        (dropout): Dropout(p=0.1, inplace=False)\n",
              "      )\n",
              "    )\n",
              "    (intermediate): BertIntermediate(\n",
              "      (dense): Linear(in_features=768, out_features=3072, bias=True)\n",
              "      (intermediate_act_fn): GeLU()\n",
              "    )\n",
              "    (output): BertOutput(\n",
              "      (dense): Linear(in_features=3072, out_features=768, bias=True)\n",
              "      (LayerNorm): LayerNorm((768,), eps=1e-12, elementwise_affine=True)\n",
              "      (dropout): Dropout(p=0.1, inplace=False)\n",
              "    )\n",
              "  )\n",
              "  (1): BertLayer(\n",
              "    (attention): BertSelfattLayer(\n",
              "      (self): BertAttention(\n",
              "        (query): Linear(in_features=768, out_features=768, bias=True)\n",
              "        (key): Linear(in_features=768, out_features=768, bias=True)\n",
              "        (value): Linear(in_features=768, out_features=768, bias=True)\n",
              "        (dropout): Dropout(p=0.1, inplace=False)\n",
              "        (adaptive_span): AdaptiveSpan(\n",
              "          (_mask): AdaptiveMask()\n",
              "        )\n",
              "      )\n",
              "      (output): BertAttOutput(\n",
              "        (dense): Linear(in_features=768, out_features=768, bias=True)\n",
              "        (LayerNorm): LayerNorm((768,), eps=1e-12, elementwise_affine=True)\n",
              "        (dropout): Dropout(p=0.1, inplace=False)\n",
              "      )\n",
              "    )\n",
              "    (intermediate): BertIntermediate(\n",
              "      (dense): Linear(in_features=768, out_features=3072, bias=True)\n",
              "      (intermediate_act_fn): GeLU()\n",
              "    )\n",
              "    (output): BertOutput(\n",
              "      (dense): Linear(in_features=3072, out_features=768, bias=True)\n",
              "      (LayerNorm): LayerNorm((768,), eps=1e-12, elementwise_affine=True)\n",
              "      (dropout): Dropout(p=0.1, inplace=False)\n",
              "    )\n",
              "  )\n",
              "  (2): BertLayer(\n",
              "    (attention): BertSelfattLayer(\n",
              "      (self): BertAttention(\n",
              "        (query): Linear(in_features=768, out_features=768, bias=True)\n",
              "        (key): Linear(in_features=768, out_features=768, bias=True)\n",
              "        (value): Linear(in_features=768, out_features=768, bias=True)\n",
              "        (dropout): Dropout(p=0.1, inplace=False)\n",
              "        (adaptive_span): AdaptiveSpan(\n",
              "          (_mask): AdaptiveMask()\n",
              "        )\n",
              "      )\n",
              "      (output): BertAttOutput(\n",
              "        (dense): Linear(in_features=768, out_features=768, bias=True)\n",
              "        (LayerNorm): LayerNorm((768,), eps=1e-12, elementwise_affine=True)\n",
              "        (dropout): Dropout(p=0.1, inplace=False)\n",
              "      )\n",
              "    )\n",
              "    (intermediate): BertIntermediate(\n",
              "      (dense): Linear(in_features=768, out_features=3072, bias=True)\n",
              "      (intermediate_act_fn): GeLU()\n",
              "    )\n",
              "    (output): BertOutput(\n",
              "      (dense): Linear(in_features=3072, out_features=768, bias=True)\n",
              "      (LayerNorm): LayerNorm((768,), eps=1e-12, elementwise_affine=True)\n",
              "      (dropout): Dropout(p=0.1, inplace=False)\n",
              "    )\n",
              "  )\n",
              "  (3): BertLayer(\n",
              "    (attention): BertSelfattLayer(\n",
              "      (self): BertAttention(\n",
              "        (query): Linear(in_features=768, out_features=768, bias=True)\n",
              "        (key): Linear(in_features=768, out_features=768, bias=True)\n",
              "        (value): Linear(in_features=768, out_features=768, bias=True)\n",
              "        (dropout): Dropout(p=0.1, inplace=False)\n",
              "        (adaptive_span): AdaptiveSpan(\n",
              "          (_mask): AdaptiveMask()\n",
              "        )\n",
              "      )\n",
              "      (output): BertAttOutput(\n",
              "        (dense): Linear(in_features=768, out_features=768, bias=True)\n",
              "        (LayerNorm): LayerNorm((768,), eps=1e-12, elementwise_affine=True)\n",
              "        (dropout): Dropout(p=0.1, inplace=False)\n",
              "      )\n",
              "    )\n",
              "    (intermediate): BertIntermediate(\n",
              "      (dense): Linear(in_features=768, out_features=3072, bias=True)\n",
              "      (intermediate_act_fn): GeLU()\n",
              "    )\n",
              "    (output): BertOutput(\n",
              "      (dense): Linear(in_features=3072, out_features=768, bias=True)\n",
              "      (LayerNorm): LayerNorm((768,), eps=1e-12, elementwise_affine=True)\n",
              "      (dropout): Dropout(p=0.1, inplace=False)\n",
              "    )\n",
              "  )\n",
              "  (4): BertLayer(\n",
              "    (attention): BertSelfattLayer(\n",
              "      (self): BertAttention(\n",
              "        (query): Linear(in_features=768, out_features=768, bias=True)\n",
              "        (key): Linear(in_features=768, out_features=768, bias=True)\n",
              "        (value): Linear(in_features=768, out_features=768, bias=True)\n",
              "        (dropout): Dropout(p=0.1, inplace=False)\n",
              "        (adaptive_span): AdaptiveSpan(\n",
              "          (_mask): AdaptiveMask()\n",
              "        )\n",
              "      )\n",
              "      (output): BertAttOutput(\n",
              "        (dense): Linear(in_features=768, out_features=768, bias=True)\n",
              "        (LayerNorm): LayerNorm((768,), eps=1e-12, elementwise_affine=True)\n",
              "        (dropout): Dropout(p=0.1, inplace=False)\n",
              "      )\n",
              "    )\n",
              "    (intermediate): BertIntermediate(\n",
              "      (dense): Linear(in_features=768, out_features=3072, bias=True)\n",
              "      (intermediate_act_fn): GeLU()\n",
              "    )\n",
              "    (output): BertOutput(\n",
              "      (dense): Linear(in_features=3072, out_features=768, bias=True)\n",
              "      (LayerNorm): LayerNorm((768,), eps=1e-12, elementwise_affine=True)\n",
              "      (dropout): Dropout(p=0.1, inplace=False)\n",
              "    )\n",
              "  )\n",
              "  (5): BertLayer(\n",
              "    (attention): BertSelfattLayer(\n",
              "      (self): BertAttention(\n",
              "        (query): Linear(in_features=768, out_features=768, bias=True)\n",
              "        (key): Linear(in_features=768, out_features=768, bias=True)\n",
              "        (value): Linear(in_features=768, out_features=768, bias=True)\n",
              "        (dropout): Dropout(p=0.1, inplace=False)\n",
              "        (adaptive_span): AdaptiveSpan(\n",
              "          (_mask): AdaptiveMask()\n",
              "        )\n",
              "      )\n",
              "      (output): BertAttOutput(\n",
              "        (dense): Linear(in_features=768, out_features=768, bias=True)\n",
              "        (LayerNorm): LayerNorm((768,), eps=1e-12, elementwise_affine=True)\n",
              "        (dropout): Dropout(p=0.1, inplace=False)\n",
              "      )\n",
              "    )\n",
              "    (intermediate): BertIntermediate(\n",
              "      (dense): Linear(in_features=768, out_features=3072, bias=True)\n",
              "      (intermediate_act_fn): GeLU()\n",
              "    )\n",
              "    (output): BertOutput(\n",
              "      (dense): Linear(in_features=3072, out_features=768, bias=True)\n",
              "      (LayerNorm): LayerNorm((768,), eps=1e-12, elementwise_affine=True)\n",
              "      (dropout): Dropout(p=0.1, inplace=False)\n",
              "    )\n",
              "  )\n",
              "  (6): BertLayer(\n",
              "    (attention): BertSelfattLayer(\n",
              "      (self): BertAttention(\n",
              "        (query): Linear(in_features=768, out_features=768, bias=True)\n",
              "        (key): Linear(in_features=768, out_features=768, bias=True)\n",
              "        (value): Linear(in_features=768, out_features=768, bias=True)\n",
              "        (dropout): Dropout(p=0.1, inplace=False)\n",
              "        (adaptive_span): AdaptiveSpan(\n",
              "          (_mask): AdaptiveMask()\n",
              "        )\n",
              "      )\n",
              "      (output): BertAttOutput(\n",
              "        (dense): Linear(in_features=768, out_features=768, bias=True)\n",
              "        (LayerNorm): LayerNorm((768,), eps=1e-12, elementwise_affine=True)\n",
              "        (dropout): Dropout(p=0.1, inplace=False)\n",
              "      )\n",
              "    )\n",
              "    (intermediate): BertIntermediate(\n",
              "      (dense): Linear(in_features=768, out_features=3072, bias=True)\n",
              "      (intermediate_act_fn): GeLU()\n",
              "    )\n",
              "    (output): BertOutput(\n",
              "      (dense): Linear(in_features=3072, out_features=768, bias=True)\n",
              "      (LayerNorm): LayerNorm((768,), eps=1e-12, elementwise_affine=True)\n",
              "      (dropout): Dropout(p=0.1, inplace=False)\n",
              "    )\n",
              "  )\n",
              "  (7): BertLayer(\n",
              "    (attention): BertSelfattLayer(\n",
              "      (self): BertAttention(\n",
              "        (query): Linear(in_features=768, out_features=768, bias=True)\n",
              "        (key): Linear(in_features=768, out_features=768, bias=True)\n",
              "        (value): Linear(in_features=768, out_features=768, bias=True)\n",
              "        (dropout): Dropout(p=0.1, inplace=False)\n",
              "        (adaptive_span): AdaptiveSpan(\n",
              "          (_mask): AdaptiveMask()\n",
              "        )\n",
              "      )\n",
              "      (output): BertAttOutput(\n",
              "        (dense): Linear(in_features=768, out_features=768, bias=True)\n",
              "        (LayerNorm): LayerNorm((768,), eps=1e-12, elementwise_affine=True)\n",
              "        (dropout): Dropout(p=0.1, inplace=False)\n",
              "      )\n",
              "    )\n",
              "    (intermediate): BertIntermediate(\n",
              "      (dense): Linear(in_features=768, out_features=3072, bias=True)\n",
              "      (intermediate_act_fn): GeLU()\n",
              "    )\n",
              "    (output): BertOutput(\n",
              "      (dense): Linear(in_features=3072, out_features=768, bias=True)\n",
              "      (LayerNorm): LayerNorm((768,), eps=1e-12, elementwise_affine=True)\n",
              "      (dropout): Dropout(p=0.1, inplace=False)\n",
              "    )\n",
              "  )\n",
              "  (8): BertLayer(\n",
              "    (attention): BertSelfattLayer(\n",
              "      (self): BertAttention(\n",
              "        (query): Linear(in_features=768, out_features=768, bias=True)\n",
              "        (key): Linear(in_features=768, out_features=768, bias=True)\n",
              "        (value): Linear(in_features=768, out_features=768, bias=True)\n",
              "        (dropout): Dropout(p=0.1, inplace=False)\n",
              "        (adaptive_span): AdaptiveSpan(\n",
              "          (_mask): AdaptiveMask()\n",
              "        )\n",
              "      )\n",
              "      (output): BertAttOutput(\n",
              "        (dense): Linear(in_features=768, out_features=768, bias=True)\n",
              "        (LayerNorm): LayerNorm((768,), eps=1e-12, elementwise_affine=True)\n",
              "        (dropout): Dropout(p=0.1, inplace=False)\n",
              "      )\n",
              "    )\n",
              "    (intermediate): BertIntermediate(\n",
              "      (dense): Linear(in_features=768, out_features=3072, bias=True)\n",
              "      (intermediate_act_fn): GeLU()\n",
              "    )\n",
              "    (output): BertOutput(\n",
              "      (dense): Linear(in_features=3072, out_features=768, bias=True)\n",
              "      (LayerNorm): LayerNorm((768,), eps=1e-12, elementwise_affine=True)\n",
              "      (dropout): Dropout(p=0.1, inplace=False)\n",
              "    )\n",
              "  )\n",
              ")"
            ]
          },
          "execution_count": 71,
          "metadata": {},
          "output_type": "execute_result"
        }
      ],
      "source": [
        "model.lxrt_encoder.model.bert.encoder.layer"
      ]
    },
    {
      "cell_type": "code",
      "execution_count": null,
      "metadata": {
        "id": "iwgZSwNeiBe8",
        "outputId": "ae66d548-99e7-4b54-b481-1d2bad19838e"
      },
      "outputs": [
        {
          "name": "stdout",
          "output_type": "stream",
          "text": [
            "tensor(0., grad_fn=<AddBackward0>)\n"
          ]
        }
      ],
      "source": [
        "l=0\n",
        "for i in model.lxrt_encoder.model.bert.encoder.layer:\n",
        "    l += i.attention.self.adaptive_span.get_loss()\n",
        "print(l)"
      ]
    },
    {
      "cell_type": "code",
      "execution_count": null,
      "metadata": {
        "id": "mxonPsUKiBe9",
        "outputId": "7af322fd-25fd-4c55-940d-e0826f1c4499"
      },
      "outputs": [
        {
          "name": "stdout",
          "output_type": "stream",
          "text": [
            "32\n",
            "32\n",
            "32\n",
            "32\n",
            "32\n",
            "32\n",
            "32\n",
            "32\n",
            "32\n"
          ]
        }
      ],
      "source": [
        "l=0\n",
        "for i in model.lxrt_encoder.model.bert.encoder.layer:\n",
        "    l = i.attention.self.adaptive_span.get_current_avg_span()\n",
        "    print(l)"
      ]
    },
    {
      "cell_type": "code",
      "execution_count": null,
      "metadata": {
        "id": "YvkeHoBaiBe-"
      },
      "outputs": [],
      "source": [
        "feat = torch.rand(128,36,2048)\n",
        "pos = torch.rand(128,36,4)\n",
        "\n",
        "sent=['Are there any people in this photo?',\n",
        " 'How many Almira in this bathroom?',\n",
        " \"Does this animal resemble man's best friend?\",\n",
        " 'What sport is being played?',\n",
        " 'Is the sink gray?',\n",
        " 'Why type of flowers are in the vase?',\n",
        " 'Are they playing at a park?',\n",
        " 'What is the man doing?',\n",
        " 'Of what material is the shower curtain?',\n",
        " \"What company's name is seen?\",\n",
        " 'Where are they all going?',\n",
        " 'Is it a hot day?',\n",
        " 'In what type of establishment is this picture most likely taken?',\n",
        " 'Do these foods appear healthy?',\n",
        " 'How many lamps are there?',\n",
        " 'How many sets of giraffes have their necks crossed?',\n",
        " 'How many legs are there?',\n",
        " 'What is this type of bike?',\n",
        " 'What are they wearing on their heads?',\n",
        " 'How many glass objects are on the windowsill?',\n",
        " 'What is the person holding in their hand?',\n",
        " 'What is the biggest thing on the road?',\n",
        " 'What color is the animal in the sink?',\n",
        " 'Is he wet mostly from water or mostly from alcohol?',\n",
        " 'Is the cat sad?',\n",
        " \"Do the man's cap and shorts match?\",\n",
        " 'Is she wearing a skirt or shorts?',\n",
        " 'Does everyone have a shirt on?',\n",
        " 'Have these sheep been sheared?',\n",
        " 'Are here buildings?',\n",
        " 'Is this a dairy farm?',\n",
        " 'What are the people on the scene wearing?',\n",
        " 'What does the sign say at the bottom?',\n",
        " 'Is this a collage?',\n",
        " 'Where is the baby standing?',\n",
        " 'What time is it?',\n",
        " 'Who does the sandwich belong to?',\n",
        " 'Is this picture from a zoo?',\n",
        " 'What number is on the clock?',\n",
        " 'Do the power lines go through the Magnolia tree?',\n",
        " 'How many stickers on the computer?',\n",
        " 'Is the cat overweight?',\n",
        " 'What kind of bread is shown?',\n",
        " 'Is he going into the ocean?',\n",
        " 'Are the computers on?',\n",
        " 'What brand is the board?',\n",
        " 'How many kites are in the air?',\n",
        " 'What are the cows walking on?',\n",
        " 'What is the man standing on?',\n",
        " 'Is this a tall animal?',\n",
        " 'How many people are cutting this cake?',\n",
        " \"What colors are on this man's shirt?\",\n",
        " 'Which man is speaking?',\n",
        " 'How many people are on the beach?',\n",
        " 'What color is the elephant in the right hand picture?',\n",
        " 'Would you expect to find this animal at the beach?',\n",
        " 'What is flying in the sky?',\n",
        " 'Does near the door need painted?',\n",
        " 'How many stitch lines are on the inseam of these jeans?',\n",
        " 'What color is this fruit?',\n",
        " 'How many slices of pizza are there?',\n",
        " \"What color is the woman's jacket?\",\n",
        " 'Can you see people in the picture?',\n",
        " 'How many phones are shown?',\n",
        " 'What was the name of the company?',\n",
        " 'What country is this?',\n",
        " 'Is the graffiti considered artwork?',\n",
        " 'What is the man on the right doing?',\n",
        " 'What color is the court?',\n",
        " 'Does this guys headband match his shirt?',\n",
        " 'Is he in the air?',\n",
        " 'Is this type of bird currently endangered?',\n",
        " 'Has the woman fallen?',\n",
        " 'What color is the nearest streamer?',\n",
        " 'What date was the photo taken?',\n",
        " 'Are there any vegetables on the plate with the sandwich?',\n",
        " 'What kind of paper is on the floor?',\n",
        " \"What country's flag can be seen in the background?\",\n",
        " 'How many dogs are looking in front of them?',\n",
        " 'What type of room is this?',\n",
        " 'Is this a fun sport?',\n",
        " 'Does the fire hydrant need to be painted?',\n",
        " 'How many electronic devices are in the photo?',\n",
        " 'What is advertised on the back of the truck?',\n",
        " 'What geographical features are located in the background of the picture?',\n",
        " 'Which animal is more appropriate for a child?',\n",
        " 'Is the light on in the refrigerator?',\n",
        " 'What are group does this female belong in?',\n",
        " 'What is the man doing?',\n",
        " 'How old is the person receiving this?',\n",
        " 'Is the man wearing a hat?',\n",
        " 'What is in the reflection?',\n",
        " 'How many animals are there?',\n",
        " 'What herb is sprinkled on the pizza slice?',\n",
        " 'How many people are pictured?',\n",
        " 'Does the horse do this because it wants to?',\n",
        " \"What is the letter above the people's head?\",\n",
        " 'Is there a car in the background?',\n",
        " 'What does the white street sign say?',\n",
        " 'What holiday are they celebrating?',\n",
        " 'What is on top of table in the vase?',\n",
        " 'What is the color of the side mirror?',\n",
        " 'What is the color of the elephant?',\n",
        " 'Who many donuts have they eaten?',\n",
        " 'Is everybody in this picture a girl?',\n",
        " 'Is the cup half full?',\n",
        " 'What type of wall is in the background?',\n",
        " 'Which horse is the youngest?',\n",
        " 'How many pepperonis are on this pizza?',\n",
        " 'Is the kite multi colored?',\n",
        " 'Are they celebrating?',\n",
        " 'What time is this?',\n",
        " \"What's in the bag?\",\n",
        " \"Is there a face painting on the person's finger in the picture?\",\n",
        " 'How many zebras in the photo?',\n",
        " 'What is she eating?',\n",
        " 'What can you see out the window?',\n",
        " 'Is the person very old?',\n",
        " 'What is emitting light?',\n",
        " 'Are the numbers on the clock Roman numerals??',\n",
        " 'How many people are in the picture?',\n",
        " 'Is this child feeding the elephant?',\n",
        " 'How many people are standing?',\n",
        " 'What is colorful on the ramp?',\n",
        " 'What is on the plate?',\n",
        " 'When was the picture taken?',\n",
        " 'Is the keyboard wireless?',\n",
        " 'Is the woman smiling?']"
      ]
    },
    {
      "cell_type": "code",
      "execution_count": null,
      "metadata": {
        "id": "oolaAd44iBfA"
      },
      "outputs": [],
      "source": []
    }
  ],
  "metadata": {
    "kernelspec": {
      "display_name": "torch",
      "language": "python",
      "name": "torch"
    },
    "language_info": {
      "codemirror_mode": {
        "name": "ipython",
        "version": 3
      },
      "file_extension": ".py",
      "mimetype": "text/x-python",
      "name": "python",
      "nbconvert_exporter": "python",
      "pygments_lexer": "ipython3",
      "version": "3.6.3"
    },
    "colab": {
      "provenance": []
    }
  },
  "nbformat": 4,
  "nbformat_minor": 0
}