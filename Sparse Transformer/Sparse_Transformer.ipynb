{
  "nbformat": 4,
  "nbformat_minor": 0,
  "metadata": {
    "colab": {
      "provenance": [],
      "authorship_tag": "ABX9TyOBVPDbVEAHiKoNDmnU40t0",
      "include_colab_link": true
    },
    "kernelspec": {
      "name": "python3",
      "display_name": "Python 3"
    },
    "language_info": {
      "name": "python"
    }
  },
  "cells": [
    {
      "cell_type": "markdown",
      "metadata": {
        "id": "view-in-github",
        "colab_type": "text"
      },
      "source": [
        "<a href=\"https://colab.research.google.com/github/onlyabhilash/Transformers_with_NLP/blob/main/Sparse%20Transformer/Sparse_Transformer.ipynb\" target=\"_parent\"><img src=\"https://colab.research.google.com/assets/colab-badge.svg\" alt=\"Open In Colab\"/></a>"
      ]
    },
    {
      "cell_type": "code",
      "execution_count": null,
      "metadata": {
        "id": "7jYh7aqDrgFv"
      },
      "outputs": [],
      "source": [
        "import torch\n",
        "import torch_blocksparse\n",
        "\n",
        "# Z: non-sparse batch dimension\n",
        "# H: sparse batch dimension\n",
        "# M: row dimension\n",
        "# N: column dimension\n",
        "Z, H, M, N, K = 4, 2, 256, 512, 384\n",
        "a = torch.rand((Z, H, M, K), dtype=torch.float32).cuda()\n",
        "b = torch.rand((Z, H, K, N), dtype=torch.float32).cuda()\n",
        "# create sparsity layout\n",
        "block = 16\n",
        "layout = torch.randint(0, 2, (H, M//block, N//block))\n",
        "# create object for Sparse = trans(Dense) x Dense (sdd)\n",
        "# some overhead there as it pre-computes look-up tables \n",
        "# internally needed by GPU kernels\n",
        "dot = torch_blocksparse.MatMul(layout, block, 'sdd', trans_a=True, trans_b=False)\n",
        "c = dot(a, b)\n",
        "# create object for Sparse = softmax(Sparse)\n",
        "softmax = torch_blocksparse.Softmax(layout, block)\n",
        "d = softmax(c)"
      ]
    }
  ]
}